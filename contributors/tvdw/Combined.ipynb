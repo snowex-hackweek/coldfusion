{
 "cells": [
  {
   "cell_type": "markdown",
   "id": "3d47a251-0c3e-4822-9271-d6ac5c031763",
   "metadata": {},
   "source": [
    "# ColdFusion\n",
    "### GPR-LIDAR-FUSION\n",
    "7/12/22\n",
    "\n",
    "Query the SnowEx database to extract ground based snow depth measurements, snow pit density, GPR tracks, and Lidar point clounds where there is spatial and temporal overlap in a defined area.\n",
    "\n",
    "Use the lidar snow depth measurements to inform the GPR density estimate to get SWE.\n",
    "\n",
    "Test these density/SWE estimates against snowpit values"
   ]
  },
  {
   "cell_type": "code",
   "execution_count": 2,
   "id": "d9413b18-ec9f-44e0-8a85-a306356c2e5e",
   "metadata": {},
   "outputs": [],
   "source": [
    "# Imports\n",
    "from snowexsql.db import get_db\n",
    "from snowexsql.data import PointData, LayerData, ImageData, SiteData\n",
    "from snowexsql.conversions import query_to_geopandas, query_to_pandas\n",
    "from snowexsql.db import get_table_attributes\n",
    "\n",
    "import datetime\n",
    "from sqlalchemy import inspect\n",
    "from sqlalchemy.sql import func\n",
    "import shapely.geometry\n",
    "from geoalchemy2.shape import from_shape\n",
    "import geoalchemy2.functions as gfunc\n",
    "\n",
    "# Imports for Lidar raster\n",
    "import numpy as np\n",
    "import geopandas as gpd\n",
    "import matplotlib\n",
    "import matplotlib.pyplot as plt\n",
    "\n",
    "# some mapping widgets\n",
    "import ipyleaflet\n",
    "from ipyleaflet import Map, GeoData, Rectangle, basemaps, LayersControl, basemap_to_tiles, TileLayer, SplitMapControl, Polygon, MagnifyingGlass\n",
    "import ipywidgets\n",
    "\n",
    "# load the database\n",
    "db_name = 'snow:hackweek@db.snowexdata.org/snowex'"
   ]
  },
  {
   "cell_type": "markdown",
   "id": "505e4df6-363f-4e3b-bf11-fb90cf47f3dd",
   "metadata": {},
   "source": [
    "### Define Constants"
   ]
  },
  {
   "cell_type": "code",
   "execution_count": 3,
   "id": "0f5ba5e8-c0f1-4d65-acfe-872f3cd4d84d",
   "metadata": {},
   "outputs": [],
   "source": [
    "# How to pull out ALL point data from the database that falls within our box\n",
    "bbox_WSEN = 742000, 4322000, 747000, 4325000 # EPSG 26912?\n",
    "x1, y1, x2, y2 = bbox_WSEN\n",
    "polygon = shapely.geometry.Polygon([[x1, y1], [x1, y2], [x2, y2], [x2, y1]]) # used box() before\n",
    "wkb_element = from_shape(polygon, srid=26912) # which srid is right?\n",
    "\n",
    "# Define Dates\n",
    "date1 = datetime.date(2020,1,29)\n",
    "date2 = datetime.date(2020,2,6)"
   ]
  },
  {
   "cell_type": "markdown",
   "id": "2c93a8b0-cf9c-4c9f-8753-b213ab0108f1",
   "metadata": {},
   "source": [
    "### Magnaprobe Data"
   ]
  },
  {
   "cell_type": "code",
   "execution_count": 4,
   "id": "21776628-2404-4131-a4ac-cb8c2f6a5881",
   "metadata": {},
   "outputs": [
    {
     "name": "stdout",
     "output_type": "stream",
     "text": [
      "16556 records returned!\n"
     ]
    }
   ],
   "source": [
    "# Instrument name \n",
    "site_name = \"Grand Mesa\"\n",
    "instrument = \"magnaprobe\" \n",
    "\n",
    "# Get a session\n",
    "engine, session = get_db(db_name)\n",
    "\n",
    "# Find the magnaprobe PointData in the defined area within the given dates \n",
    "query_mp = session.query(PointData.geom, PointData.easting, PointData.northing, PointData.date, PointData.value, \n",
    "                    PointData.type, PointData.instrument)\n",
    "\n",
    "# Filter by site\n",
    "query_mp = query_mp.filter(PointData.site_name == site_name)\n",
    "# Filter by bounding box \n",
    "query_mp = query_mp.filter(gfunc.ST_Within(PointData.geom, wkb_element))\n",
    "# Filter by an instrument \n",
    "query_mp = query_mp.filter(PointData.instrument == instrument) # .in_(['magnaprobe', 'pit_ruler']))\n",
    "\n",
    "# Slicing the dataset for specified dates \n",
    "query_mp = query_mp.filter(PointData.date >= date1)\n",
    "query_mp = query_mp.filter(PointData.date <= date2)\n",
    "\n",
    "# Execute the query and convert to geopandas in one handy function\n",
    "df_mp = query_to_geopandas(query_mp, engine) #directly pass to geopandas dataframe\n",
    "\n",
    "# How many did were retrieved \n",
    "print(f'{len(df_mp.index)} records returned!')\n",
    "\n",
    "session.close()"
   ]
  },
  {
   "cell_type": "code",
   "execution_count": 5,
   "id": "b4f8b97f-81ba-4eb9-9786-004089353639",
   "metadata": {},
   "outputs": [
    {
     "data": {
      "text/plain": [
       "<matplotlib.collections.PathCollection at 0x7fda9154f610>"
      ]
     },
     "execution_count": 5,
     "metadata": {},
     "output_type": "execute_result"
    },
    {
     "data": {
      "image/png": "[encoded data removed]",
      "text/plain": [
       "<Figure size 432x288 with 1 Axes>"
      ]
     },
     "metadata": {
      "needs_background": "light"
     },
     "output_type": "display_data"
    }
   ],
   "source": [
    "# Plot sites\n",
    "plt.scatter(df_mp['easting'], df_mp['northing'], alpha = 0.3, s = 0.05, c = 'red')\n",
    "\n",
    "# View dataframe \n",
    "# df_mp = df_mp.sort_values(by = ['date'])\n",
    "# print(df_mp.head())"
   ]
  },
  {
   "cell_type": "markdown",
   "id": "1cc40953-332f-4d05-9ab9-fc753024a6f9",
   "metadata": {},
   "source": [
    "### Snow Pit measurements"
   ]
  },
  {
   "cell_type": "code",
   "execution_count": 6,
   "id": "0df00d81-37f4-4d5c-ac32-c0013da6f7fb",
   "metadata": {},
   "outputs": [
    {
     "name": "stderr",
     "output_type": "stream",
     "text": [
      "/tmp/ipykernel_89/3061429306.py:19: SAWarning: UserDefinedType Geometry(geometry_type='POINT') will not produce a cache key because the ``cache_ok`` attribute is not set to True.  This can have significant performance implications including some performance degradations in comparison to prior SQLAlchemy versions.  Set this attribute to True if this type object's state is safe to use in a cache key, or False to disable this warning. (Background on this error at: https://sqlalche.me/e/14/cprf)\n",
      "  count_meas = query_sp.count()\n",
      "/tmp/ipykernel_89/3061429306.py:19: SAWarning: Class ST_Within will not make use of SQL compilation caching as it does not set the 'inherit_cache' attribute to ``True``.  This can have significant performance implications including some performance degradations in comparison to prior SQLAlchemy versions.  Set this attribute to True if this object can make use of the cache key generated by the superclass.  Alternatively, this attribute may be set to False which will disable this warning. (Background on this error at: https://sqlalche.me/e/14/cprf)\n",
      "  count_meas = query_sp.count()\n"
     ]
    },
    {
     "name": "stdout",
     "output_type": "stream",
     "text": [
      "1292  Snowpit density measurements returned!\n",
      "\n",
      "70  Snowpit density locations returned!\n",
      "\n"
     ]
    }
   ],
   "source": [
    "# Start the session\n",
    "engine, session = get_db(db_name)\n",
    "\n",
    "# Find the snowpit LayerData in the defined area within given dates\n",
    "query_sp = session.query(LayerData.geom, LayerData.easting, LayerData.northing, LayerData.date, LayerData.value, \n",
    "                      LayerData.pit_id, LayerData.type, LayerData.instrument)\n",
    "\n",
    "# Filter by site (probably not needed)\n",
    "# query_sp = query_sp.filter(LayerData.site_name == 'Grand Mesa')\n",
    "# Filter by bounding box\n",
    "query_sp = query_sp.filter(gfunc.ST_Within(LayerData.geom, wkb_element))\n",
    "# Filter by type (pit density)\n",
    "query_sp = query_sp.filter(LayerData.type == \"density\")\n",
    "\n",
    "# Slicing the dataset for specified dates \n",
    "query_sp = query_sp.filter(LayerData.date >= date1)\n",
    "query_sp = query_sp.filter(LayerData.date <= date2)\n",
    "\n",
    "count_meas = query_sp.count() \n",
    "print(count_meas, \" Snowpit density measurements returned!\\n\") \n",
    "\n",
    "# convert to pandas dataframe  \n",
    "df_sp = query_to_pandas(query_sp, engine)  \n",
    "\n",
    "# create list of the unique dates (LayerData will have a lot of repeated dates, we only need a list per visit, not per measurement)\n",
    "locations = sorted(df_sp['pit_id'].unique())\n",
    "count_pits = len(locations) \n",
    "print(count_pits, \" Snowpit density locations returned!\\n\") \n",
    "\n",
    "session.close()"
   ]
  },
  {
   "cell_type": "code",
   "execution_count": 7,
   "id": "10355245-5a3d-41bb-8ec2-cef593ee2d4a",
   "metadata": {},
   "outputs": [
    {
     "data": {
      "text/plain": [
       "<matplotlib.collections.PathCollection at 0x7fda8f0d6530>"
      ]
     },
     "execution_count": 7,
     "metadata": {},
     "output_type": "execute_result"
    },
    {
     "data": {
      "image/png": "[encoded data removed]",
      "text/plain": [
       "<Figure size 432x288 with 1 Axes>"
      ]
     },
     "metadata": {
      "needs_background": "light"
     },
     "output_type": "display_data"
    }
   ],
   "source": [
    "# Plot sites\n",
    "plt.scatter(df_sp['easting'], df_sp['northing'])"
   ]
  },
  {
   "cell_type": "code",
   "execution_count": 17,
   "id": "bd218a0c-faaf-4d60-9dd9-586f06cab797",
   "metadata": {},
   "outputs": [
    {
     "name": "stdout",
     "output_type": "stream",
     "text": [
      "Index(['geom', 'easting', 'northing', 'date', 'value', 'pit_id', 'type',\n",
      "       'instrument'],\n",
      "      dtype='object')\n",
      "                    easting   northing       value\n",
      "pit_id                                            \n",
      "COGM1N20_20200205  743281.0  4324005.0  230.750000\n",
      "COGM1S13_20200205  743277.0  4322508.0  320.312500\n",
      "COGM1S8_20200201   742607.0  4322917.0  261.023810\n",
      "COGM2C33_20200130  745787.0  4322066.0  278.823529\n",
      "COGM2N12_20200131  742466.0  4324372.0  263.938596\n"
     ]
    }
   ],
   "source": [
    "# Average Snowpit density measurements\n",
    "# Request the average (avg) of Layer data casted as a float. We have to cast to a float in the layer table because all main values are stored as a string to\n",
    "# ...accommodate the hand hardness.\n",
    "print(df_sp.columns)\n",
    "df_sp['value'] = df_sp['value'].astype(float)\n",
    "avgrho_sp = df_sp[['easting', 'northing', 'date', 'value', 'pit_id']]\n",
    "avgrho_sp = df_sp.groupby(by = ['pit_id']).mean()\n",
    "print(avgrho_sp.head())"
   ]
  },
  {
   "cell_type": "markdown",
   "id": "dd303626-38cf-4f74-93f7-707062243d84",
   "metadata": {},
   "source": [
    "### GPR Data"
   ]
  },
  {
   "cell_type": "code",
   "execution_count": 10,
   "id": "75689698-1cf9-45b6-9dfd-708172824a6e",
   "metadata": {},
   "outputs": [
    {
     "name": "stdout",
     "output_type": "stream",
     "text": [
      "[datetime.date(2020, 1, 28), datetime.date(2020, 1, 29), datetime.date(2020, 2, 4), datetime.date(2020, 2, 6), datetime.date(2020, 2, 7), datetime.date(2020, 2, 8), datetime.date(2020, 2, 9)]\n"
     ]
    }
   ],
   "source": [
    "# Get the GPR Dates\n",
    "\n",
    "# Start the session\n",
    "engine, session = get_db(db_name)\n",
    "\n",
    "# Define the GPR instrument identifier\n",
    "bsu_gpr_instrument_name = \"pulse EKKO Pro multi-polarization 1 GHz GPR\"\n",
    "\n",
    "# Query the Pointdata to isolate by GPR instrument\n",
    "query = session.query(PointData.date)\n",
    "query = query.filter(PointData.instrument == bsu_gpr_instrument_name)\n",
    "\n",
    "# convert to pandas dataframe  \n",
    "df = query_to_pandas(query, engine)  \n",
    "\n",
    "# create list of the unique dates (LayerData will have a lot of repeated dates, we only need a list per visit, not per measurement)\n",
    "GPR_dates = sorted(df['date'].unique())\n",
    "\n",
    "# Print the given dates\n",
    "print(GPR_dates)\n",
    "\n",
    "session.close()"
   ]
  },
  {
   "cell_type": "code",
   "execution_count": 11,
   "id": "11e06926-3f3e-4911-a1b6-3ca0d019dcd0",
   "metadata": {},
   "outputs": [
    {
     "data": {
      "image/png": "[encoded data removed]",
      "text/plain": [
       "<Figure size 432x288 with 1 Axes>"
      ]
     },
     "metadata": {
      "needs_background": "light"
     },
     "output_type": "display_data"
    }
   ],
   "source": [
    "# Start the session\n",
    "engine, session = get_db(db_name)\n",
    "\n",
    "# Limit the size of the GPR data for initial processing and plot\n",
    "query = session.query(PointData)\n",
    "query = query.filter(PointData.instrument == bsu_gpr_instrument_name)\n",
    "query = query.distinct().order_by(func.random()).limit(100) #all()\n",
    "\n",
    "bsu_gpr_sample = query_to_geopandas(query, engine)\n",
    "\n",
    "bsu_gpr_sample.plot()\n",
    "\n",
    "session.close()"
   ]
  },
  {
   "cell_type": "markdown",
   "id": "8d9e8e76-e558-49fc-a158-31324fbdffcf",
   "metadata": {},
   "source": [
    "### Get the Distance of snowPit to GPR"
   ]
  },
  {
   "cell_type": "code",
   "execution_count": null,
   "id": "c224377e-7369-4306-aa9b-09811f3a7000",
   "metadata": {},
   "outputs": [],
   "source": []
  },
  {
   "cell_type": "markdown",
   "id": "b66b4898-7784-4b16-ac1f-81c420233a4a",
   "metadata": {},
   "source": [
    "### Lidar Raster (In-Progress)"
   ]
  },
  {
   "cell_type": "code",
   "execution_count": 12,
   "id": "3e6af816-6634-4a2a-8532-64f8b4cf8667",
   "metadata": {},
   "outputs": [
    {
     "name": "stdout",
     "output_type": "stream",
     "text": [
      "[('meters',)]\n"
     ]
    }
   ],
   "source": [
    "# Start the session\n",
    "engine, session = get_db(db_name)\n",
    "\n",
    "query = session.query(ImageData.units)\n",
    "query = query.filter(ImageData.observers == \"ASO Inc.\")\n",
    "query = query.filter(ImageData.type == \"depth\")\n",
    "query = query.distinct()\n",
    "result = query.all()\n",
    "print(result)\n",
    "\n",
    "session.close()"
   ]
  }
 ],
 "metadata": {
  "kernelspec": {
   "display_name": "Python 3 (ipykernel)",
   "language": "python",
   "name": "python3"
  },
  "language_info": {
   "codemirror_mode": {
    "name": "ipython",
    "version": 3
   },
   "file_extension": ".py",
   "mimetype": "text/x-python",
   "name": "python",
   "nbconvert_exporter": "python",
   "pygments_lexer": "ipython3",
   "version": "3.10.5"
  }
 },
 "nbformat": 4,
 "nbformat_minor": 5
}
