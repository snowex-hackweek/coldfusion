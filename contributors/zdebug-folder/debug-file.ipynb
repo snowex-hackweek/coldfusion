{
 "cells": [
  {
   "cell_type": "markdown",
   "id": "a6363032-d837-4486-af7d-b9c46472152f",
   "metadata": {},
   "source": [
    "# A demo"
   ]
  },
  {
   "cell_type": "code",
   "execution_count": 1,
   "id": "a5e0288e-303d-4d3d-ade0-3e26098b4b29",
   "metadata": {},
   "outputs": [],
   "source": [
    "import pandas"
   ]
  },
  {
   "cell_type": "code",
   "execution_count": 2,
   "id": "4919003d-c73b-472e-8515-b6a1050770e7",
   "metadata": {},
   "outputs": [
    {
     "data": {
      "text/plain": [
       "2"
      ]
     },
     "execution_count": 2,
     "metadata": {},
     "output_type": "execute_result"
    }
   ],
   "source": [
    "1+1"
   ]
  },
  {
   "cell_type": "code",
   "execution_count": null,
   "id": "3969923c-f40d-42fe-8392-09dbf2361547",
   "metadata": {},
   "outputs": [],
   "source": []
  }
 ],
 "metadata": {
  "kernelspec": {
   "display_name": "Python 3 (ipykernel)",
   "language": "python",
   "name": "python3"
  },
  "language_info": {
   "codemirror_mode": {
    "name": "ipython",
    "version": 3
   },
   "file_extension": ".py",
   "mimetype": "text/x-python",
   "name": "python",
   "nbconvert_exporter": "python",
   "pygments_lexer": "ipython3",
   "version": "3.10.5"
  }
 },
 "nbformat": 4,
 "nbformat_minor": 5
}
