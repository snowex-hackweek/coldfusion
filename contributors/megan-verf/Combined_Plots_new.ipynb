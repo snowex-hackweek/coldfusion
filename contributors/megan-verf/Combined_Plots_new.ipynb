{
 "cells": [
  {
   "cell_type": "markdown",
   "id": "3d47a251-0c3e-4822-9271-d6ac5c031763",
   "metadata": {},
   "source": [
    "# ColdFusion\n",
    "### GPR-LIDAR-FUSION\n",
    "7/12/22\n",
    "\n",
    "Query the SnowEx database to extract ground based snow depth measurements, snow pit density, GPR tracks, and Lidar point clounds where there is spatial and temporal overlap in a defined area.\n",
    "\n",
    "Use the lidar snow depth measurements to inform the GPR density estimate to get SWE.\n",
    "\n",
    "Test these density/SWE estimates against snowpit values"
   ]
  },
  {
   "cell_type": "code",
   "execution_count": 157,
   "id": "d9413b18-ec9f-44e0-8a85-a306356c2e5e",
   "metadata": {},
   "outputs": [],
   "source": [
    "# Imports\n",
    "from snowexsql.db import get_db\n",
    "from snowexsql.data import PointData, LayerData, ImageData, SiteData\n",
    "from snowexsql.conversions import query_to_geopandas, query_to_pandas\n",
    "from snowexsql.db import get_table_attributes\n",
    "\n",
    "import datetime \n",
    "from sqlalchemy import inspect\n",
    "from sqlalchemy.sql import func\n",
    "from sqlalchemy import Float\n",
    "import shapely.geometry\n",
    "from geoalchemy2.shape import from_shape\n",
    "import geoalchemy2.functions as gfunc\n",
    "import scipy.spatial as spatial\n",
    "\n",
    "# Imports for Lidar raster\n",
    "import numpy as np\n",
    "import pandas as pd \n",
    "import geopandas as gpd\n",
    "import matplotlib\n",
    "import matplotlib.pyplot as plt\n",
    "\n",
    "# some mapping widgets\n",
    "import ipyleaflet\n",
    "from ipyleaflet import Map, GeoData, Rectangle, basemaps, LayersControl, basemap_to_tiles, TileLayer, SplitMapControl, Polygon, MagnifyingGlass\n",
    "import ipywidgets\n",
    "\n",
    "# load the database\n",
    "db_name = 'snow:hackweek@db.snowexdata.org/snowex'"
   ]
  },
  {
   "cell_type": "markdown",
   "id": "ebbea740-4c39-4565-a309-42025b32ec8d",
   "metadata": {},
   "source": [
    "### Specify Inputs"
   ]
  },
  {
   "cell_type": "code",
   "execution_count": 3,
   "id": "834e1a34-3065-4ac7-a2c8-e68f8f332d08",
   "metadata": {},
   "outputs": [],
   "source": [
    "# Desired Magnaprobe sample dates \n",
    "depth1_date1 = datetime.date(2020,2,1) # Corresponds to ASO flight on 2/2/2020 (lidar1)\n",
    "depth2_date1 = datetime.date(2020,2,12) # Corresponds to ASO flight on 2/13/2020 (lidar1)\n",
    "\n",
    "# Desired snow pit sample dates \n",
    "density1_date1 = datetime.date(2020,1,28)\n",
    "density1_date2 = datetime.date(2020,2,2) \n",
    "\n",
    "density2_date1 = datetime.date(2020,2,4)\n",
    "density2_date2 = datetime.date(2020,2,13) \n"
   ]
  },
  {
   "cell_type": "markdown",
   "id": "505e4df6-363f-4e3b-bf11-fb90cf47f3dd",
   "metadata": {},
   "source": [
    "### Define Boundingbox"
   ]
  },
  {
   "cell_type": "code",
   "execution_count": 4,
   "id": "0f5ba5e8-c0f1-4d65-acfe-872f3cd4d84d",
   "metadata": {},
   "outputs": [],
   "source": [
    "# How to pull out ALL point data from the database that falls within our box\n",
    "bbox_WSEN = 742000, 4322000, 747000, 4325000 # EPSG 26912?\n",
    "x1, y1, x2, y2 = bbox_WSEN\n",
    "polygon = shapely.geometry.Polygon([[x1, y1], [x1, y2], [x2, y2], [x2, y1]]) # used box() before\n",
    "wkb_element = from_shape(polygon, srid=26912) # which srid is right?"
   ]
  },
  {
   "cell_type": "markdown",
   "id": "2c93a8b0-cf9c-4c9f-8753-b213ab0108f1",
   "metadata": {},
   "source": [
    "### Magnaprobe Data"
   ]
  },
  {
   "cell_type": "markdown",
   "id": "b4947387-d277-4680-ba47-c04ba2bc034e",
   "metadata": {},
   "source": [
    "#### Lidar Date 1"
   ]
  },
  {
   "cell_type": "code",
   "execution_count": 5,
   "id": "21776628-2404-4131-a4ac-cb8c2f6a5881",
   "metadata": {},
   "outputs": [
    {
     "name": "stdout",
     "output_type": "stream",
     "text": [
      "4175 Magnaprobe records returned for 2020-02-01\n"
     ]
    }
   ],
   "source": [
    "# Instrument name \n",
    "site_name = \"Grand Mesa\"\n",
    "instrument = \"magnaprobe\" \n",
    "\n",
    "# Get a session\n",
    "engine, session = get_db(db_name)\n",
    "\n",
    "# Find the magnaprobe PointData in the defined area within the given dates \n",
    "query_mp = session.query(PointData.geom, PointData.easting, PointData.northing, PointData.date, PointData.value, \n",
    "                    PointData.type, PointData.instrument)\n",
    "\n",
    "# Filter by site\n",
    "query_mp = query_mp.filter(PointData.site_name == site_name)\n",
    "# Filter by bounding box \n",
    "query_mp = query_mp.filter(gfunc.ST_Within(PointData.geom, wkb_element))\n",
    "# Filter by an instrument \n",
    "query_mp = query_mp.filter(PointData.instrument == instrument) # .in_(['magnaprobe', 'pit_ruler']))\n",
    "\n",
    "# Slicing the dataset for specified dates \n",
    "query_mp = query_mp.filter(PointData.date == depth1_date1)\n",
    "\n",
    "# Execute the query and convert to geopandas in one handy function\n",
    "df_mp_lidar1 = query_to_geopandas(query_mp, engine) #directly pass to geopandas dataframe\n",
    "\n",
    "# How many did were retrieved \n",
    "print(f'{len(df_mp_lidar1.index)} Magnaprobe records returned for {depth1_date1}')\n",
    "\n",
    "session.close()"
   ]
  },
  {
   "cell_type": "markdown",
   "id": "ddbf9733-43af-426c-9b0c-2676875581d3",
   "metadata": {},
   "source": [
    "#### Lidar Date 2"
   ]
  },
  {
   "cell_type": "code",
   "execution_count": 6,
   "id": "ba3b6b04-835b-4b1d-9eeb-46f506437fb6",
   "metadata": {},
   "outputs": [
    {
     "name": "stdout",
     "output_type": "stream",
     "text": [
      "998 records returned for 2020-02-12\n"
     ]
    }
   ],
   "source": [
    "# Get a session\n",
    "engine, session = get_db(db_name)\n",
    "\n",
    "# Find the magnaprobe PointData in the defined area within the given dates \n",
    "query_mp = session.query(PointData.geom, PointData.easting, PointData.northing, PointData.date, PointData.value, \n",
    "                    PointData.type, PointData.instrument)\n",
    "\n",
    "# Filter by site\n",
    "query_mp = query_mp.filter(PointData.site_name == site_name)\n",
    "# Filter by bounding box \n",
    "query_mp = query_mp.filter(gfunc.ST_Within(PointData.geom, wkb_element))\n",
    "# Filter by an instrument \n",
    "query_mp = query_mp.filter(PointData.instrument == instrument) # .in_(['magnaprobe', 'pit_ruler']))\n",
    "\n",
    "# Slicing the dataset for specified dates \n",
    "query_mp = query_mp.filter(PointData.date == depth2_date1)\n",
    "\n",
    "# Execute the query and convert to geopandas in one handy function\n",
    "df_mp_lidar2 = query_to_geopandas(query_mp, engine) #directly pass to geopandas dataframe\n",
    "\n",
    "# How many did were retrieved \n",
    "print(f'{len(df_mp_lidar2.index)} records returned for {depth2_date1}')\n",
    "\n",
    "session.close()"
   ]
  },
  {
   "cell_type": "code",
   "execution_count": 89,
   "id": "76fe7af2-0780-4afb-ae8b-cfad7c23c0b7",
   "metadata": {},
   "outputs": [
    {
     "name": "stdout",
     "output_type": "stream",
     "text": [
      "success\n",
      "success\n"
     ]
    }
   ],
   "source": [
    "# # Print to CSV\n",
    "# df_mp_lidar1.to_csv('mp_lidar1.csv')\n",
    "# print('success')\n",
    "\n",
    "# # Print to CSV\n",
    "# df_mp_lidar2.to_csv('mp_lidar2.csv')\n",
    "# print('success')\n"
   ]
  },
  {
   "cell_type": "code",
   "execution_count": 182,
   "id": "4183896f-c295-4efe-88e0-69429be59b1b",
   "metadata": {},
   "outputs": [
    {
     "data": {
      "image/png": "[encoded data removed]",
      "text/plain": [
       "<Figure size 720x309.6 with 4 Axes>"
      ]
     },
     "metadata": {
      "needs_background": "light"
     },
     "output_type": "display_data"
    }
   ],
   "source": [
    "# Plot sites\n",
    "# plt.scatter(df_mp_lidar1['easting'], df_mp_lidar1['northing'], c = 'red', zorder = 10, label = str(depth1_date1))\n",
    "# plt.scatter(df_mp_lidar2['easting'], df_mp_lidar2['northing'], c = 'orange', zorder = 1, label = str(depth2_date1))\n",
    "# plt.legend()\n",
    "\n",
    "\n",
    "# Plot sites\n",
    "# Build a single plot\n",
    "fig, (ax, ax1) = plt.subplots(1,2, figsize = (10,4.3))\n",
    "ax.set_xlim(741800, 747200)\n",
    "ax.set_ylim(4321800, 4325200)\n",
    "ax1.set_xlim(741800, 747200)\n",
    "ax1.set_ylim(4321800, 4325200)\n",
    "\n",
    "# Colorbar keyword arguments\n",
    "kwds = {'label': \"Snow Depth [mm]\", 'orientation': \"horizontal\"}\n",
    "\n",
    "# Plot it all up as a scatter using SWE as the color\n",
    "ax = df_mp_lidar1.plot(ax=ax, column='value', cmap='plasma', markersize=1, edgecolor='none', legend=True,\n",
    "                       legend_kwds=kwds, label=depth1_date1, vmin = df_mp_lidar1['value'].min(), vmax =df_mp_lidar2['value'].max())\n",
    "ax1 = df_mp_lidar2.plot(ax=ax1, column='value', cmap='plasma', markersize=1, edgecolor='none', legend=True,legend_kwds=kwds, \n",
    "                       vmin = df_mp_lidar1['value'].min(), vmax =df_mp_lidar2['value'].max())\n",
    "\n",
    "# Set some style/ labeling choices\n",
    "ax.ticklabel_format(style='plain', useOffset=False)\n",
    "ax.set_xlabel('Easting [m]')\n",
    "ax.set_ylabel('Northing [m]')\n",
    "ax1.set_xlabel('Easting [m]')\n",
    "ax1.set_ylabel('Northing [m]')\n",
    "plt.subplots_adjust(wspace=0.4)\n",
    "\n",
    "suptitle = f'Grand Mesa MagnaProbe Data'\n",
    "fig.suptitle(suptitle, fontsize = 16)\n",
    "ax.set_title(str(depth1_date1), fontsize=16)\n",
    "ax1.set_title(str(depth2_date1), fontsize=16)\n",
    "\n",
    "# Show plot output and save if desired\n",
    "# plt.savefig('GM_MP_depths.png')\n",
    "plt.show()\n"
   ]
  },
  {
   "cell_type": "markdown",
   "id": "1cc40953-332f-4d05-9ab9-fc753024a6f9",
   "metadata": {},
   "source": [
    "### Snow Pit measurements"
   ]
  },
  {
   "cell_type": "markdown",
   "id": "61c99b6e-cbd8-4851-9b98-67746a768aae",
   "metadata": {},
   "source": [
    "#### GPR Date Range 1"
   ]
  },
  {
   "cell_type": "code",
   "execution_count": 74,
   "id": "70b030c3-9e3e-4cb2-bf42-73974b896726",
   "metadata": {
    "tags": []
   },
   "outputs": [
    {
     "name": "stderr",
     "output_type": "stream",
     "text": [
      "/tmp/ipykernel_261/4030151860.py:21: SAWarning: UserDefinedType Geometry(geometry_type='POINT') will not produce a cache key because the ``cache_ok`` attribute is not set to True.  This can have significant performance implications including some performance degradations in comparison to prior SQLAlchemy versions.  Set this attribute to True if this type object's state is safe to use in a cache key, or False to disable this warning. (Background on this error at: https://sqlalche.me/e/14/cprf)\n",
      "  count_meas = query_sp.count()\n"
     ]
    },
    {
     "name": "stdout",
     "output_type": "stream",
     "text": [
      "896  Snowpit density measurements returned!\n",
      "\n",
      "47  Snowpit density locations returned!\n",
      "\n"
     ]
    }
   ],
   "source": [
    "# Start the session\n",
    "engine, session = get_db(db_name)\n",
    "\n",
    "# Find the snowpit LayerData in the defined area within given dates\n",
    "query_sp = session.query(LayerData.geom, LayerData.easting, LayerData.northing, LayerData.date, LayerData.value, \n",
    "                         LayerData.pit_id, LayerData.type, LayerData.instrument)\n",
    "\n",
    "# Filter by site (probably not needed)\n",
    "# query_sp = query_sp.filter(LayerData.site_name == 'Grand Mesa')\n",
    "# Filter by bounding box\n",
    "query_sp = query_sp.filter(gfunc.ST_Within(LayerData.geom, wkb_element))\n",
    "# Filter by type (pit density)\n",
    "query_sp = query_sp.filter(LayerData.type == \"density\")\n",
    "# Filter by instrument \n",
    "query_sp = query_sp.filter(LayerData.instrument==None)\n",
    "\n",
    "# Slicing the dataset for specified dates \n",
    "query_sp = query_sp.filter(LayerData.date >= density1_date1)\n",
    "query_sp = query_sp.filter(LayerData.date <= density1_date2)\n",
    "\n",
    "count_meas = query_sp.count() \n",
    "print(count_meas, \" Snowpit density measurements returned!\\n\") \n",
    "\n",
    "# convert to pandas dataframe  \n",
    "df_sp_gpr1 = query_to_pandas(query_sp, engine)  \n",
    "\n",
    "# create list of the unique dates (LayerData will have a lot of repeated dates, we only need a list per visit, not per measurement)\n",
    "locations = sorted(df_sp_gpr1['pit_id'].unique())\n",
    "count_pits = len(locations) \n",
    "print(count_pits, \" Snowpit density locations returned!\\n\") \n",
    "\n",
    "session.close()"
   ]
  },
  {
   "cell_type": "code",
   "execution_count": 9,
   "id": "7b85f987-b1e8-4511-99a7-a5aa0e2b68ce",
   "metadata": {},
   "outputs": [
    {
     "name": "stdout",
     "output_type": "stream",
     "text": [
      " Between 2020-01-28 and 2020-02-02, unique dates are [datetime.date(2020, 1, 28) datetime.date(2020, 1, 29)\n",
      " datetime.date(2020, 1, 30) datetime.date(2020, 1, 31)\n",
      " datetime.date(2020, 2, 1)]\n"
     ]
    }
   ],
   "source": [
    "# List unique dates\n",
    "print(f' Between {density1_date1} and {density1_date2}, unique dates are {(df_sp_gpr1.date.sort_values().unique())}')"
   ]
  },
  {
   "cell_type": "markdown",
   "id": "39e8d0d5-d51e-4cb5-a34f-ad82164e5eef",
   "metadata": {},
   "source": [
    "#### GPR Date Range 2"
   ]
  },
  {
   "cell_type": "code",
   "execution_count": 75,
   "id": "c08a69e3-2306-43f9-b971-d3fab3c74662",
   "metadata": {
    "tags": []
   },
   "outputs": [
    {
     "name": "stderr",
     "output_type": "stream",
     "text": [
      "/tmp/ipykernel_261/3867928000.py:21: SAWarning: UserDefinedType Geometry(geometry_type='POINT') will not produce a cache key because the ``cache_ok`` attribute is not set to True.  This can have significant performance implications including some performance degradations in comparison to prior SQLAlchemy versions.  Set this attribute to True if this type object's state is safe to use in a cache key, or False to disable this warning. (Background on this error at: https://sqlalche.me/e/14/cprf)\n",
      "  count_meas = query_sp.count()\n"
     ]
    },
    {
     "name": "stdout",
     "output_type": "stream",
     "text": [
      "1059  Snowpit density measurements returned!\n",
      "\n",
      "57  Snowpit density locations returned!\n",
      "\n"
     ]
    }
   ],
   "source": [
    "# Start the session\n",
    "engine, session = get_db(db_name)\n",
    "\n",
    "# Find the snowpit LayerData in the defined area within given dates\n",
    "query_sp = session.query(LayerData.geom, LayerData.easting, LayerData.northing, LayerData.date, LayerData.value, \n",
    "                         LayerData.pit_id, LayerData.type, LayerData.instrument)\n",
    "\n",
    "# Filter by site (probably not needed)\n",
    "# query_sp = query_sp.filter(LayerData.site_name == 'Grand Mesa')\n",
    "# Filter by bounding box\n",
    "query_sp = query_sp.filter(gfunc.ST_Within(LayerData.geom, wkb_element))\n",
    "# Filter by type (pit density)\n",
    "query_sp = query_sp.filter(LayerData.type == \"density\")\n",
    "# Filter by instrument \n",
    "query_sp = query_sp.filter(LayerData.instrument==None)\n",
    "\n",
    "# Slicing the dataset for specified dates \n",
    "query_sp = query_sp.filter(LayerData.date >= density2_date1)\n",
    "query_sp = query_sp.filter(LayerData.date <= density2_date2)\n",
    "\n",
    "count_meas = query_sp.count() \n",
    "print(count_meas, \" Snowpit density measurements returned!\\n\") \n",
    "\n",
    "# convert to pandas dataframe  \n",
    "df_sp_gpr2 = query_to_pandas(query_sp, engine)  \n",
    "\n",
    "# create list of the unique dates (LayerData will have a lot of repeated dates, we only need a list per visit, not per measurement)\n",
    "locations = sorted(df_sp_gpr2['pit_id'].unique())\n",
    "count_pits = len(locations) \n",
    "print(count_pits, \" Snowpit density locations returned!\\n\") \n",
    "\n",
    "session.close()"
   ]
  },
  {
   "cell_type": "code",
   "execution_count": 11,
   "id": "023bba28-884e-40d7-b26a-7b571465ad8a",
   "metadata": {},
   "outputs": [
    {
     "name": "stdout",
     "output_type": "stream",
     "text": [
      " Between 2020-02-04 and 2020-02-13, unique dates are [datetime.date(2020, 2, 4) datetime.date(2020, 2, 5)\n",
      " datetime.date(2020, 2, 6) datetime.date(2020, 2, 8)\n",
      " datetime.date(2020, 2, 9) datetime.date(2020, 2, 10)\n",
      " datetime.date(2020, 2, 11) datetime.date(2020, 2, 12)]\n"
     ]
    }
   ],
   "source": [
    "# List unique dates\n",
    "print(f' Between {density2_date1} and {density2_date2}, unique dates are {(df_sp_gpr2.date.sort_values().unique())}')\n",
    "\n",
    "# Print to CSV\n",
    "# df_sp_gpr2.to_csv('snow_pit_gpr2.csv')\n",
    "# print('success')"
   ]
  },
  {
   "cell_type": "code",
   "execution_count": 85,
   "id": "0fcab278-ca57-413f-9af7-c2958fb4b107",
   "metadata": {},
   "outputs": [
    {
     "data": {
      "text/plain": [
       "<matplotlib.legend.Legend at 0x7ff5ce7fe7d0>"
      ]
     },
     "execution_count": 85,
     "metadata": {},
     "output_type": "execute_result"
    },
    {
     "data": {
      "image/png": "[encoded data removed]",
      "text/plain": [
       "<Figure size 432x288 with 1 Axes>"
      ]
     },
     "metadata": {
      "needs_background": "light"
     },
     "output_type": "display_data"
    }
   ],
   "source": [
    "# Plot sites\n",
    "fig, ax = plt.subplots()\n",
    "ax.scatter(df_sp_gpr1['easting'], df_sp_gpr1['northing'], c = 'b', label = (f'{density1_date1} to {density1_date2}'))\n",
    "ax.scatter(df_sp_gpr2['easting'], df_sp_gpr2['northing'], c = 'lightblue', label = (f'{density2_date1} to {density2_date2}'))\n",
    "ax.set_xlim(741800, 747200)\n",
    "ax.set_ylim(4321800, 4325200)\n",
    "ax.legend()"
   ]
  },
  {
   "cell_type": "code",
   "execution_count": 13,
   "id": "55e147b8-e06e-4248-b9d8-8ae87be5669e",
   "metadata": {},
   "outputs": [],
   "source": [
    "# Attempt to extract snow pit depth data \n",
    "# # Get a session\n",
    "# engine, session = get_db(db_name)\n",
    "\n",
    "# # Find the magnaprobe PointData in the defined area within the given dates \n",
    "# query_mp = session.query(PointData.geom, PointData.easting, PointData.northing, PointData.date, \n",
    "#                          PointData.value, PointData.type, PointData.instrument, PointData.site_id) \n",
    "\n",
    "# # Filter by bounding box \n",
    "# query_mp = query_mp.filter(gfunc.ST_Within(PointData.geom, wkb_element))\n",
    "# # Filter by an instrument \n",
    "# query_mp = query_mp.filter(PointData.instrument == 'pit ruler') \n",
    "# query_mp = query_mp.filter(PointData.type == 'depth') \n",
    "\n",
    "# # Slicing the dataset for specified dates \n",
    "# query_sp = query_sp.filter(PointData.date >= density1_date1)\n",
    "# query_sp = query_sp.filter(PointData.date <= density1_date2)\n",
    "\n",
    "# depths_sp = query_to_pandas(query_mp, engine)  \n",
    "\n",
    "# # df_sp_gpr2.date.sort_values().unique()\n",
    "\n",
    "# # result = session.query(PointData.instrument).distinct().all()\n",
    "\n",
    "# # print('\\Data Types: ', result)"
   ]
  },
  {
   "cell_type": "code",
   "execution_count": 23,
   "id": "c313fb07-aec1-46f4-971a-aeb5d6dd614c",
   "metadata": {},
   "outputs": [
    {
     "name": "stdout",
     "output_type": "stream",
     "text": [
      "                                                geom        easting  \\\n",
      "0  010100002020690000a3d1753078c12641e63af83d0e7d...  745660.094649   \n",
      "1  010100002020690000090eca7b64ca264143ccc08ddf7e...  746802.241776   \n",
      "2  010100002020690000589c1742b8b92641d8befe1e137e...  744668.129086   \n",
      "3  010100002020690000ac3b0f408aad264195b67efe9a7d...  743109.125116   \n",
      "4  0101000020206900006a0a12c2f8b02641a5990260bb7e...  743548.379044   \n",
      "\n",
      "       northing        date  value   type instrument site_id  \n",
      "0  4.322361e+06  2020-02-04   70.0  depth  pit ruler    None  \n",
      "1  4.324222e+06  2020-02-01   97.0  depth  pit ruler    None  \n",
      "2  4.323404e+06  2020-02-09   98.0  depth  pit ruler    None  \n",
      "3  4.322924e+06  2020-02-01  100.0  depth  pit ruler    None  \n",
      "4  4.324078e+06  2020-02-11   68.0  depth  pit ruler    None  \n"
     ]
    }
   ],
   "source": [
    "# print(depths_sp.head())"
   ]
  },
  {
   "cell_type": "markdown",
   "id": "324c3b9c-844c-4ccd-a961-7fc51eccf261",
   "metadata": {},
   "source": [
    "#### Average density values for GPR 1 snowpits "
   ]
  },
  {
   "cell_type": "code",
   "execution_count": 152,
   "id": "1ea663c2-5035-4b40-a3f7-4dfa0079ba85",
   "metadata": {},
   "outputs": [
    {
     "name": "stdout",
     "output_type": "stream",
     "text": [
      "Number of Snow Pits = 47\n"
     ]
    }
   ],
   "source": [
    "df_sp_gpr1['value'] = df_sp_gpr1['value'].astype(float)\n",
    "avgrho_sp1 = df_sp_gpr1[['pit_id', 'date', 'value', 'easting', 'northing']] \n",
    "avgrho_sp1 = avgrho_sp1.groupby(['pit_id','date']).mean() \n",
    "print(f'Number of Snow Pits = {len(avgrho_sp1)}')\n",
    "\n",
    "# Print to CSV\n",
    "# avgrho_sp1.to_csv('snow_pit_gpr1_avg.csv')\n",
    "# print('success')"
   ]
  },
  {
   "cell_type": "markdown",
   "id": "58be3606-9c17-4522-9296-d9df428f22d0",
   "metadata": {},
   "source": [
    "#### Average density values for GPR 2 snowpits "
   ]
  },
  {
   "cell_type": "code",
   "execution_count": 153,
   "id": "8f90c677-1967-4889-b638-5b14ccaa6b92",
   "metadata": {},
   "outputs": [
    {
     "name": "stdout",
     "output_type": "stream",
     "text": [
      "Number of Snow Pits = 57\n"
     ]
    }
   ],
   "source": [
    "df_sp_gpr2['value'] = df_sp_gpr2['value'].astype(float)\n",
    "avgrho_sp2 = df_sp_gpr2[['pit_id', 'date', 'value', 'easting', 'northing']] \n",
    "avgrho_sp2 = avgrho_sp2.groupby(['pit_id','date']).mean() \n",
    "print(f'Number of Snow Pits = {len(avgrho_sp2)}')\n",
    "\n",
    "# Print to CSV\n",
    "# avgrho_sp2.to_csv('snow_pit_gpr2_avg.csv')\n",
    "# print('success')"
   ]
  },
  {
   "cell_type": "code",
   "execution_count": 184,
   "id": "93780994-5194-4a38-b277-3a4551f7ae40",
   "metadata": {},
   "outputs": [
    {
     "data": {
      "image/png": "[encoded data removed]",
      "text/plain": [
       "<Figure size 1224x360 with 4 Axes>"
      ]
     },
     "metadata": {
      "needs_background": "light"
     },
     "output_type": "display_data"
    }
   ],
   "source": [
    "# Plot the sites with their average densities\n",
    "fig, (ax, ax1) = plt.subplots(1,2, figsize = (17,5))\n",
    "ax.set_xlim(741800, 747200)\n",
    "ax.set_ylim(4321800, 4325200)\n",
    "ax1.set_xlim(741800, 747200)\n",
    "ax1.set_ylim(4321800, 4325200)\n",
    "\n",
    "im = ax.scatter(x=avgrho_sp1['easting'], y=avgrho_sp1['northing'], c=avgrho_sp1['value'], cmap='cool',edgecolor='none', \n",
    "               vmin = avgrho_sp2['value'].min(), vmax =avgrho_sp2['value'].max())\n",
    "im1 = ax1.scatter(x=avgrho_sp2['easting'], y=avgrho_sp2['northing'], c=avgrho_sp2['value'], cmap='cool',edgecolor='none', \n",
    "                  vmin = avgrho_sp2['value'].min(), vmax =avgrho_sp2['value'].max())\n",
    "\n",
    "cbar = plt.colorbar(im, ax=ax)\n",
    "cbar.ax.set_ylabel('Density [kg/m^3]', rotation=270)\n",
    "cbar.ax.yaxis.set_label_coords(5,0.5)\n",
    "\n",
    "cbar1 = plt.colorbar(im1, ax=ax1)\n",
    "cbar1.ax.set_ylabel('Density [kg/m^3]', rotation=270)\n",
    "cbar1.ax.yaxis.set_label_coords(5,0.5)\n",
    "\n",
    "ax.set_xlabel('Easting [m]')\n",
    "ax.set_ylabel('Northing [m]')\n",
    "ax1.set_xlabel('Easting [m]')\n",
    "ax1.set_ylabel('Northing [m]')\n",
    "\n",
    "suptitle = 'Grand Mesa SnowPit Averaged Density'\n",
    "fig.suptitle(suptitle, fontsize=16)\n",
    "title = '{} - {}'.format(density1_date1, density1_date2)\n",
    "ax.set_title(title, fontsize=12)\n",
    "title = '{} - {}'.format(density2_date1, density2_date2)\n",
    "ax1.set_title(title, fontsize=12)\n",
    "\n",
    "# plt.savefig('GM_SP_densities.png')\n",
    "plt.show()"
   ]
  },
  {
   "cell_type": "code",
   "execution_count": 16,
   "id": "9934bf65-51cb-41a2-afe9-5b2721e89480",
   "metadata": {},
   "outputs": [
    {
     "data": {
      "text/plain": [
       "<matplotlib.legend.Legend at 0x7ff5d32e1c00>"
      ]
     },
     "execution_count": 16,
     "metadata": {},
     "output_type": "execute_result"
    },
    {
     "data": {
      "image/png": "[encoded data removed]",
      "text/plain": [
       "<Figure size 432x288 with 1 Axes>"
      ]
     },
     "metadata": {
      "needs_background": "light"
     },
     "output_type": "display_data"
    }
   ],
   "source": [
    "# Plot sites\n",
    "plt.scatter(df_sp_gpr1['easting'], df_sp_gpr1['northing'], c = 'b', label = ('SP Density 1'))# {density1_date1} to {density1_date2}'))\n",
    "plt.scatter(df_sp_gpr2['easting'], df_sp_gpr2['northing'], c = 'lightblue', label = ('SP Density 2'))# {density2_date1} to {density2_date2}'))\n",
    "plt.scatter(df_mp_lidar1['easting'], df_mp_lidar1['northing'], c = 'red', zorder = 10, label = 'MP Depths 1')#+str(depth1_date1))\n",
    "plt.scatter(df_mp_lidar2['easting'], df_mp_lidar2['northing'], c = 'orange', zorder = 1, label = 'MP Depths 2')#+str(depth2_date1))\n",
    "plt.legend(loc = 'upper right')"
   ]
  },
  {
   "cell_type": "markdown",
   "id": "03980938-f8cc-4425-a6ed-9e72bc0ad285",
   "metadata": {},
   "source": [
    "### Import Fused Data and Merge with Buffered Snow Pit Data "
   ]
  },
  {
   "cell_type": "code",
   "execution_count": 192,
   "id": "0950e2c1-68dc-493e-b7e0-cdfbafcfac08",
   "metadata": {},
   "outputs": [
    {
     "name": "stdout",
     "output_type": "stream",
     "text": [
      "                                   value   easting   northing  \\\n",
      "pit_id            date                                          \n",
      "COGM1S8_20200201  2020-02-01  261.023810  742607.0  4322917.0   \n",
      "COGM2C33_20200130 2020-01-30  278.823529  745787.0  4322066.0   \n",
      "COGM2N12_20200131 2020-01-31  263.938596  742466.0  4324372.0   \n",
      "COGM2N48_20200201 2020-02-01  253.122807  746802.0  4324222.0   \n",
      "COGM2S11_20200201 2020-02-01  279.055556  743109.0  4322924.0   \n",
      "\n",
      "                              GPR_Density_Averaged  GPR_Density_NumPoints  \n",
      "pit_id            date                                                     \n",
      "COGM1S8_20200201  2020-02-01                   NaN                    0.0  \n",
      "COGM2C33_20200130 2020-01-30                   NaN                    0.0  \n",
      "COGM2N12_20200131 2020-01-31            576.050673                   20.0  \n",
      "COGM2N48_20200201 2020-02-01            239.644299                  124.0  \n",
      "COGM2S11_20200201 2020-02-01                   NaN                    0.0  \n",
      "success\n"
     ]
    }
   ],
   "source": [
    "GPR = pd.read_csv('GPRLiDAR1.csv')\n",
    "GPR.head()\n",
    "gdf = gpd.GeoDataFrame(GPR)\n",
    "SP_Subset=avgrho_sp1\n",
    "\n",
    "points = np.array((gdf[\"ASO_X\"],gdf[\"ASO_Y\"]))\n",
    "points = points.transpose()\n",
    "point_tree = spatial.cKDTree(points)\n",
    "#print(point_tree)\n",
    "buffer = 25 ## 25 meters\n",
    "SP_pt = np.array((SP_Subset['easting'],SP_Subset['northing']))\n",
    "SP_pt = SP_pt.transpose()\n",
    "SP_Subset[\"GPR_Density_Averaged\"] = np.nan\n",
    "SP_Subset[\"GPR_Density_NumPoints\"] = np.nan\n",
    "\n",
    "for i in range(len(SP_Subset)-2):\n",
    "    SP_pt_temp = [SP_pt[i,0], SP_pt[i,1]]\n",
    "    out = point_tree.query_ball_point(SP_pt_temp, 25)\n",
    "    SP_Subset.loc[SP_Subset.index[i], 'GPR_Density_Averaged'] = gdf.iloc[out]['dens'].mean()\n",
    "    SP_Subset.loc[SP_Subset.index[i], 'GPR_Density_NumPoints'] = gdf.iloc[out]['dens'].count()\n",
    "print(SP_Subset.head())\n",
    "SP_Subset1 = SP_Subset.rename(columns = {'value':'SP_Density'})\n",
    "\n",
    "# Print to CSV\n",
    "# SP_Subset.to_csv('sp_gpr_lidar_1.csv')\n",
    "print('success')"
   ]
  },
  {
   "cell_type": "code",
   "execution_count": 193,
   "id": "9fda63ed-c412-46df-b2a0-f1139cee1048",
   "metadata": {},
   "outputs": [],
   "source": [
    "# print(SP_Subset.head())\n",
    "diff1 = (SP_Subset1.GPR_Density_Averaged-SP_Subset1.SP_Density)/SP_Subset1.SP_Density\n",
    "diff2 = (SP_Subset2.GPR_Density_Averaged-SP_Subset2.SP_Density)/SP_Subset2.SP_Density"
   ]
  },
  {
   "cell_type": "code",
   "execution_count": 204,
   "id": "aab47b8d-4818-49aa-aa0c-1293c57c8c85",
   "metadata": {},
   "outputs": [
    {
     "data": {
      "text/plain": [
       "Text(0, 0.5, 'Number of GPR Points within Buffer')"
      ]
     },
     "execution_count": 204,
     "metadata": {},
     "output_type": "execute_result"
    },
    {
     "data": {
      "image/png": "[encoded data removed]",
      "text/plain": [
       "<Figure size 432x288 with 1 Axes>"
      ]
     },
     "metadata": {
      "needs_background": "light"
     },
     "output_type": "display_data"
    }
   ],
   "source": [
    "fig, ax = plt.subplots()\n",
    "ax.scatter(diff1, SP_Subset1.GPR_Density_NumPoints, c = 'r')\n",
    "ax.set_xlabel('Fractional Difference = \\n (GPR&Lidar Density - SP Density)/SP Density')\n",
    "ax.set_ylabel('Number of GPR Points within Buffer')"
   ]
  },
  {
   "cell_type": "code",
   "execution_count": 177,
   "id": "3c6661ee-08ac-46f3-9833-4a4a0a011749",
   "metadata": {},
   "outputs": [
    {
     "data": {
      "text/plain": [
       "(225.0, 610.0)"
      ]
     },
     "execution_count": 177,
     "metadata": {},
     "output_type": "execute_result"
    },
    {
     "data": {
      "image/png": "[encoded data removed]",
      "text/plain": [
       "<Figure size 432x288 with 1 Axes>"
      ]
     },
     "metadata": {
      "needs_background": "light"
     },
     "output_type": "display_data"
    }
   ],
   "source": [
    "fig, ax = plt.subplots()\n",
    "ax.scatter(SP_Subset.GPR_Density_Averaged, SP_Subset.SP_Density)\n",
    "ax.set_ylabel('SP_Subset.SP_Density')\n",
    "ax.set_xlabel('SP_Subset.GPR_Density_Averaged')\n",
    "ax.set_ylim(200,300)\n",
    "ax.set_xlim(225,610)"
   ]
  },
  {
   "cell_type": "code",
   "execution_count": null,
   "id": "bd218a0c-faaf-4d60-9dd9-586f06cab797",
   "metadata": {},
   "outputs": [],
   "source": [
    "# avgrho_sp = df_sp[['easting', 'northing', 'pit_id', 'value']]\n",
    "# print(avgrho_sp.head())\n",
    "\n",
    "# avgrho_sp = df_sp.groupby(['pit_id']).mean()\n",
    "# print(avgrho_sp.head())\n",
    "\n",
    "\n",
    "# Average Snowpit density measurements\n",
    "# Request the average (avg) of Layer data casted as a float. We have to cast to a float in the layer table because all main values are stored as a string to\n",
    "# ...accommodate the hand hardness.\n",
    "qry = session.query(func.avg(LayerData.value.cast(Float)))\n",
    "# # Filter our query only to density\n",
    "query_sp = query_sp.filter(gfunc.ST_Within(LayerData.geom, wkb_element))\n",
    "qry = qry.filter(LayerData.type=='density')\n",
    "qry = qry.filter(LayerData.instrument==None)\n",
    "query_sp = query_sp.filter(LayerData.date >= date1)\n",
    "query_sp = query_sp.filter(LayerData.date <= date2)"
   ]
  },
  {
   "cell_type": "code",
   "execution_count": null,
   "id": "573136c5-5f21-44c7-956b-a1f0d49bbde3",
   "metadata": {},
   "outputs": [],
   "source": [
    "# Request the data\n",
    "rho_avg_all = qry.all()\n",
    "# Request the Average Density of Just 1S1\n",
    "rho_avg_1s1 = qry.filter(LayerData.site_id == '2N12').limit(1)\n",
    "# This is a gotcha. The data in layer data only is stored as a string to accommodate the hand hardness values\n",
    "print(f\"Average density of all pits is {rho_avg_all[0][0]:0.0f} kg/m3\")\n",
    "print(f\"Average density of pit 2N12 is {rho_avg_1s1[0][0]:0.0f} kg/m3\")\n",
    "\n",
    "# Cast Densities to float\n",
    "rho_avg_all = float(rho_avg_all[0][0])\n",
    "rho_avg_1s1 = float(rho_avg_1s1[0][0])\n",
    "\n",
    "# # Can use LayerData.pit_id to average over"
   ]
  },
  {
   "cell_type": "markdown",
   "id": "dd303626-38cf-4f74-93f7-707062243d84",
   "metadata": {},
   "source": [
    "### GPR Data"
   ]
  },
  {
   "cell_type": "code",
   "execution_count": null,
   "id": "75689698-1cf9-45b6-9dfd-708172824a6e",
   "metadata": {},
   "outputs": [],
   "source": [
    "# # Get the GPR Dates\n",
    "\n",
    "# # Start the session\n",
    "# engine, session = get_db(db_name)\n",
    "\n",
    "# # Define the GPR instrument identifier\n",
    "# bsu_gpr_instrument_name = \"pulse EKKO Pro multi-polarization 1 GHz GPR\"\n",
    "\n",
    "# # Query the Pointdata to isolate by GPR instrument\n",
    "# query = session.query(PointData.date)\n",
    "# query = query.filter(PointData.instrument == bsu_gpr_instrument_name)\n",
    "\n",
    "# # convert to pandas dataframe  \n",
    "# df = query_to_pandas(query, engine)  \n",
    "\n",
    "# # create list of the unique dates (LayerData will have a lot of repeated dates, we only need a list per visit, not per measurement)\n",
    "# GPR_dates = sorted(df['date'].unique())\n",
    "\n",
    "# # Print the given dates\n",
    "# print(GPR_dates)\n",
    "\n",
    "# session.close()"
   ]
  },
  {
   "cell_type": "code",
   "execution_count": null,
   "id": "11e06926-3f3e-4911-a1b6-3ca0d019dcd0",
   "metadata": {},
   "outputs": [],
   "source": [
    "# # Start the session\n",
    "# engine, session = get_db(db_name)\n",
    "\n",
    "# # Limit the size of the GPR data for initial processing and plot\n",
    "# query = session.query(PointData)\n",
    "# query = query.filter(PointData.instrument == bsu_gpr_instrument_name)\n",
    "# query = query.distinct().order_by(func.random()).limit(100) #all()\n",
    "\n",
    "# bsu_gpr_sample = query_to_geopandas(query, engine)\n",
    "\n",
    "# bsu_gpr_sample.plot()\n",
    "\n",
    "# session.close()"
   ]
  },
  {
   "cell_type": "markdown",
   "id": "b66b4898-7784-4b16-ac1f-81c420233a4a",
   "metadata": {},
   "source": [
    "### Lidar Raster (In-Progress)"
   ]
  },
  {
   "cell_type": "code",
   "execution_count": null,
   "id": "3e6af816-6634-4a2a-8532-64f8b4cf8667",
   "metadata": {},
   "outputs": [],
   "source": [
    "# Start the session\n",
    "engine, session = get_db(db_name)\n",
    "\n",
    "query = session.query(ImageData.units)\n",
    "query = query.filter(ImageData.observers == \"ASO Inc.\")\n",
    "query = query.filter(ImageData.type == \"depth\")\n",
    "query = query.distinct()\n",
    "result = query.all()\n",
    "print(result)\n",
    "\n",
    "session.close()"
   ]
  }
 ],
 "metadata": {
  "kernelspec": {
   "display_name": "Python 3 (ipykernel)",
   "language": "python",
   "name": "python3"
  },
  "language_info": {
   "codemirror_mode": {
    "name": "ipython",
    "version": 3
   },
   "file_extension": ".py",
   "mimetype": "text/x-python",
   "name": "python",
   "nbconvert_exporter": "python",
   "pygments_lexer": "ipython3",
   "version": "3.10.5"
  }
 },
 "nbformat": 4,
 "nbformat_minor": 5
}
