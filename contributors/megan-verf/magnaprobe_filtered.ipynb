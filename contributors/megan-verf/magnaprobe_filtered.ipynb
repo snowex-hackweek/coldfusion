{
 "cells": [
  {
   "cell_type": "markdown",
   "id": "70e8190a-d5b7-42aa-8b05-876a1ee5b6ab",
   "metadata": {},
   "source": [
    "# Download PointData for Magnaprobe data within bounding box "
   ]
  },
  {
   "cell_type": "markdown",
   "id": "296cae49-6243-4f86-a81f-fd685c7c3e63",
   "metadata": {},
   "source": [
    "### Get database session "
   ]
  },
  {
   "cell_type": "code",
   "execution_count": 3,
   "id": "ed1772c6-636a-4724-b935-f235fc3212ae",
   "metadata": {},
   "outputs": [],
   "source": [
    "# Import the function to get connect to the db\n",
    "from snowexsql.db import get_db\n",
    "\n",
    "# Import our class for the points table\n",
    "from snowexsql.data import PointData #only pull in point data \n",
    "\n",
    "# Import a useful function to format that data into a dataframe\n",
    "from snowexsql.conversions import query_to_geopandas\n",
    "\n",
    "# Import some tools to build dates \n",
    "from datetime import date\n",
    "import pandas as pd\n",
    "from sqlalchemy import inspect\n",
    "\n",
    "# This is what you will use for all of hackweek to access the db\n",
    "db_name = 'snow:hackweek@db.snowexdata.org/snowex'"
   ]
  },
  {
   "cell_type": "code",
   "execution_count": 48,
   "id": "8dcd67f4-2c5a-4d64-9b0e-3f7e861e9bcd",
   "metadata": {},
   "outputs": [
    {
     "name": "stdout",
     "output_type": "stream",
     "text": [
      "SnowEx Database successfully loaded!\n"
     ]
    }
   ],
   "source": [
    "# database imports\n",
    "from snowexsql.db import get_db\n",
    "from snowexsql.data import PointData, LayerData, ImageData, SiteData\n",
    "from snowexsql.conversions import query_to_geopandas, query_to_pandas\n",
    "from snowexsql.db import get_table_attributes\n",
    "\n",
    "from sqlalchemy.sql import func\n",
    "\n",
    "import shapely.geometry\n",
    "from geoalchemy2.shape import from_shape\n",
    "import geoalchemy2.functions as gfunc\n",
    "\n",
    "# load the database\n",
    "db_name = 'snow:hackweek@db.snowexdata.org/snowex'\n",
    "engine, session = get_db(db_name)\n",
    "\n",
    "print('SnowEx Database successfully loaded!')"
   ]
  },
  {
   "cell_type": "markdown",
   "id": "5626678c-8a5e-4828-8d13-573474ae220d",
   "metadata": {},
   "source": [
    "### Query the DB to see what tables are available"
   ]
  },
  {
   "cell_type": "code",
   "execution_count": 4,
   "id": "e1e2cb09-e34a-43fc-bbd8-9f2347800ee9",
   "metadata": {},
   "outputs": [
    {
     "name": "stdout",
     "output_type": "stream",
     "text": [
      "['spatial_ref_sys', 'points', 'layers', 'sites', 'images']\n"
     ]
    }
   ],
   "source": [
    "# Using the function get_db, we receive 2 ways to interact with the database\n",
    "engine, session = get_db(db_name)\n",
    "\n",
    "# Output the list of tables in the database \n",
    "tables = inspect(engine).get_table_names()\n",
    "print(tables)\n",
    "# spatial_ref_sys doesn't need to be used, just contains the spatial reference data for the points (under the hood) \n",
    "\n",
    "session.close()"
   ]
  },
  {
   "cell_type": "markdown",
   "id": "8e0e9aed-9c82-4d8c-9671-19498e354cfa",
   "metadata": {},
   "source": [
    "Import classes that reflect this data "
   ]
  },
  {
   "cell_type": "code",
   "execution_count": 5,
   "id": "21677e35-5746-471c-bd9f-40a77850d25e",
   "metadata": {},
   "outputs": [],
   "source": [
    "from snowexsql.data import PointData, LayerData, ImageData, SiteData\n",
    "# PointsData is any kind of data that can be shown as a single point (e.g., GPR) \n",
    "# LayerData any data the can be represented by a single point and a single value over a range of depth \n",
    "# ImageData is raster data, rasters all broken into tiles \n",
    "# SiteData is metadata for pits, gets repeated for every record so an individual table was made for it "
   ]
  },
  {
   "cell_type": "markdown",
   "id": "8dbf81d8-dd00-4f1b-b034-c6f4f4df5064",
   "metadata": {},
   "source": [
    "### Query a table to see what columns to use "
   ]
  },
  {
   "cell_type": "code",
   "execution_count": 63,
   "id": "9029c845-61ea-4f8e-b9c4-180c3b9b88b4",
   "metadata": {},
   "outputs": [],
   "source": [
    "# Import the function to investigate a table\n",
    "# from snowexsql.db import get_table_attributes \n",
    "\n",
    "# Use the function to see what columns are available to use. \n",
    "# db_columns = get_table_attributes(SiteData) ###################### change this one to the desired data type \n",
    "\n",
    "# Print out the results nicely\n",
    "# print(\"These are the available columns in the table:\\n \\n* {}\\n\".format('\\n* '.join(db_columns)))\n"
   ]
  },
  {
   "cell_type": "markdown",
   "id": "a59e636d-0b89-4df7-aadd-61998832bcc6",
   "metadata": {},
   "source": [
    "### Add Bounding Box "
   ]
  },
  {
   "cell_type": "code",
   "execution_count": 54,
   "id": "dd7a7519-6654-4787-bc58-b1e9dc439f90",
   "metadata": {},
   "outputs": [],
   "source": [
    "# How to pull out ALL point data from the database that falls within our box\n",
    "bbox_WSEN = 742000, 4322000, 747000, 4325000 # EPSG 26912?\n",
    "x1, y1, x2, y2 = bbox_WSEN\n",
    "polygon = shapely.geometry.Polygon([[x1, y1], [x1, y2], [x2, y2], [x2, y1]]) # used box() before\n",
    "wkb_element = from_shape(polygon, srid=26912) # which srid is right?\n"
   ]
  },
  {
   "cell_type": "markdown",
   "id": "ac5fb285-6441-44ee-8b67-7954418af2e4",
   "metadata": {},
   "source": [
    "### Filter Data"
   ]
  },
  {
   "cell_type": "code",
   "execution_count": 61,
   "id": "c0c1e425-e131-4906-9336-4b3d1e67b010",
   "metadata": {},
   "outputs": [
    {
     "name": "stdout",
     "output_type": "stream",
     "text": [
      "                             geom        easting      northing        date  \\\n",
      "0  POINT (742381.442 4324179.239)  742381.442244  4.324179e+06  2020-01-28   \n",
      "1  POINT (742377.774 4324185.793)  742377.774179  4.324186e+06  2020-01-28   \n",
      "2  POINT (742378.640 4324185.819)  742378.639908  4.324186e+06  2020-01-28   \n",
      "3  POINT (742376.043 4324185.739)  742376.042720  4.324186e+06  2020-01-28   \n",
      "4  POINT (742376.908 4324185.766)  742376.908450  4.324186e+06  2020-01-28   \n",
      "\n",
      "   value   type  instrument  \n",
      "0   97.0  depth  magnaprobe  \n",
      "1  123.0  depth  magnaprobe  \n",
      "2  127.0  depth  magnaprobe  \n",
      "3  117.0  depth  magnaprobe  \n",
      "4  122.0  depth  magnaprobe  \n",
      "24029 records returned!\n"
     ]
    }
   ],
   "source": [
    "# Site name\n",
    "site_name = \"Grand Mesa\"\n",
    "\n",
    "# Instrument name \n",
    "instrument = \"magnaprobe\" \n",
    "\n",
    "# Get a session\n",
    "engine, session = get_db(db_name)\n",
    "\n",
    "# The part inside the query function is what we want back, in this case all columns for the point data\n",
    "qry = session.query(PointData.geom, PointData.easting, PointData.northing, PointData.date, PointData.value, \n",
    "                    PointData.type, PointData.instrument)\n",
    "\n",
    "# Filter by bounding box \n",
    "qry = qry.filter(gfunc.ST_Within(PointData.geom, wkb_element))\n",
    "\n",
    "# Filter by site\n",
    "# qry = qry.filter(PointData.site_name == site_name)\n",
    "\n",
    "# Filter by an instrument \n",
    "qry = qry.filter(PointData.instrument == instrument) # .in_(['magnaprobe', 'pit_ruler']))\n",
    "\n",
    "# Execute the query and convert to geopandas in one handy function\n",
    "df = query_to_geopandas(qry, engine) #directly pass to geopandas dataframe\n",
    "print(df.head())\n",
    "\n",
    "# how many did we retrieve?\n",
    "print(f'{len(df.index)} records returned!')\n",
    "\n",
    "session.close()"
   ]
  },
  {
   "cell_type": "markdown",
   "id": "93713c07-25c8-412c-9bf1-994c02ec1772",
   "metadata": {},
   "source": [
    "# IGNORE EVERYTHING PAST THIS POINT"
   ]
  },
  {
   "cell_type": "markdown",
   "id": "8f1ddf24-b47b-4e6f-9e7d-dccd6490f157",
   "metadata": {
    "tags": []
   },
   "source": [
    "### Create a Query"
   ]
  },
  {
   "cell_type": "code",
   "execution_count": 7,
   "id": "d55d388f-2368-4b95-8b24-f15e9fe61b2d",
   "metadata": {},
   "outputs": [
    {
     "name": "stdout",
     "output_type": "stream",
     "text": [
      "6940828\n"
     ]
    }
   ],
   "source": [
    "# This is what you will use for all of hackweek to access the db\n",
    "engine, session = get_db(db_name)\n",
    "\n",
    "# Lets grab a single row from the points table\n",
    "qry = session.query(PointData)\n",
    "qry = qry.filter(PointData.site_name == 'Grand Mesa')\n",
    "count = qry.count() \n",
    "print(count) \n",
    "\n",
    "# Execute that query!\n",
    "# result = qry.all()\n",
    "\n",
    "session.close()"
   ]
  },
  {
   "cell_type": "code",
   "execution_count": 46,
   "id": "e76416c2-7dde-4c26-88fa-b2bf967d0188",
   "metadata": {},
   "outputs": [
    {
     "name": "stdout",
     "output_type": "stream",
     "text": [
      "SELECT public.points.instrument AS public_points_instrument, public.points.date AS public_points_date, public.points.site_name AS public_points_site_name \n",
      "FROM public.points \n",
      "WHERE public.points.site_name = %(site_name_1)s AND public.points.instrument = %(instrument_1)s AND public.points.instrument = %(instrument_2)s\n",
      "\n",
      "Instruments Used to Measure Depth:  [(None,), ('Mala 1600 MHz GPR',), ('Mala 800 MHz GPR',), ('pulse EKKO Pro multi-polarization 1 GHz GPR',), ('pit ruler',), ('mesa',), ('magnaprobe',), ('camera',)]\n",
      "\n",
      "Instruments Used to Measure Two Way Travel:  [('Mala 1600 MHz GPR',), ('Mala 800 MHz GPR',), ('pulse EKKO Pro multi-polarization 1 GHz GPR',)]\n",
      "\n",
      "Instruments Used to Measure SWE:  [('Mala 1600 MHz GPR',), ('Mala 800 MHz GPR',), ('pulse EKKO Pro multi-polarization 1 GHz GPR',)]\n",
      "\n",
      "Instrument Measurement Types:  [('swe',), ('depth',), ('two_way_travel',)]\n",
      "\n",
      "Instrument Types:  [(None,), ('Mala 1600 MHz GPR',), ('Mala 800 MHz GPR',), ('pulse EKKO Pro multi-polarization 1 GHz GPR',), ('pit ruler',), ('mesa',), ('magnaprobe',), ('camera',)]\n"
     ]
    }
   ],
   "source": [
    "# This is what you will use for all of hackweek to access the db\n",
    "engine, session = get_db(db_name) # try to bracket this with session.close() as closely as possible as not to be kicked from the database \n",
    "\n",
    "# Its convenient to store a query like the following \n",
    "qry = session.query(PointData.instrument, PointData.date, PointData.site_name) \n",
    "\n",
    "# Then filter on it to just density profiles\n",
    "qry = qry.filter(PointData.site_name == 'Grand Mesa') # pull data from location \n",
    "qry = qry.filter(PointData.instrument == 'magnaprobe') \n",
    "# qry = qry.filter(PointData.instrument == 'pit ruler') \n",
    "# qry = qry.filter(PointData.instrument == 'Mala 1600 MHz GPR') \n",
    "# qry = qry.filter(PointData.instrument == 'Mala 1600 MHz GPR') \n",
    "# qry = qry.filter(PointData.instrument == 'pulse EKKO Pro multi-polarization 1 GHz GPR') \n",
    "\n",
    "\n",
    "# protect ourselves from a lot of data\n",
    "# qry = qry.limit(500) # only pull 5 points \n",
    "\n",
    "result = qry.all()\n",
    "# print(result)\n",
    "\n",
    "check = qry.filter(PointData.instrument == 'pit ruler')\n",
    "print(check)\n",
    "\n",
    "# Let see what instruments are available \n",
    "result = session.query(PointData.instrument).filter(PointData.type == 'depth').distinct().all()\n",
    "print('\\nInstruments Used to Measure Depth: ', result)\n",
    "\n",
    "result = session.query(PointData.instrument).filter(PointData.type == 'two_way_travel').distinct().all()\n",
    "print('\\nInstruments Used to Measure Two Way Travel: ', result)\n",
    "\n",
    "result = session.query(PointData.instrument).filter(PointData.type == 'swe').distinct().all()\n",
    "print('\\nInstruments Used to Measure SWE: ', result)\n",
    "\n",
    "result = session.query(PointData.type).distinct().all()\n",
    "print('\\nInstrument Measurement Types: ', result)\n",
    "\n",
    "result = session.query(PointData.instrument).distinct().all()\n",
    "print('\\nInstrument Types: ', result)\n",
    "\n",
    "session.close()"
   ]
  },
  {
   "cell_type": "markdown",
   "id": "435803f0-c730-40e2-827c-aed68a306fbe",
   "metadata": {},
   "source": [
    "### List Available Dates for Each Point Data Type "
   ]
  },
  {
   "cell_type": "code",
   "execution_count": 9,
   "id": "05979eb8-e95a-4c78-b939-9871d75b9957",
   "metadata": {},
   "outputs": [
    {
     "name": "stdout",
     "output_type": "stream",
     "text": [
      "\n",
      "Available Dates for Magnaprobe = 2020-01-28, 2020-01-29, 2020-01-30, 2020-01-31, 2020-02-01, 2020-02-04, 2020-02-05, 2020-02-06, 2020-02-07, 2020-02-08, 2020-02-10, 2020-02-11, 2020-02-12\n",
      "\n",
      "Available Dates Mala 1600 MHz GPR = 2020-02-04, 2020-02-06, 2020-02-05\n",
      "\n",
      "Available Dates Mala 800 MHz GPR = 2020-01-30, 2020-02-01, 2020-01-31, 2020-01-28, 2020-01-29\n",
      "\n",
      "Available Dates pulse EKKO Pro multi-polarization 1 GHz GPR = 2020-02-04, 2020-02-09, 2020-02-06, 2020-02-07, 2020-02-08, 2020-01-28, 2020-01-29\n",
      "\n",
      "Available Dates pit ruler = 2019-12-19, 2020-01-22, 2020-01-28, 2020-01-29, 2020-01-30, 2020-01-31, 2020-02-01, 2020-02-03, 2020-02-04, 2020-02-05, 2020-02-06, 2020-02-08, 2020-02-09, 2020-02-10, 2020-02-11, 2020-02-12, 2020-03-12, 2020-03-18, 2020-03-21\n"
     ]
    }
   ],
   "source": [
    "# df = pd.DataFrame(columns = len(session.query(PointData.instrument).filter(PointData.type == 'depth').distinct().all()))\n",
    "\n",
    "results = session.query(PointData.date).filter(PointData.instrument == 'magnaprobe').distinct().all()\n",
    "print('\\nAvailable Dates for Magnaprobe = {}'.format(', '.join([str(r[0]) for r in results])))\n",
    "\n",
    "results = session.query(PointData.date).filter(PointData.instrument == 'Mala 1600 MHz GPR').distinct().all()\n",
    "print('\\nAvailable Dates Mala 1600 MHz GPR = {}'.format(', '.join([str(r[0]) for r in results])))\n",
    "\n",
    "results = session.query(PointData.date).filter(PointData.instrument == 'Mala 800 MHz GPR').distinct().all()\n",
    "print('\\nAvailable Dates Mala 800 MHz GPR = {}'.format(', '.join([str(r[0]) for r in results])))\n",
    "\n",
    "results = session.query(PointData.date).filter(PointData.instrument == 'pulse EKKO Pro multi-polarization 1 GHz GPR').distinct().all()\n",
    "print('\\nAvailable Dates pulse EKKO Pro multi-polarization 1 GHz GPR = {}'.format(', '.join([str(r[0]) for r in results])))\n",
    "\n",
    "results = session.query(PointData.date).filter(PointData.instrument == 'pit ruler').distinct().all()\n",
    "print('\\nAvailable Dates pit ruler = {}'.format(', '.join([str(r[0]) for r in results])))\n"
   ]
  },
  {
   "cell_type": "code",
   "execution_count": 50,
   "id": "809ede8d-5b34-4678-b1f9-d2ed86abdaf3",
   "metadata": {},
   "outputs": [
    {
     "ename": "AttributeError",
     "evalue": "type object 'SiteData' has no attribute 'instrument'",
     "output_type": "error",
     "traceback": [
      "\u001b[0;31m---------------------------------------------------------------------------\u001b[0m",
      "\u001b[0;31mAttributeError\u001b[0m                            Traceback (most recent call last)",
      "Input \u001b[0;32mIn [50]\u001b[0m, in \u001b[0;36m<cell line: 1>\u001b[0;34m()\u001b[0m\n\u001b[0;32m----> 1\u001b[0m results \u001b[38;5;241m=\u001b[39m session\u001b[38;5;241m.\u001b[39mquery(SiteData\u001b[38;5;241m.\u001b[39mdate)\u001b[38;5;241m.\u001b[39mfilter(\u001b[43mSiteData\u001b[49m\u001b[38;5;241;43m.\u001b[39;49m\u001b[43minstrument\u001b[49m \u001b[38;5;241m==\u001b[39m \u001b[38;5;124m'\u001b[39m\u001b[38;5;124mmagnaprobe\u001b[39m\u001b[38;5;124m'\u001b[39m)\u001b[38;5;241m.\u001b[39mdistinct()\u001b[38;5;241m.\u001b[39mall()\n\u001b[1;32m      2\u001b[0m \u001b[38;5;28mprint\u001b[39m(\u001b[38;5;124m'\u001b[39m\u001b[38;5;130;01m\\n\u001b[39;00m\u001b[38;5;124mAvailable Dates for Magnaprobe = \u001b[39m\u001b[38;5;132;01m{}\u001b[39;00m\u001b[38;5;124m'\u001b[39m\u001b[38;5;241m.\u001b[39mformat(\u001b[38;5;124m'\u001b[39m\u001b[38;5;124m, \u001b[39m\u001b[38;5;124m'\u001b[39m\u001b[38;5;241m.\u001b[39mjoin([\u001b[38;5;28mstr\u001b[39m(r[\u001b[38;5;241m0\u001b[39m]) \u001b[38;5;28;01mfor\u001b[39;00m r \u001b[38;5;129;01min\u001b[39;00m results])))\n",
      "\u001b[0;31mAttributeError\u001b[0m: type object 'SiteData' has no attribute 'instrument'"
     ]
    }
   ],
   "source": [
    "results = session.query(SiteData.date).filter(SiteData.instrument == 'magnaprobe').distinct().all()\n",
    "print('\\nAvailable Dates for Magnaprobe = {}'.format(', '.join([str(r[0]) for r in results])))\n"
   ]
  }
 ],
 "metadata": {
  "kernelspec": {
   "display_name": "Python 3 (ipykernel)",
   "language": "python",
   "name": "python3"
  },
  "language_info": {
   "codemirror_mode": {
    "name": "ipython",
    "version": 3
   },
   "file_extension": ".py",
   "mimetype": "text/x-python",
   "name": "python",
   "nbconvert_exporter": "python",
   "pygments_lexer": "ipython3",
   "version": "3.10.5"
  }
 },
 "nbformat": 4,
 "nbformat_minor": 5
}
