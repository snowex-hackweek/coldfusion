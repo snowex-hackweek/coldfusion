{
 "cells": [
  {
   "cell_type": "markdown",
   "id": "c3d10946-be22-4cee-8bdc-55212cda2325",
   "metadata": {},
   "source": [
    "# Query SnowEx database for the data we want\n",
    "* Seth Vanderwilt\n",
    "* coldfusion GPR-LiDAR\n",
    "* 7/12/22"
   ]
  },
  {
   "cell_type": "markdown",
   "id": "7d79a4ca-e3b9-42b8-9896-150c65072f57",
   "metadata": {},
   "source": [
    "## Imports (from https://snowex.hackweek.io/tutorials/core-datasets/03_database_preview.html)"
   ]
  },
  {
   "cell_type": "code",
   "execution_count": 1,
   "id": "7bdf239c-7742-430a-95ea-2ce1cec6c6c9",
   "metadata": {},
   "outputs": [],
   "source": [
    "# standard imports\n",
    "import numpy as np\n",
    "import geopandas as gpd\n",
    "import matplotlib\n",
    "import matplotlib.pyplot as plt \n",
    "import datetime\n",
    "\n",
    "# some mapping widgets\n",
    "import ipyleaflet\n",
    "from ipyleaflet import Map, GeoData, Rectangle, basemaps, LayersControl, basemap_to_tiles, TileLayer, SplitMapControl, Polygon, MagnifyingGlass\n",
    "import ipywidgets\n",
    "\n",
    "# database imports\n",
    "from snowexsql.db import get_db\n",
    "from snowexsql.data import PointData, LayerData, ImageData, SiteData\n",
    "from snowexsql.conversions import query_to_geopandas, query_to_pandas"
   ]
  },
  {
   "cell_type": "code",
   "execution_count": 14,
   "id": "392468d3-8d4c-4d2f-9682-e9d4379bf2ec",
   "metadata": {},
   "outputs": [
    {
     "name": "stdout",
     "output_type": "stream",
     "text": [
      "SnowEx Database successfully loaded!\n"
     ]
    }
   ],
   "source": [
    "# load the database\n",
    "db_name = 'snow:hackweek@db.snowexdata.org/snowex'\n",
    "engine, session = get_db(db_name)\n",
    "\n",
    "print('SnowEx Database successfully loaded!')"
   ]
  },
  {
   "cell_type": "markdown",
   "id": "b9612fe6-ca90-4e87-b90a-f207dd6dbb07",
   "metadata": {},
   "source": [
    "## Queries to see which kinds of data we have available"
   ]
  },
  {
   "cell_type": "code",
   "execution_count": null,
   "id": "01acd2c1-eac2-4606-88a4-47a62501bc5a",
   "metadata": {},
   "outputs": [
    {
     "name": "stdout",
     "output_type": "stream",
     "text": [
      "These are the available columns in the table:\n",
      " \n",
      "* date\n",
      "* date_accessed\n",
      "* doi\n",
      "* easting\n",
      "* elevation\n",
      "* equipment\n",
      "* geom\n",
      "* instrument\n",
      "* latitude\n",
      "* longitude\n",
      "* metadata\n",
      "* northing\n",
      "* observers\n",
      "* registry\n",
      "* site_id\n",
      "* site_name\n",
      "* time\n",
      "* time_created\n",
      "* time_updated\n",
      "* type\n",
      "* units\n",
      "* utm_zone\n",
      "* value\n",
      "* version_number\n",
      "\n"
     ]
    }
   ],
   "source": [
    "# from https://snowex.hackweek.io/tutorials/database/2_database_structure.html\n",
    "\n",
    "# Import the function to investigate a table\n",
    "from snowexsql.db import get_table_attributes\n",
    "\n",
    "# Use the function to see what columns are available to use. \n",
    "db_columns = get_table_attributes(PointData)\n",
    "\n",
    "# Print out the results nicely\n",
    "print(\"These are the available columns in the table:\\n \\n* {}\\n\".format('\\n* '.join(db_columns)))\n"
   ]
  },
  {
   "cell_type": "code",
   "execution_count": 41,
   "id": "1385ecf3-31c0-4c87-b299-f5da6f4f2488",
   "metadata": {},
   "outputs": [
    {
     "data": {
      "text/plain": [
       "[('https://doi.org/10.5067/WE9GI1GVMQF6',),\n",
       " (None,),\n",
       " ('https://doi.org/10.5067/Q2LFK0QSVGS2',),\n",
       " ('https://doi.org/10.5067/S5EGFLCIAB18',),\n",
       " ('https://doi.org/10.5067/9IA978JIACAR',)]"
      ]
     },
     "execution_count": 41,
     "metadata": {},
     "output_type": "execute_result"
    }
   ],
   "source": [
    "# session.query(PointData.site_id).distinct().all() # None\n",
    "# session.query(PointData.registry).distinct().all() # registry fails for some reason?\n",
    "session.query(PointData.doi).distinct().all()"
   ]
  },
  {
   "cell_type": "code",
   "execution_count": 42,
   "id": "8ebbbed0-545e-4655-801f-218c12ce7dbb",
   "metadata": {},
   "outputs": [
    {
     "data": {
      "text/plain": [
       "[('depth',), ('swe',), ('two_way_travel',)]"
      ]
     },
     "execution_count": 42,
     "metadata": {},
     "output_type": "execute_result"
    }
   ],
   "source": [
    "query = session.query(PointData.type)\n",
    "query = query.filter(PointData.doi == \"https://doi.org/10.5067/Q2LFK0QSVGS2\")\n",
    "types = query.distinct().all()\n",
    "types"
   ]
  },
  {
   "cell_type": "code",
   "execution_count": 20,
   "id": "125be387-c402-46d6-a8b6-c2833a0abece",
   "metadata": {},
   "outputs": [
    {
     "data": {
      "text/plain": [
       "[(None,), ('Grand Mesa',)]"
      ]
     },
     "execution_count": 20,
     "metadata": {},
     "output_type": "execute_result"
    }
   ],
   "source": [
    "point_site_names = session.query(PointData.site_name).distinct().all()\n",
    "point_site_names # [(None,), ('Grand Mesa',)]"
   ]
  },
  {
   "cell_type": "code",
   "execution_count": 19,
   "id": "6371a35d-43bd-4f10-b531-0fe2c86dd169",
   "metadata": {},
   "outputs": [
    {
     "data": {
      "text/plain": [
       "[('Catherine Breen, Cassie Lumbrazo',),\n",
       " (None,),\n",
       " ('Ryan Webb',),\n",
       " ('Randall Bonnell',),\n",
       " ('Tate Meehan',)]"
      ]
     },
     "execution_count": 19,
     "metadata": {},
     "output_type": "execute_result"
    }
   ],
   "source": [
    "point_observers = session.query(PointData.observers).distinct().all() # Tate Meehan\n",
    "point_observers"
   ]
  },
  {
   "cell_type": "markdown",
   "id": "75b03524-c4de-450d-ba56-4b741b47eefe",
   "metadata": {},
   "source": [
    "### GPR is point data, so let's query the database to see which point data corresponds to Grand Mesa GPR"
   ]
  },
  {
   "cell_type": "code",
   "execution_count": 15,
   "id": "d4901c42-87f4-49a8-b622-16eb39326e29",
   "metadata": {},
   "outputs": [
    {
     "name": "stdout",
     "output_type": "stream",
     "text": [
      "Point data are: Mala 1600 MHz GPR, Mala 800 MHz GPR, pulse EKKO Pro multi-polarization 1 GHz GPR, pit ruler, mesa, magnaprobe, camera, with the following list of parameters: swe, depth, two_way_travel\n"
     ]
    }
   ],
   "source": [
    "# Grab all Point data instruments from our date\n",
    "point_instruments = session.query(PointData.instrument).distinct().all()\n",
    "point_type = session.query(PointData.type).distinct().all()\n",
    "\n",
    "\n",
    "# Clean up point data (i.e. remove tuple)\n",
    "point_instruments_list = [p[0] for p in point_instruments if p[0] is not None]\n",
    "point_instruments = \", \".join(point_instruments_list)\n",
    "point_type_list = [p[0] for p in point_type]\n",
    "point_type = \", \".join(point_type_list)\n",
    "print('Point data are: %s, with the following list of parameters: %s' %(point_instruments, point_type))\n"
   ]
  },
  {
   "cell_type": "markdown",
   "id": "7512a5ce-9019-4326-a69f-69f38c0bedc6",
   "metadata": {},
   "source": [
    "Looking at https://nsidc.org/data/snowex/data_summaries we see that in 2020 there are some GPR datasets:\n",
    "* BSU Grand Mesa **what we want to start, appears to be \"pulse EKKO Pro multi-polarization 1 GHz GPR\"**\n",
    "    - https://nsidc.org/data/SNEX20_BSU_GPR/versions/1\n",
    "* CSU Cameron Pass\n",
    "* NMU Jemez"
   ]
  },
  {
   "cell_type": "code",
   "execution_count": 23,
   "id": "dfc30cc5-9d15-4dd8-a715-ddc6e8bfd3d7",
   "metadata": {},
   "outputs": [],
   "source": [
    "bsu_gpr_instrument_name = \"pulse EKKO Pro multi-polarization 1 GHz GPR\""
   ]
  },
  {
   "cell_type": "code",
   "execution_count": 29,
   "id": "0757cb0d-474e-4f2f-9f1c-226176e9f1ab",
   "metadata": {},
   "outputs": [
    {
     "data": {
      "text/plain": [
       "[('Randall Bonnell',), ('Tate Meehan',)]"
      ]
     },
     "execution_count": 29,
     "metadata": {},
     "output_type": "execute_result"
    }
   ],
   "source": [
    "query = session.query(PointData.observers)\n",
    "# fixed bug: have to do `query = query.filter(...)` to modify the query\n",
    "query = query.filter(PointData.instrument == bsu_gpr_instrument_name)\n",
    "\n",
    "bsu_gpr_observer = query.distinct().all()\n",
    "bsu_gpr_observer\n",
    "\n",
    "# From this, we see that Tate was not the only one out there collecting GPR data with the BSU GPR\n",
    "# observers are [('Randall Bonnell',), ('Tate Meehan',)]"
   ]
  },
  {
   "cell_type": "code",
   "execution_count": 32,
   "id": "28500b2b-07cd-4cdd-a8fb-555880dd6e98",
   "metadata": {},
   "outputs": [
    {
     "data": {
      "text/plain": [
       "[(datetime.date(2020, 2, 4),),\n",
       " (datetime.date(2020, 2, 9),),\n",
       " (datetime.date(2020, 2, 6),),\n",
       " (datetime.date(2020, 2, 7),),\n",
       " (datetime.date(2020, 2, 8),),\n",
       " (datetime.date(2020, 1, 28),),\n",
       " (datetime.date(2020, 1, 29),)]"
      ]
     },
     "execution_count": 32,
     "metadata": {},
     "output_type": "execute_result"
    }
   ],
   "source": [
    "query = session.query(PointData.date)\n",
    "query = query.filter(PointData.instrument == bsu_gpr_instrument_name)\n",
    "\n",
    "bsu_gpr_dates = query.distinct().all()\n",
    "bsu_gpr_dates"
   ]
  },
  {
   "cell_type": "code",
   "execution_count": null,
   "id": "d3900175-3665-4e68-a3e2-819c24d2a569",
   "metadata": {},
   "outputs": [],
   "source": [
    "# date_range = [dt + i * datetime.timedelta(days=1) for i in [-1, 0, 1]]\n",
    "# qry = qry.filter(PointData.date.in_(date_range))"
   ]
  },
  {
   "cell_type": "code",
   "execution_count": 63,
   "id": "c6be4578-c0da-4171-9865-295638f88ae5",
   "metadata": {},
   "outputs": [
    {
     "data": {
      "text/html": [
       "<div>\n",
       "<style scoped>\n",
       "    .dataframe tbody tr th:only-of-type {\n",
       "        vertical-align: middle;\n",
       "    }\n",
       "\n",
       "    .dataframe tbody tr th {\n",
       "        vertical-align: top;\n",
       "    }\n",
       "\n",
       "    .dataframe thead th {\n",
       "        text-align: right;\n",
       "    }\n",
       "</style>\n",
       "<table border=\"1\" class=\"dataframe\">\n",
       "  <thead>\n",
       "    <tr style=\"text-align: right;\">\n",
       "      <th></th>\n",
       "      <th>site_name</th>\n",
       "      <th>date</th>\n",
       "      <th>time_created</th>\n",
       "      <th>time_updated</th>\n",
       "      <th>id</th>\n",
       "      <th>doi</th>\n",
       "      <th>date_accessed</th>\n",
       "      <th>instrument</th>\n",
       "      <th>type</th>\n",
       "      <th>units</th>\n",
       "      <th>...</th>\n",
       "      <th>easting</th>\n",
       "      <th>elevation</th>\n",
       "      <th>utm_zone</th>\n",
       "      <th>geom</th>\n",
       "      <th>time</th>\n",
       "      <th>site_id</th>\n",
       "      <th>version_number</th>\n",
       "      <th>equipment</th>\n",
       "      <th>value</th>\n",
       "      <th>random_1</th>\n",
       "    </tr>\n",
       "  </thead>\n",
       "  <tbody>\n",
       "    <tr>\n",
       "      <th>0</th>\n",
       "      <td>Grand Mesa</td>\n",
       "      <td>2020-01-28</td>\n",
       "      <td>2022-07-05 16:50:30.058972+00:00</td>\n",
       "      <td>None</td>\n",
       "      <td>3085937</td>\n",
       "      <td>https://doi.org/10.5067/Q2LFK0QSVGS2</td>\n",
       "      <td>2022-06-30</td>\n",
       "      <td>pulse EKKO Pro multi-polarization 1 GHz GPR</td>\n",
       "      <td>swe</td>\n",
       "      <td>mm</td>\n",
       "      <td>...</td>\n",
       "      <td>743673.905030</td>\n",
       "      <td>None</td>\n",
       "      <td>12</td>\n",
       "      <td>POINT (743673.905 4324591.633)</td>\n",
       "      <td>23:07:15.217000+00:00</td>\n",
       "      <td>None</td>\n",
       "      <td>None</td>\n",
       "      <td>None</td>\n",
       "      <td>299.270698</td>\n",
       "      <td>4.280334e-09</td>\n",
       "    </tr>\n",
       "    <tr>\n",
       "      <th>1</th>\n",
       "      <td>Grand Mesa</td>\n",
       "      <td>2020-02-04</td>\n",
       "      <td>2022-07-05 16:50:30.058972+00:00</td>\n",
       "      <td>None</td>\n",
       "      <td>3699010</td>\n",
       "      <td>https://doi.org/10.5067/Q2LFK0QSVGS2</td>\n",
       "      <td>2022-06-30</td>\n",
       "      <td>pulse EKKO Pro multi-polarization 1 GHz GPR</td>\n",
       "      <td>swe</td>\n",
       "      <td>mm</td>\n",
       "      <td>...</td>\n",
       "      <td>745610.767031</td>\n",
       "      <td>None</td>\n",
       "      <td>12</td>\n",
       "      <td>POINT (745610.767 4321298.760)</td>\n",
       "      <td>21:31:54.533000+00:00</td>\n",
       "      <td>None</td>\n",
       "      <td>None</td>\n",
       "      <td>None</td>\n",
       "      <td>192.863339</td>\n",
       "      <td>2.507623e-07</td>\n",
       "    </tr>\n",
       "    <tr>\n",
       "      <th>2</th>\n",
       "      <td>Grand Mesa</td>\n",
       "      <td>2020-02-04</td>\n",
       "      <td>2022-07-05 16:40:53.274742+00:00</td>\n",
       "      <td>None</td>\n",
       "      <td>1127751</td>\n",
       "      <td>https://doi.org/10.5067/Q2LFK0QSVGS2</td>\n",
       "      <td>2022-06-30</td>\n",
       "      <td>pulse EKKO Pro multi-polarization 1 GHz GPR</td>\n",
       "      <td>two_way_travel</td>\n",
       "      <td>ns</td>\n",
       "      <td>...</td>\n",
       "      <td>745461.833031</td>\n",
       "      <td>None</td>\n",
       "      <td>12</td>\n",
       "      <td>POINT (745461.833 4321943.337)</td>\n",
       "      <td>21:08:57.983000+00:00</td>\n",
       "      <td>None</td>\n",
       "      <td>None</td>\n",
       "      <td>None</td>\n",
       "      <td>7.900000</td>\n",
       "      <td>3.944879e-07</td>\n",
       "    </tr>\n",
       "    <tr>\n",
       "      <th>3</th>\n",
       "      <td>Grand Mesa</td>\n",
       "      <td>2020-01-28</td>\n",
       "      <td>2022-07-05 16:45:41.402741+00:00</td>\n",
       "      <td>None</td>\n",
       "      <td>1741469</td>\n",
       "      <td>https://doi.org/10.5067/Q2LFK0QSVGS2</td>\n",
       "      <td>2022-06-30</td>\n",
       "      <td>pulse EKKO Pro multi-polarization 1 GHz GPR</td>\n",
       "      <td>depth</td>\n",
       "      <td>cm</td>\n",
       "      <td>...</td>\n",
       "      <td>742666.800029</td>\n",
       "      <td>None</td>\n",
       "      <td>12</td>\n",
       "      <td>POINT (742666.800 4323460.057)</td>\n",
       "      <td>21:48:04.350000+00:00</td>\n",
       "      <td>None</td>\n",
       "      <td>None</td>\n",
       "      <td>None</td>\n",
       "      <td>114.495098</td>\n",
       "      <td>7.319686e-07</td>\n",
       "    </tr>\n",
       "    <tr>\n",
       "      <th>4</th>\n",
       "      <td>Grand Mesa</td>\n",
       "      <td>2020-01-28</td>\n",
       "      <td>2022-07-05 16:40:53.274742+00:00</td>\n",
       "      <td>None</td>\n",
       "      <td>527761</td>\n",
       "      <td>https://doi.org/10.5067/Q2LFK0QSVGS2</td>\n",
       "      <td>2022-06-30</td>\n",
       "      <td>pulse EKKO Pro multi-polarization 1 GHz GPR</td>\n",
       "      <td>two_way_travel</td>\n",
       "      <td>ns</td>\n",
       "      <td>...</td>\n",
       "      <td>743514.708029</td>\n",
       "      <td>None</td>\n",
       "      <td>12</td>\n",
       "      <td>POINT (743514.708 4324252.028)</td>\n",
       "      <td>22:51:22.333000+00:00</td>\n",
       "      <td>None</td>\n",
       "      <td>None</td>\n",
       "      <td>None</td>\n",
       "      <td>8.500000</td>\n",
       "      <td>7.489761e-07</td>\n",
       "    </tr>\n",
       "    <tr>\n",
       "      <th>...</th>\n",
       "      <td>...</td>\n",
       "      <td>...</td>\n",
       "      <td>...</td>\n",
       "      <td>...</td>\n",
       "      <td>...</td>\n",
       "      <td>...</td>\n",
       "      <td>...</td>\n",
       "      <td>...</td>\n",
       "      <td>...</td>\n",
       "      <td>...</td>\n",
       "      <td>...</td>\n",
       "      <td>...</td>\n",
       "      <td>...</td>\n",
       "      <td>...</td>\n",
       "      <td>...</td>\n",
       "      <td>...</td>\n",
       "      <td>...</td>\n",
       "      <td>...</td>\n",
       "      <td>...</td>\n",
       "      <td>...</td>\n",
       "      <td>...</td>\n",
       "    </tr>\n",
       "    <tr>\n",
       "      <th>95</th>\n",
       "      <td>Grand Mesa</td>\n",
       "      <td>2020-01-28</td>\n",
       "      <td>2022-07-05 16:50:30.058972+00:00</td>\n",
       "      <td>None</td>\n",
       "      <td>2918451</td>\n",
       "      <td>https://doi.org/10.5067/Q2LFK0QSVGS2</td>\n",
       "      <td>2022-06-30</td>\n",
       "      <td>pulse EKKO Pro multi-polarization 1 GHz GPR</td>\n",
       "      <td>swe</td>\n",
       "      <td>mm</td>\n",
       "      <td>...</td>\n",
       "      <td>743364.956029</td>\n",
       "      <td>None</td>\n",
       "      <td>12</td>\n",
       "      <td>POINT (743364.956 4324124.936)</td>\n",
       "      <td>20:40:46.883000+00:00</td>\n",
       "      <td>None</td>\n",
       "      <td>None</td>\n",
       "      <td>None</td>\n",
       "      <td>259.367938</td>\n",
       "      <td>2.073056e-05</td>\n",
       "    </tr>\n",
       "    <tr>\n",
       "      <th>96</th>\n",
       "      <td>Grand Mesa</td>\n",
       "      <td>2020-01-28</td>\n",
       "      <td>2022-07-05 16:40:53.274742+00:00</td>\n",
       "      <td>None</td>\n",
       "      <td>247669</td>\n",
       "      <td>https://doi.org/10.5067/Q2LFK0QSVGS2</td>\n",
       "      <td>2022-06-30</td>\n",
       "      <td>pulse EKKO Pro multi-polarization 1 GHz GPR</td>\n",
       "      <td>two_way_travel</td>\n",
       "      <td>ns</td>\n",
       "      <td>...</td>\n",
       "      <td>743192.822029</td>\n",
       "      <td>None</td>\n",
       "      <td>12</td>\n",
       "      <td>POINT (743192.822 4324192.973)</td>\n",
       "      <td>18:45:52.083000+00:00</td>\n",
       "      <td>None</td>\n",
       "      <td>None</td>\n",
       "      <td>None</td>\n",
       "      <td>8.000000</td>\n",
       "      <td>2.085991e-05</td>\n",
       "    </tr>\n",
       "    <tr>\n",
       "      <th>97</th>\n",
       "      <td>Grand Mesa</td>\n",
       "      <td>2020-02-06</td>\n",
       "      <td>2022-07-07 19:57:21.141883+00:00</td>\n",
       "      <td>None</td>\n",
       "      <td>4021229</td>\n",
       "      <td>https://doi.org/10.5067/S5EGFLCIAB18</td>\n",
       "      <td>2022-07-07</td>\n",
       "      <td>pulse EKKO Pro multi-polarization 1 GHz GPR</td>\n",
       "      <td>depth</td>\n",
       "      <td>cm</td>\n",
       "      <td>...</td>\n",
       "      <td>745473.457456</td>\n",
       "      <td>None</td>\n",
       "      <td>12</td>\n",
       "      <td>POINT (745473.457 4322492.650)</td>\n",
       "      <td>None</td>\n",
       "      <td>None</td>\n",
       "      <td>None</td>\n",
       "      <td>None</td>\n",
       "      <td>89.546131</td>\n",
       "      <td>2.087798e-05</td>\n",
       "    </tr>\n",
       "    <tr>\n",
       "      <th>98</th>\n",
       "      <td>Grand Mesa</td>\n",
       "      <td>2020-01-28</td>\n",
       "      <td>2022-07-05 16:45:41.402741+00:00</td>\n",
       "      <td>None</td>\n",
       "      <td>1777581</td>\n",
       "      <td>https://doi.org/10.5067/Q2LFK0QSVGS2</td>\n",
       "      <td>2022-06-30</td>\n",
       "      <td>pulse EKKO Pro multi-polarization 1 GHz GPR</td>\n",
       "      <td>depth</td>\n",
       "      <td>cm</td>\n",
       "      <td>...</td>\n",
       "      <td>743519.640029</td>\n",
       "      <td>None</td>\n",
       "      <td>12</td>\n",
       "      <td>POINT (743519.640 4324365.533)</td>\n",
       "      <td>22:43:01.400000+00:00</td>\n",
       "      <td>None</td>\n",
       "      <td>None</td>\n",
       "      <td>None</td>\n",
       "      <td>138.855757</td>\n",
       "      <td>2.093269e-05</td>\n",
       "    </tr>\n",
       "    <tr>\n",
       "      <th>99</th>\n",
       "      <td>Grand Mesa</td>\n",
       "      <td>2020-01-28</td>\n",
       "      <td>2022-07-05 16:45:41.402741+00:00</td>\n",
       "      <td>None</td>\n",
       "      <td>1597077</td>\n",
       "      <td>https://doi.org/10.5067/Q2LFK0QSVGS2</td>\n",
       "      <td>2022-06-30</td>\n",
       "      <td>pulse EKKO Pro multi-polarization 1 GHz GPR</td>\n",
       "      <td>depth</td>\n",
       "      <td>cm</td>\n",
       "      <td>...</td>\n",
       "      <td>743250.832029</td>\n",
       "      <td>None</td>\n",
       "      <td>12</td>\n",
       "      <td>POINT (743250.832 4323703.107)</td>\n",
       "      <td>19:36:27.683000+00:00</td>\n",
       "      <td>None</td>\n",
       "      <td>None</td>\n",
       "      <td>None</td>\n",
       "      <td>91.352472</td>\n",
       "      <td>2.102488e-05</td>\n",
       "    </tr>\n",
       "  </tbody>\n",
       "</table>\n",
       "<p>100 rows × 24 columns</p>\n",
       "</div>"
      ],
      "text/plain": [
       "     site_name        date                     time_created time_updated  \\\n",
       "0   Grand Mesa  2020-01-28 2022-07-05 16:50:30.058972+00:00         None   \n",
       "1   Grand Mesa  2020-02-04 2022-07-05 16:50:30.058972+00:00         None   \n",
       "2   Grand Mesa  2020-02-04 2022-07-05 16:40:53.274742+00:00         None   \n",
       "3   Grand Mesa  2020-01-28 2022-07-05 16:45:41.402741+00:00         None   \n",
       "4   Grand Mesa  2020-01-28 2022-07-05 16:40:53.274742+00:00         None   \n",
       "..         ...         ...                              ...          ...   \n",
       "95  Grand Mesa  2020-01-28 2022-07-05 16:50:30.058972+00:00         None   \n",
       "96  Grand Mesa  2020-01-28 2022-07-05 16:40:53.274742+00:00         None   \n",
       "97  Grand Mesa  2020-02-06 2022-07-07 19:57:21.141883+00:00         None   \n",
       "98  Grand Mesa  2020-01-28 2022-07-05 16:45:41.402741+00:00         None   \n",
       "99  Grand Mesa  2020-01-28 2022-07-05 16:45:41.402741+00:00         None   \n",
       "\n",
       "         id                                   doi date_accessed  \\\n",
       "0   3085937  https://doi.org/10.5067/Q2LFK0QSVGS2    2022-06-30   \n",
       "1   3699010  https://doi.org/10.5067/Q2LFK0QSVGS2    2022-06-30   \n",
       "2   1127751  https://doi.org/10.5067/Q2LFK0QSVGS2    2022-06-30   \n",
       "3   1741469  https://doi.org/10.5067/Q2LFK0QSVGS2    2022-06-30   \n",
       "4    527761  https://doi.org/10.5067/Q2LFK0QSVGS2    2022-06-30   \n",
       "..      ...                                   ...           ...   \n",
       "95  2918451  https://doi.org/10.5067/Q2LFK0QSVGS2    2022-06-30   \n",
       "96   247669  https://doi.org/10.5067/Q2LFK0QSVGS2    2022-06-30   \n",
       "97  4021229  https://doi.org/10.5067/S5EGFLCIAB18    2022-07-07   \n",
       "98  1777581  https://doi.org/10.5067/Q2LFK0QSVGS2    2022-06-30   \n",
       "99  1597077  https://doi.org/10.5067/Q2LFK0QSVGS2    2022-06-30   \n",
       "\n",
       "                                     instrument            type units  ...  \\\n",
       "0   pulse EKKO Pro multi-polarization 1 GHz GPR             swe    mm  ...   \n",
       "1   pulse EKKO Pro multi-polarization 1 GHz GPR             swe    mm  ...   \n",
       "2   pulse EKKO Pro multi-polarization 1 GHz GPR  two_way_travel    ns  ...   \n",
       "3   pulse EKKO Pro multi-polarization 1 GHz GPR           depth    cm  ...   \n",
       "4   pulse EKKO Pro multi-polarization 1 GHz GPR  two_way_travel    ns  ...   \n",
       "..                                          ...             ...   ...  ...   \n",
       "95  pulse EKKO Pro multi-polarization 1 GHz GPR             swe    mm  ...   \n",
       "96  pulse EKKO Pro multi-polarization 1 GHz GPR  two_way_travel    ns  ...   \n",
       "97  pulse EKKO Pro multi-polarization 1 GHz GPR           depth    cm  ...   \n",
       "98  pulse EKKO Pro multi-polarization 1 GHz GPR           depth    cm  ...   \n",
       "99  pulse EKKO Pro multi-polarization 1 GHz GPR           depth    cm  ...   \n",
       "\n",
       "          easting  elevation  utm_zone                            geom  \\\n",
       "0   743673.905030       None        12  POINT (743673.905 4324591.633)   \n",
       "1   745610.767031       None        12  POINT (745610.767 4321298.760)   \n",
       "2   745461.833031       None        12  POINT (745461.833 4321943.337)   \n",
       "3   742666.800029       None        12  POINT (742666.800 4323460.057)   \n",
       "4   743514.708029       None        12  POINT (743514.708 4324252.028)   \n",
       "..            ...        ...       ...                             ...   \n",
       "95  743364.956029       None        12  POINT (743364.956 4324124.936)   \n",
       "96  743192.822029       None        12  POINT (743192.822 4324192.973)   \n",
       "97  745473.457456       None        12  POINT (745473.457 4322492.650)   \n",
       "98  743519.640029       None        12  POINT (743519.640 4324365.533)   \n",
       "99  743250.832029       None        12  POINT (743250.832 4323703.107)   \n",
       "\n",
       "                     time site_id  version_number equipment       value  \\\n",
       "0   23:07:15.217000+00:00    None            None      None  299.270698   \n",
       "1   21:31:54.533000+00:00    None            None      None  192.863339   \n",
       "2   21:08:57.983000+00:00    None            None      None    7.900000   \n",
       "3   21:48:04.350000+00:00    None            None      None  114.495098   \n",
       "4   22:51:22.333000+00:00    None            None      None    8.500000   \n",
       "..                    ...     ...             ...       ...         ...   \n",
       "95  20:40:46.883000+00:00    None            None      None  259.367938   \n",
       "96  18:45:52.083000+00:00    None            None      None    8.000000   \n",
       "97                   None    None            None      None   89.546131   \n",
       "98  22:43:01.400000+00:00    None            None      None  138.855757   \n",
       "99  19:36:27.683000+00:00    None            None      None   91.352472   \n",
       "\n",
       "        random_1  \n",
       "0   4.280334e-09  \n",
       "1   2.507623e-07  \n",
       "2   3.944879e-07  \n",
       "3   7.319686e-07  \n",
       "4   7.489761e-07  \n",
       "..           ...  \n",
       "95  2.073056e-05  \n",
       "96  2.085991e-05  \n",
       "97  2.087798e-05  \n",
       "98  2.093269e-05  \n",
       "99  2.102488e-05  \n",
       "\n",
       "[100 rows x 24 columns]"
      ]
     },
     "execution_count": 63,
     "metadata": {},
     "output_type": "execute_result"
    }
   ],
   "source": [
    "# Took 5-10 seconds\n",
    "from sqlalchemy.sql import func\n",
    "\n",
    "query = session.query(PointData)\n",
    "query = query.filter(PointData.instrument == bsu_gpr_instrument_name)\n",
    "query = query.distinct().order_by(func.random()).limit(100) #all()\n",
    "\n",
    "bsu_gpr_sample = query_to_geopandas(query, engine)\n",
    "bsu_gpr_sample"
   ]
  },
  {
   "cell_type": "code",
   "execution_count": null,
   "id": "53c28719-5e47-46ac-a47c-bf0278090635",
   "metadata": {},
   "outputs": [],
   "source": []
  },
  {
   "cell_type": "code",
   "execution_count": 64,
   "id": "e5f54985-842b-4ab0-a524-ca6f8decc9a1",
   "metadata": {},
   "outputs": [
    {
     "data": {
      "text/plain": [
       "<AxesSubplot:>"
      ]
     },
     "execution_count": 64,
     "metadata": {},
     "output_type": "execute_result"
    },
    {
     "data": {
      "image/png": "[encoded data removed]",
      "text/plain": [
       "<Figure size 432x288 with 1 Axes>"
      ]
     },
     "metadata": {
      "needs_background": "light"
     },
     "output_type": "display_data"
    }
   ],
   "source": [
    "bsu_gpr_sample.plot()"
   ]
  },
  {
   "cell_type": "code",
   "execution_count": 61,
   "id": "b00a7254-ae96-4a57-9cb2-8128598b4c25",
   "metadata": {},
   "outputs": [
    {
     "name": "stdout",
     "output_type": "stream",
     "text": [
      "[datetime.date(2020, 1, 28), datetime.date(2020, 1, 29), datetime.date(2020, 2, 4), datetime.date(2020, 2, 6), datetime.date(2020, 2, 7), datetime.date(2020, 2, 8), datetime.date(2020, 2, 9)]\n"
     ]
    }
   ],
   "source": [
    "query = session.query(PointData.date)\n",
    "query = query.filter(PointData.instrument == bsu_gpr_instrument_name)\n",
    "\n",
    "# convert to pandas dataframe  \n",
    "df = query_to_pandas(query, engine)  \n",
    "\n",
    "# create list of the unique dates (LayerData will have a lot of repeated dates, we only need a list per visit, not per measurement)\n",
    "dates = sorted(df['date'].unique())\n",
    "    \n",
    "print(dates)"
   ]
  },
  {
   "cell_type": "markdown",
   "id": "7009a1cc-3a94-4bd9-bc06-2ecf3b4db538",
   "metadata": {},
   "source": [
    "Those dates line up with"
   ]
  },
  {
   "cell_type": "markdown",
   "id": "6aac9dc4-c37a-43ce-b899-bc1a72578d0a",
   "metadata": {},
   "source": [
    "### ASO data"
   ]
  },
  {
   "cell_type": "markdown",
   "id": "a2617f62-1d7b-4b2d-a9f2-f0d9f52a9c4c",
   "metadata": {},
   "source": [
    "### Which columns does the ImageData table have?"
   ]
  },
  {
   "cell_type": "code",
   "execution_count": 47,
   "id": "d3992b2c-ed65-4801-af54-9601d3f95071",
   "metadata": {},
   "outputs": [
    {
     "name": "stdout",
     "output_type": "stream",
     "text": [
      "These are the available columns in the table:\n",
      " \n",
      "* date\n",
      "* date_accessed\n",
      "* description\n",
      "* doi\n",
      "* instrument\n",
      "* metadata\n",
      "* observers\n",
      "* raster\n",
      "* registry\n",
      "* site_name\n",
      "* time_created\n",
      "* time_updated\n",
      "* type\n",
      "* units\n",
      "\n"
     ]
    }
   ],
   "source": [
    "# Use the function to see what columns are available to use. \n",
    "db_columns = get_table_attributes(ImageData)\n",
    "\n",
    "# Print out the results nicely\n",
    "print(\"These are the available columns in the table:\\n \\n* {}\\n\".format('\\n* '.join(db_columns)))"
   ]
  },
  {
   "cell_type": "code",
   "execution_count": null,
   "id": "ac1aa1ee-a113-4212-ad86-c96ae96d9ad5",
   "metadata": {},
   "outputs": [],
   "source": []
  },
  {
   "cell_type": "code",
   "execution_count": 3,
   "id": "258d93be-3c82-4744-b42a-191cf579e61b",
   "metadata": {},
   "outputs": [
    {
     "name": "stdout",
     "output_type": "stream",
     "text": [
      "list of airborne sensors by \"observer\" name: \n",
      " [('USGS',), ('UAVSAR team, JPL',), ('ASO Inc.',)]\n"
     ]
    }
   ],
   "source": [
    "# Locate all that are distinct\n",
    "airborne_sensors_list = session.query(ImageData.observers).distinct().all()\n",
    "\n",
    "print('list of airborne sensors by \"observer\" name: \\n', airborne_sensors_list)"
   ]
  },
  {
   "cell_type": "code",
   "execution_count": 6,
   "id": "8ff07938-9f9a-4f27-a2ce-d8e81457198a",
   "metadata": {},
   "outputs": [
    {
     "name": "stdout",
     "output_type": "stream",
     "text": [
      "list of airborne sensors by \"observer\" name\n",
      "[('swe',), ('DEM',), ('insar amplitude',), ('insar correlation',), ('depth',), ('insar interferogram real',), ('insar interferogram imaginary',)]\n"
     ]
    }
   ],
   "source": [
    "# Query the session using .observers() to generate a list\n",
    "# Locate all that are distinct\n",
    "airborne_dataset_types = session.query(ImageData.type).distinct().all()\n",
    "\n",
    "print('list of airborne sensors by \"observer\" name')\n",
    "print(airborne_dataset_types)"
   ]
  },
  {
   "cell_type": "code",
   "execution_count": 53,
   "id": "25e62c1f-5e9b-4283-856c-390afb74774a",
   "metadata": {},
   "outputs": [
    {
     "name": "stdout",
     "output_type": "stream",
     "text": [
      "[('meters',)]\n"
     ]
    }
   ],
   "source": [
    "query = session.query(ImageData.units)\n",
    "query = query.filter(ImageData.observers == \"ASO Inc.\")\n",
    "query = query.filter(ImageData.type == \"depth\")\n",
    "query = query.distinct()\n",
    "result = query.all()\n",
    "print(result)"
   ]
  },
  {
   "cell_type": "markdown",
   "id": "e6645195-3d98-4b30-a6df-0ab5b3db691e",
   "metadata": {},
   "source": [
    "### We want to see the 'swe' 'DEM' and 'depth' data around some area of interest"
   ]
  },
  {
   "cell_type": "code",
   "execution_count": null,
   "id": "94d0070b-381f-4ce5-8260-1664c407e666",
   "metadata": {},
   "outputs": [],
   "source": [
    "query = session.query(func."
   ]
  }
 ],
 "metadata": {
  "kernelspec": {
   "display_name": "Python 3 (ipykernel)",
   "language": "python",
   "name": "python3"
  },
  "language_info": {
   "codemirror_mode": {
    "name": "ipython",
    "version": 3
   },
   "file_extension": ".py",
   "mimetype": "text/x-python",
   "name": "python",
   "nbconvert_exporter": "python",
   "pygments_lexer": "ipython3",
   "version": "3.10.5"
  }
 },
 "nbformat": 4,
 "nbformat_minor": 5
}
