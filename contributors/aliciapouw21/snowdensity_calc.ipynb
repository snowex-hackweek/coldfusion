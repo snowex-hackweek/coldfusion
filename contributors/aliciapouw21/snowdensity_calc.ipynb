{
 "cells": [
  {
   "cell_type": "code",
   "execution_count": null,
   "id": "1f58b8c6-ee18-4b0c-88ec-255cf4b482b8",
   "metadata": {},
   "outputs": [],
   "source": [
    "# Calculating snow density using LiDAR GPR and GPR TWTs\n",
    "\n",
    "# eq 1. hs = TWT(v)/2  hs = Lidar snow depth, TWT = gpr two way travel time, V = wave speed\n",
    "# eq 2. V = C/ sqrt(e),  V = wave speed, C = speed of light (0.3m/ns), e = dielectric permittivity\n",
    "# eq 3. e = (1+0.845d)^2  Kovacs et al. 1995 d = density (kg/m3 /1000)\n",
    "\n",
    "\n",
    "# re-arrange eq 1.\n",
    "# V = hs(2)/TWT\n",
    "\n",
    "#re-arrange eq 2.\n",
    "#e = C^2/V^2\n",
    "\n",
    "#re-arrange eq 3.\n",
    "# d = sqrt((1-e)/-0.845)\n",
    "\n",
    "GPR = [0:1000]"
   ]
  }
 ],
 "metadata": {
  "kernelspec": {
   "display_name": "Python 3 (ipykernel)",
   "language": "python",
   "name": "python3"
  },
  "language_info": {
   "codemirror_mode": {
    "name": "ipython",
    "version": 3
   },
   "file_extension": ".py",
   "mimetype": "text/x-python",
   "name": "python",
   "nbconvert_exporter": "python",
   "pygments_lexer": "ipython3",
   "version": "3.10.5"
  }
 },
 "nbformat": 4,
 "nbformat_minor": 5
}
