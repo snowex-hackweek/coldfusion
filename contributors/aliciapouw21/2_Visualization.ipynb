{
 "cells": [
  {
   "cell_type": "markdown",
   "id": "31518d10-f271-4b8d-a550-8b6a3ac2c29a",
   "metadata": {
    "tags": []
   },
   "source": [
    "## GPR & LiDAR Figure Map(s)\n"
   ]
  },
  {
   "cell_type": "code",
   "execution_count": null,
   "id": "c44fb6f2-8514-4109-8160-3e1d23f7d3e5",
   "metadata": {},
   "outputs": [],
   "source": [
    "import sklearn.metrics as stat\n",
    "import pandas as pd\n",
    "import numpy as np\n",
    "import geopandas as gpd\n",
    "import shapely.geometry\n",
    "from geoalchemy2.shape import from_shape\n",
    "import geoalchemy2.functions as gfunc\n",
    "import matplotlib.pyplot as plt\n",
    "import datetime\n",
    "\n",
    "# some mapping widgets\n",
    "import ipyleaflet\n",
    "from ipyleaflet import Map, GeoData, Rectangle, basemaps, LayersControl, basemap_to_tiles, TileLayer, SplitMapControl, Polygon, MagnifyingGlass\n",
    "import ipywidgets\n",
    "\n",
    "# database imports\n",
    "from snowexsql.db import get_db\n",
    "from snowexsql.data import PointData, LayerData, ImageData, SiteData\n",
    "from snowexsql.conversions import query_to_geopandas, query_to_pandas, raster_to_rasterio\n",
    "from snowexsql.db import get_table_attributes\n",
    "\n",
    "from sqlalchemy.sql import func\n",
    "from geoalchemy2.types import Raster\n",
    "\n",
    "import ipyleaflet\n",
    "from ipyleaflet import Map, Rectangle, basemaps, basemap_to_tiles, TileLayer, SplitMapControl, Polygon\n",
    "from ipyleaflet import GeoData, LayersControl\n",
    "\n",
    "\n",
    "from rasterio.plot import show\n",
    "import shapely.geometry\n",
    "\n",
    "from geoalchemy2.shape import from_shape\n",
    "import geoalchemy2.functions as gfunc\n",
    "import rioxarray\n",
    "import rasterio\n",
    "%config InlineBackend.figure_format='retina'\n",
    "\n",
    "# This is what you will use for all of hackweek to access the db\n",
    "db_name = 'snow:hackweek@db.snowexdata.org/snowex'\n",
    "\n",
    "engine, session = get_db(db_name)\n",
    "\n",
    "print('SnowEx Database successfully loaded!')\n",
    "\n",
    "from snowexsql.data import PointData, LayerData, ImageData, SiteData\n",
    "\n",
    "# tables available in database ['spatial_ref_sys', 'points', 'layers', 'sites', 'images']\n"
   ]
  },
  {
   "cell_type": "code",
   "execution_count": null,
   "id": "9ab804d9-b654-44d3-afd6-fdbd9e8c2e70",
   "metadata": {},
   "outputs": [],
   "source": [
    "session.rollback()"
   ]
  },
  {
   "cell_type": "code",
   "execution_count": null,
   "id": "d11a7860-6e4d-4fe1-8acc-2d24ca79b66f",
   "metadata": {},
   "outputs": [],
   "source": [
    "# How to pull out ALL point data from the database that falls within our box\n",
    "bbox_WSEN = 742000, 4322000, 747000, 4325000 # EPSG 26912?\n",
    "x1, y1, x2, y2 = bbox_WSEN\n",
    "polygon = shapely.geometry.Polygon([[x1, y1], [x1, y2], [x2, y2], [x2, y1]]) # used box() before\n",
    "wkb_element = from_shape(polygon, srid=26912) # which srid is right?\n",
    "\n",
    "query = session.query(func.ST_AsTiff(func.ST_Clip(func.ST_Union(ImageData.raster, type_=Raster), wkb_element)))\n",
    "query = query.filter(ImageData.observers == \"ASO Inc.\")\n",
    "query = query.filter(ImageData.type == \"depth\")\n",
    "query = query.filter(ImageData.date == \"2020-02-02\")\n",
    "\n",
    "# Filter the query by bounding box\n",
    "query = query.filter(gfunc.ST_Intersects(ImageData.raster, wkb_element))\n",
    "\n",
    "result = query.all()\n",
    "aso_2020_02_02_rio = raster_to_rasterio(session, result)[0]\n",
    "aso_2020_02_02_raster = aso_2020_02_02_rio.read(1, masked=True)\n",
    "\n",
    "# This part takes the `aso_2020_02_02_rio` object we get above and saves as a geoTIFF\n",
    "filename = \"aso_2020_02_02_raster.tif\"\n",
    "with rasterio.open(filename, 'w', **aso_2020_02_02_rio.profile) as f:\n",
    "    f.write(aso_2020_02_02_rio.read(1), 1)\n",
    "# Reopen in rioxarray\n",
    "ASO_snow = rioxarray.open_rasterio(filename, masked=True)\n",
    "ASO_snow.plot() # probably want to change this but shows the raster on correct coordinate grid"
   ]
  },
  {
   "cell_type": "code",
   "execution_count": null,
   "id": "6af57b2c-94df-4df4-a0b3-87382d8ed7e2",
   "metadata": {},
   "outputs": [],
   "source": [
    "#import data - initial GPR lines (showing TWT)\n",
    "GPRLiDAR1 = pd.read_csv('GPRLiDAR1.csv')\n",
    "GPRLiDAR2 = pd.read_csv('GPRLiDAR2.csv')\n",
    "\n",
    "GPRLiDAR1 = gpd.GeoDataFrame(GPRLiDAR1)\n",
    "GPRLiDAR2 = gpd.GeoDataFrame(GPRLiDAR2)\n",
    "GPRLiDAR1.geometry = gpd.points_from_xy(GPRLiDAR1[\"ASO_X\"], GPRLiDAR1[\"ASO_Y\"])\n",
    "GPRLiDAR2.geometry = gpd.points_from_xy(GPRLiDAR2[\"ASO_X\"], GPRLiDAR2[\"ASO_Y\"])\n",
    "\n",
    "GPRLiDAR1.head()\n"
   ]
  },
  {
   "cell_type": "code",
   "execution_count": null,
   "id": "f1460cf5-e3ea-4d0f-af8f-4e1f19eb67f6",
   "metadata": {},
   "outputs": [],
   "source": [
    "ax = plt.plot(GPR1['ASO_X'],GPR1['ASO_Y'])\n",
    "plt.show()"
   ]
  },
  {
   "cell_type": "code",
   "execution_count": null,
   "id": "9ddac899-7240-4439-9779-8c0503fcadc5",
   "metadata": {},
   "outputs": [],
   "source": [
    "kwds = { 'label': \"SWE [m]\", 'orientation': \"horizontal\"}\n",
    "ax = GPRLiDAR1.plot(column='SWE', legend=True, cmap='PuBu' , edgecolor = 'none', legend_kwds = kwds)\n",
    "# Use non-scientific notation for x and y ticks\n",
    "ax.ticklabel_format(style='plain', useOffset=False)\n",
    "# Set the various plots x/y labels and title.\n",
    "ax.set_title('Grand Mesa Jan 28th - Feb 1' )\n",
    "ax.set_xlabel('Easting [m]')\n",
    "ax.set_ylabel('Northing [m]')\n",
    "\n",
    "\n",
    "plt.savefig('GPRLiDAR1SWE.png', dpi=300, bbox_inches='tight')"
   ]
  },
  {
   "cell_type": "code",
   "execution_count": null,
   "id": "f0974791-7de8-4317-96d2-edb8680904ee",
   "metadata": {},
   "outputs": [],
   "source": [
    "kwds = { 'label': \"SWE [m]\", 'orientation': \"horizontal\"}\n",
    "ax = GPRLiDAR2.plot(column='SWE', legend=True, cmap='PuBu' , edgecolor = 'none', legend_kwds = kwds)\n",
    "# Use non-scientific notation for x and y ticks\n",
    "ax.ticklabel_format(style='plain', useOffset=False)\n",
    "# Set the various plots x/y labels and title.\n",
    "ax.set_title('Grand Mesa  Feb 2 - Feb 9' )\n",
    "ax.set_xlabel('Easting [m]')\n",
    "ax.set_ylabel('Northing [m]')\n",
    "\n",
    "\n",
    "plt.savefig('GPRLiDAR2SWE.png', dpi=300, bbox_inches='tight')\n"
   ]
  },
  {
   "cell_type": "code",
   "execution_count": null,
   "id": "84e42383-6c83-4216-8762-1f8d8073752a",
   "metadata": {},
   "outputs": [],
   "source": [
    "\n"
   ]
  },
  {
   "cell_type": "markdown",
   "id": "d0f857d1-2b99-4848-bbb4-37239b43f098",
   "metadata": {},
   "source": [
    "# GPR-LiDAR basic statistics"
   ]
  },
  {
   "cell_type": "code",
   "execution_count": null,
   "id": "0d4d9c82-fada-4e84-a3f9-b6aa19f705d5",
   "metadata": {},
   "outputs": [],
   "source": [
    "GPRLiDAR1.describe().transpose()"
   ]
  }
 ],
 "metadata": {
  "kernelspec": {
   "display_name": "Python 3 (ipykernel)",
   "language": "python",
   "name": "python3"
  },
  "language_info": {
   "codemirror_mode": {
    "name": "ipython",
    "version": 3
   },
   "file_extension": ".py",
   "mimetype": "text/x-python",
   "name": "python",
   "nbconvert_exporter": "python",
   "pygments_lexer": "ipython3",
   "version": "3.10.5"
  }
 },
 "nbformat": 4,
 "nbformat_minor": 5
}
