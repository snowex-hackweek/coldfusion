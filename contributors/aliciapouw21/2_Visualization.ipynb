{
 "cells": [
  {
   "cell_type": "markdown",
   "id": "31518d10-f271-4b8d-a550-8b6a3ac2c29a",
   "metadata": {
    "tags": []
   },
   "source": [
    "## GPR & LiDAR Figure Map(s)\n"
   ]
  },
  {
   "cell_type": "code",
   "execution_count": 2,
   "id": "c44fb6f2-8514-4109-8160-3e1d23f7d3e5",
   "metadata": {},
   "outputs": [],
   "source": [
    "import sklearn.metrics as stat\n",
    "import pandas as pd\n",
    "import numpy as np\n",
    "\n",
    "import shapely.geometry\n",
    "from geoalchemy2.shape import from_shape\n",
    "import geoalchemy2.functions as gfunc\n",
    "import matplotlib.pyplot as plt\n",
    "import datetime\n"
   ]
  },
  {
   "cell_type": "code",
   "execution_count": null,
   "id": "6af57b2c-94df-4df4-a0b3-87382d8ed7e2",
   "metadata": {},
   "outputs": [],
   "source": [
    "#import data - initial GPR lines (showing TWT)\n",
    "GPR1 = pd.read_csv('GPRLiDAR1.csv')\n",
    "GPR2 = pd.read_csv('GPRLiDAR2.csv')"
   ]
  },
  {
   "cell_type": "code",
   "execution_count": null,
   "id": "9ddac899-7240-4439-9779-8c0503fcadc5",
   "metadata": {},
   "outputs": [],
   "source": [
    "ax = GPR1.plot(column='twt', legend=True, cmap='PuBu')\n",
    "# Use non-scientific notation for x and y ticks\n",
    "ax.ticklabel_format(style='plain', useOffset=False)\n",
    "# Set the various plots x/y labels and title.\n",
    "ax.set_title('Grand Mesa Jan 28th - Feb 1' )\n",
    "ax.set_xlabel('Easting [m]')\n",
    "ax.set_ylabel('Northing [m]')"
   ]
  },
  {
   "cell_type": "code",
   "execution_count": null,
   "id": "f0974791-7de8-4317-96d2-edb8680904ee",
   "metadata": {},
   "outputs": [],
   "source": [
    "ax = GPR2.plot(column='twt', legend=True, cmap='PuBu')\n",
    "# Use non-scientific notation for x and y ticks\n",
    "ax.ticklabel_format(style='plain', useOffset=False)\n",
    "# Set the various plots x/y labels and title.\n",
    "ax.set_title('Grand Mesa Jan 28th - Feb 1' )\n",
    "ax.set_xlabel('Easting [m]')\n",
    "ax.set_ylabel('Northing [m]')"
   ]
  },
  {
   "cell_type": "code",
   "execution_count": null,
   "id": "462fda1f-b881-4ed8-951a-9b5f34751ee6",
   "metadata": {},
   "outputs": [],
   "source": [
    "# import data - GPRLiDAR match data \n",
    "GPRLiDAR1 = pd.read_csv('GPRLiDAR1.csv')\n",
    "GPRLiDAR2 = pd.read_csv('GPRLiDAR2.csv')"
   ]
  },
  {
   "cell_type": "code",
   "execution_count": null,
   "id": "84e42383-6c83-4216-8762-1f8d8073752a",
   "metadata": {},
   "outputs": [],
   "source": [
    "## showing resampled to the Lidar grid points\n",
    "#plot to see bounding box\n",
    "# Get the Matplotlib Axes object from the dataframe object, color points by density value\n",
    "ax = GPRLiDAR1.plot(column='dens', legend=True, cmap='PuBu')\n",
    "# Use non-scientific notation for x and y ticks\n",
    "ax.ticklabel_format(style='plain', useOffset=False)\n",
    "# Set the various plots x/y labels and title.\n",
    "ax.set_title('Grand Mesa Jan 28th - Feb 1' )\n",
    "ax.set_xlabel('Easting [m]')\n",
    "ax.set_ylabel('Northing [m]')\n",
    "\n",
    "\n",
    "ax = GPRLiDAR2.plot(column='dens', legend=True, cmap='PuBu')\n",
    "# Use non-scientific notation for x and y ticks\n",
    "ax.ticklabel_format(style='plain', useOffset=False)\n",
    "# Set the various plots x/y labels and title.\n",
    "ax.set_title('Grand Mesa Feb. 4 - 9th 2020' )\n",
    "ax.set_xlabel('Easting [m]')\n",
    "ax.set_ylabel('Northing [m]')\n"
   ]
  },
  {
   "cell_type": "markdown",
   "id": "d0f857d1-2b99-4848-bbb4-37239b43f098",
   "metadata": {},
   "source": [
    "# GPR-LiDAR basic statistics"
   ]
  },
  {
   "cell_type": "code",
   "execution_count": null,
   "id": "0d4d9c82-fada-4e84-a3f9-b6aa19f705d5",
   "metadata": {},
   "outputs": [],
   "source": [
    "GPRLiDAR1.describe().transpose()"
   ]
  }
 ],
 "metadata": {
  "kernelspec": {
   "display_name": "Python 3 (ipykernel)",
   "language": "python",
   "name": "python3"
  },
  "language_info": {
   "codemirror_mode": {
    "name": "ipython",
    "version": 3
   },
   "file_extension": ".py",
   "mimetype": "text/x-python",
   "name": "python",
   "nbconvert_exporter": "python",
   "pygments_lexer": "ipython3",
   "version": "3.10.5"
  }
 },
 "nbformat": 4,
 "nbformat_minor": 5
}
