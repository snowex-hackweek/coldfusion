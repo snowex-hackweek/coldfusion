{
 "cells": [
  {
   "cell_type": "code",
   "execution_count": null,
   "id": "890b865d-3cf1-4efe-985e-909d37defa4f",
   "metadata": {},
   "outputs": [],
   "source": [
    "#Snotel data\n",
    "\n",
    "#This is the latest CUAHSI API endpoint\n",
    "wsdlurl = 'https://hydroportal.cuahsi.org/Snotel/cuahsi_1_1.asmx?WSDL'"
   ]
  },
  {
   "cell_type": "code",
   "execution_count": null,
   "id": "36ba38c9-b266-4241-a290-8e09905916a9",
   "metadata": {},
   "outputs": [],
   "source": [
    "import os\n",
    "from datetime import datetime\n",
    "import numpy as np\n",
    "import matplotlib.pyplot as plt\n",
    "import pandas as pd\n",
    "import geopandas as gpd\n",
    "from shapely.geometry import Point\n",
    "import contextily as ctx\n",
    "import ulmo"
   ]
  },
  {
   "cell_type": "code",
   "execution_count": null,
   "id": "76a0874b-f74c-4eed-984a-7ef5dcc3c828",
   "metadata": {},
   "outputs": [],
   "source": [
    "sites = ulmo.cuahsi.wof.get_sites(wsdlurl)"
   ]
  },
  {
   "cell_type": "code",
   "execution_count": null,
   "id": "d06decde-e57f-491d-8f33-2924da6d3c27",
   "metadata": {},
   "outputs": [],
   "source": []
  },
  {
   "cell_type": "code",
   "execution_count": null,
   "id": "0d0046b7-2249-47c2-a908-99938504f025",
   "metadata": {},
   "outputs": [],
   "source": []
  }
 ],
 "metadata": {
  "kernelspec": {
   "display_name": "Python 3 (ipykernel)",
   "language": "python",
   "name": "python3"
  },
  "language_info": {
   "codemirror_mode": {
    "name": "ipython",
    "version": 3
   },
   "file_extension": ".py",
   "mimetype": "text/x-python",
   "name": "python",
   "nbconvert_exporter": "python",
   "pygments_lexer": "ipython3",
   "version": "3.10.5"
  }
 },
 "nbformat": 4,
 "nbformat_minor": 5
}
