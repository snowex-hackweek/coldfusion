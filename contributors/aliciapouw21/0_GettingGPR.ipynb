{
 "cells": [
  {
   "cell_type": "code",
   "execution_count": null,
   "id": "b45dabec-d474-4235-b62a-bc79509466a8",
   "metadata": {},
   "outputs": [],
   "source": []
  },
  {
   "cell_type": "markdown",
   "id": "3a64c80a-81a0-4064-baf0-90bd8337264e",
   "metadata": {},
   "source": [
    "Get database session\n"
   ]
  },
  {
   "cell_type": "code",
   "execution_count": null,
   "id": "f530446a-202a-4078-a11c-5b7873f6f122",
   "metadata": {},
   "outputs": [],
   "source": [
    "# Import the connection function from the snowexsql library\n",
    "from snowexsql.db import get_db\n",
    "from sqlalchemy import inspect\n",
    "from snowexsql.conversions import query_to_geopandas, query_to_pandas\n",
    "from snowexsql.db import get_table_attributes\n",
    "from sqlalchemy.sql import func\n",
    "\n",
    "import shapely.geometry\n",
    "from geoalchemy2.shape import from_shape\n",
    "import geoalchemy2.functions as gfunc\n",
    "import matplotlib.pyplot as plt\n",
    "import datetime\n",
    "\n",
    "%config InlineBackend.figure_format='retina'\n",
    "\n",
    "# This is what you will use for all of hackweek to access the db\n",
    "db_name = 'snow:hackweek@db.snowexdata.org/snowex'\n",
    "\n",
    "engine, session = get_db(db_name)\n",
    "\n",
    "print('SnowEx Database successfully loaded!')\n",
    "\n",
    "from snowexsql.data import PointData, LayerData, ImageData, SiteData\n",
    "\n",
    "# tables available in database ['spatial_ref_sys', 'points', 'layers', 'sites', 'images']\n"
   ]
  },
  {
   "cell_type": "markdown",
   "id": "215dc4d5-1154-439a-9e78-1f9173342bea",
   "metadata": {},
   "source": [
    "GPR 1 = Dates Jan 28 - 2nd 2020"
   ]
  },
  {
   "cell_type": "code",
   "execution_count": null,
   "id": "8a305800-e96c-43f7-a3ea-a4d62be7225d",
   "metadata": {},
   "outputs": [],
   "source": [
    "# We're trying to count all ASO snow depth tiles within this bbox\n",
    "bbox_WSEN = 742000, 4322000, 747000, 4325000 # EPSG 32612?\n",
    "x1, y1, x2, y2 = bbox_WSEN\n",
    "polygon = shapely.geometry.Polygon([[x1, y1], [x1, y2], [x2, y2], [x2, y1]]) # used box() before\n",
    "wkb_element = from_shape(polygon, srid=26912) # which srid is right? #srid = 26912\n",
    "\n",
    "# Retrieve some of the GPR data\n",
    "dataset = 'two_way_travel'\n",
    "query = session.query(PointData.geom, PointData.easting, PointData.northing, PointData.value, PointData.date)\n",
    "\n",
    "query = query.filter(PointData.type == dataset)\n",
    "\n",
    "query = query.filter(PointData.date <=(datetime.date(2020,2,2))) # or PointData.date <=( datetime.date(2020,2,6))) \n",
    "#query = query.filter(PointData.date == \"2020-02-04\")\n",
    "\n",
    "# Filter the query by bounding box (the part that doesn't work)\n",
    "query = query.filter(gfunc.ST_Within(PointData.geom,wkb_element))\n",
    "\n",
    "result = query.count()\n",
    "print(result)"
   ]
  },
  {
   "cell_type": "code",
   "execution_count": null,
   "id": "6ecdb930-ecbb-4ecb-85e0-c1b5ed862184",
   "metadata": {},
   "outputs": [],
   "source": [
    "# data to geopanda data frame\n",
    "\n",
    "GPR1 = query_to_geopandas(query,engine)"
   ]
  },
  {
   "cell_type": "code",
   "execution_count": null,
   "id": "a56172df-a988-448a-bfe1-26f9e29344ac",
   "metadata": {},
   "outputs": [],
   "source": [
    "# to visualize the table \n",
    "GPR1.head()\n"
   ]
  },
  {
   "cell_type": "code",
   "execution_count": null,
   "id": "2c0d3cd7-4395-46ea-b7dd-3052eb0c5e02",
   "metadata": {},
   "outputs": [],
   "source": [
    "#rename column  ( value to twt)\n",
    "GPR1.rename(columns={'value':'twt'},inplace=True )\n"
   ]
  },
  {
   "cell_type": "code",
   "execution_count": null,
   "id": "a1cfade7-feac-43df-ac38-1355c85c91b3",
   "metadata": {},
   "outputs": [],
   "source": [
    "#plot to see bounding box\n",
    "# Get the Matplotlib Axes object from the dataframe object, color points by snow depth value\n",
    "ax = GPR1.plot(column='twt', legend=True, cmap='PuBu')\n",
    "# Use non-scientific notation for x and y ticks\n",
    "ax.ticklabel_format(style='plain', useOffset=False)\n",
    "# Set the various plots x/y labels and title.\n",
    "ax.set_title('Grand Mesa Jan 28th - Feb 1' )\n",
    "ax.set_xlabel('Easting [m]')\n",
    "ax.set_ylabel('Northing [m]')\n"
   ]
  },
  {
   "cell_type": "code",
   "execution_count": null,
   "id": "d3e2e530-19de-435e-ae5b-74f2e9cc55f7",
   "metadata": {},
   "outputs": [],
   "source": [
    "#Export as CSV\n",
    "#will export to location of terminal\n",
    "GPR1.to_csv('GPR1.csv')"
   ]
  },
  {
   "cell_type": "markdown",
   "id": "1505872b-d41c-421f-ad97-532031aed5bd",
   "metadata": {},
   "source": [
    "GPR 2 = Dates February 4 - 9th 2020"
   ]
  },
  {
   "cell_type": "code",
   "execution_count": null,
   "id": "a137dd4a-20bf-4f7e-9941-e85c8c7cd8f7",
   "metadata": {},
   "outputs": [],
   "source": [
    "# We're trying to count all ASO snow depth tiles within this bbox\n",
    "bbox_WSEN = 742000, 4322000, 747000, 4325000 # EPSG 32612?\n",
    "x1, y1, x2, y2 = bbox_WSEN\n",
    "polygon = shapely.geometry.Polygon([[x1, y1], [x1, y2], [x2, y2], [x2, y1]]) # used box() before\n",
    "wkb_element = from_shape(polygon, srid=26912) # which srid is right? #srid = 26912\n",
    "\n",
    "# Retrieve some of the GPR data\n",
    "dataset = 'two_way_travel'\n",
    "query = session.query(PointData.geom, PointData.easting, PointData.northing, PointData.value, PointData.date)\n",
    "\n",
    "query = query.filter(PointData.type == dataset)\n",
    "\n",
    "query = query.filter(PointData.date >=(datetime.date(2020,2,4))) # or PointData.date <=( datetime.date(2020,2,6))) \n",
    "#query = query.filter(PointData.date == \"2020-02-04\")\n",
    "\n",
    "# Filter the query by bounding box (the part that doesn't work)\n",
    "query = query.filter(gfunc.ST_Within(PointData.geom,wkb_element))\n",
    "\n",
    "result = query.count()\n",
    "print(result)\n",
    "\n",
    "#result = session.query(PointData.date).filter(PointData.instrument == 'two_way_time').distinct().all()\n",
    "#print(result)"
   ]
  },
  {
   "cell_type": "code",
   "execution_count": null,
   "id": "096e2080-017f-4d46-a3d9-6a89e98214ae",
   "metadata": {},
   "outputs": [],
   "source": [
    "# data to geopanda data frame\n",
    "\n",
    "GPR2 = query_to_geopandas(query,engine)\n",
    "\n",
    "#rename column  ( value to twt)\n",
    "GPR2.rename(columns={'value':'twt'},inplace=True )\n",
    "\n",
    "#plot to see bounding box\n",
    "# Get the Matplotlib Axes object from the dataframe object, color points by snow depth value\n",
    "ax = GPR2.plot(column='twt', legend=True, cmap='PuBu')\n",
    "# Use non-scientific notation for x and y ticks\n",
    "ax.ticklabel_format(style='plain', useOffset=False)\n",
    "# Set the various plots x/y labels and title.\n",
    "ax.set_title('Grand Mesa Feb. 4 - 9th 2020' )\n",
    "ax.set_xlabel('Easting [m]')\n",
    "ax.set_ylabel('Northing [m]')\n"
   ]
  },
  {
   "cell_type": "code",
   "execution_count": null,
   "id": "2d51a182-e9ff-457c-9538-7005bfa2d578",
   "metadata": {},
   "outputs": [],
   "source": [
    "GPR2.head()\n"
   ]
  },
  {
   "cell_type": "code",
   "execution_count": null,
   "id": "b4d05250-c07e-4889-aea0-959f03d9c583",
   "metadata": {},
   "outputs": [],
   "source": [
    "#export GPR2 \n",
    "GPR2.to_csv('GPR2.csv')\n"
   ]
  },
  {
   "cell_type": "code",
   "execution_count": null,
   "id": "2d9265e8-9992-4151-9439-1f48119ea154",
   "metadata": {},
   "outputs": [],
   "source": [
    "session.close()"
   ]
  }
 ],
 "metadata": {
  "kernelspec": {
   "display_name": "Python 3 (ipykernel)",
   "language": "python",
   "name": "python3"
  },
  "language_info": {
   "codemirror_mode": {
    "name": "ipython",
    "version": 3
   },
   "file_extension": ".py",
   "mimetype": "text/x-python",
   "name": "python",
   "nbconvert_exporter": "python",
   "pygments_lexer": "ipython3",
   "version": "3.10.5"
  }
 },
 "nbformat": 4,
 "nbformat_minor": 5
}
