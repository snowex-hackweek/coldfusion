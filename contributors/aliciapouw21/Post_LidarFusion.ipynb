{
 "cells": [
  {
   "cell_type": "markdown",
   "id": "01b24a3a-a028-4dcc-ab6b-e0eda9b78926",
   "metadata": {},
   "source": [
    "## After GPR-Lidar Fusion"
   ]
  },
  {
   "cell_type": "code",
   "execution_count": null,
   "id": "6ea08efc-6239-4516-8ba0-a07ef2040725",
   "metadata": {},
   "outputs": [],
   "source": [
    "import datetime\n",
    "import pandas as pd\n",
    "import numpy as np"
   ]
  },
  {
   "cell_type": "markdown",
   "id": "39e383cc-2eb8-4ad2-b380-e498b12beeea",
   "metadata": {},
   "source": [
    "## Identify the multiple GPR points within LiDAR cells and find median TWTs\n",
    " - be sure to update CSV name\n",
    " - remoce random IX and lidar SD column when proper data updated\n",
    " - update column names "
   ]
  },
  {
   "cell_type": "code",
   "execution_count": null,
   "id": "ad73e7a0-af29-4e37-bce3-266fa058a802",
   "metadata": {},
   "outputs": [],
   "source": [
    "#import data change name based on csv file\n",
    "GPR = pd.read_csv('GPR_ALL.csv')\n",
    "GPR.head()\n",
    "\n",
    "#filter by date to seperate 2 data sets\n",
    "date1 = '2020-02-02'\n",
    "date2 = '2020-02-04'\n",
    "GPR['date'] = pd.to_datetime(GPR['date'])\n",
    "GPR1 = GPR[(GPR['date'] <= date1)] #less than and equal to\n",
    "GPR1.head()\n",
    "\n",
    "GPR2 = GPR[(GPR['date'] >= date2)]  #greater than and equal to this date \n",
    "\n",
    "print(len(GPR1), ',', len(GPR2))\n",
    "\n",
    "### THIS IS TEMPORARYYY!! Delete when we have real data\n",
    "##add fake columns for GPR to test out lidar \n",
    "#will delete when have real data\n",
    "\n",
    "lidarSD = np.ones((len(GPR1),1))\n",
    "GPR1['lidarSD'] = lidarSD\n",
    "GPR1.head()\n",
    "\n",
    "Ix = range(1000)\n",
    "Ix = np.random.choice(Ix, size=len(GPR1))\n",
    "GPR1['Ix'] = Ix\n",
    "\n",
    "#### KEEP HERE\n",
    "## update columns when we know them with real data ( Ix column is refering to the Lidar cell ID)\n",
    "GPRLiDAR = GPR1.groupby(['Ix']).median()\n",
    "del GPRLiDAR['easting']\n",
    "del GPRLiDAR['northing']\n",
    "\n",
    "#GPRLiDAR.drop('easting',inplace = True)\n",
    "GPRLiDAR.head()\n",
    "\n"
   ]
  },
  {
   "cell_type": "markdown",
   "id": "9c0f87fb-3a32-4a33-a8b5-d64d6fb1d10d",
   "metadata": {},
   "source": [
    "## Calculate snow density \n",
    "- eq 1. hs = TWT(v)/2  hs = Lidar snow depth, TWT = gpr two way travel time, V = wave speed\n",
    "- eq 2. V = C/ sqrt(e),  V = wave speed, C = speed of light (0.3m/ns), e = dielectric permittivity\n",
    "- eq 3. e = (1+0.845d)^2  Kovacs et al. 1995 d = density (kg/m3 /1000)\n",
    "\n",
    "re-arrange eq 1.\n",
    "- V = hs(2)/TWT\n",
    "\n",
    "re-arrange eq 2.\n",
    "- e = C^2/V^2\n",
    "\n",
    "re-arrange eq 3.\n",
    "- d = (sqrt(e)-1)/0.845\n",
    "\n",
    "- update lidarSD column name "
   ]
  },
  {
   "cell_type": "code",
   "execution_count": null,
   "id": "8ac5efc1-0d14-431d-8403-4b832a160b91",
   "metadata": {},
   "outputs": [],
   "source": [
    "#First calculation 1\n",
    "#V = wave speed\n",
    "GPRLiDAR['v']= (GPRLiDAR[\"lidarSD\"]*2)/GPR[\"twt\"]"
   ]
  },
  {
   "cell_type": "code",
   "execution_count": null,
   "id": "c451a511-4e29-44d1-b30e-27c441cf9627",
   "metadata": {},
   "outputs": [],
   "source": [
    "#second Calculation \n",
    "#e = dielectric permitivity\n",
    "GPRLiDAR['e'] = 0.3**2/(GPRLiDAR['v']**2)"
   ]
  },
  {
   "cell_type": "code",
   "execution_count": null,
   "id": "e5cb486e-a48c-4fca-8bfa-9f6f56aeafa4",
   "metadata": {},
   "outputs": [],
   "source": [
    "#third calculation\n",
    "# density\n",
    "# d = (sqrt(e)-1)/0.845\n",
    "GPRLiDAR['dens'] = (((GPRLiDAR['e'])**(1/2))-1)/0.845\n",
    "#convert units to kg/m^3\n",
    "GPRLiDAR['dens'] = GPRLiDAR['dens']*1000"
   ]
  },
  {
   "cell_type": "code",
   "execution_count": null,
   "id": "a547fba9-e59d-44e7-8eb8-795182abdd06",
   "metadata": {},
   "outputs": [],
   "source": [
    "GPRLiDAR.head()"
   ]
  },
  {
   "cell_type": "markdown",
   "id": "8fc8f3f5-44ff-4f55-b0d6-c91b5ab0f1f3",
   "metadata": {},
   "source": [
    "Simple Median Filter to remove \n",
    "- running median filter using a buffer\n"
   ]
  }
 ],
 "metadata": {
  "kernelspec": {
   "display_name": "Python 3 (ipykernel)",
   "language": "python",
   "name": "python3"
  },
  "language_info": {
   "codemirror_mode": {
    "name": "ipython",
    "version": 3
   },
   "file_extension": ".py",
   "mimetype": "text/x-python",
   "name": "python",
   "nbconvert_exporter": "python",
   "pygments_lexer": "ipython3",
   "version": "3.10.5"
  }
 },
 "nbformat": 4,
 "nbformat_minor": 5
}
