{
 "cells": [
  {
   "cell_type": "code",
   "execution_count": null,
   "id": "67b95ae8-ccef-48aa-8cac-f1ce90415f3e",
   "metadata": {},
   "outputs": [],
   "source": []
  },
  {
   "cell_type": "markdown",
   "id": "1b968e71-747d-48b9-98a1-fc1a9b41321f",
   "metadata": {},
   "source": [
    " Calculating snow density using LiDAR GPR and GPR TWTs"
   ]
  },
  {
   "cell_type": "code",
   "execution_count": null,
   "id": "fa24576f-3972-4bfc-ae58-c69a6932553b",
   "metadata": {},
   "outputs": [],
   "source": [
    "\n",
    "# eq 1. hs = TWT(v)/2  hs = Lidar snow depth, TWT = gpr two way travel time, V = wave speed\n",
    "# eq 2. V = C/ sqrt(e),  V = wave speed, C = speed of light (0.3m/ns), e = dielectric permittivity\n",
    "# eq 3. e = (1+0.845d)^2  Kovacs et al. 1995 d = density (kg/m3 /1000)\n",
    "\n",
    "# re-arrange eq 1.\n",
    "# V = hs(2)/TWT\n",
    "\n",
    "#re-arrange eq 2.\n",
    "#e = C^2/V^2\n",
    "\n",
    "#re-arrange eq 3.\n",
    "# d = (sqrt(e)-1)/0.845\n"
   ]
  },
  {
   "cell_type": "code",
   "execution_count": null,
   "id": "2362d4b2-65bc-431a-ac13-a4466e7ac6b4",
   "metadata": {},
   "outputs": [],
   "source": [
    "import pandas as pd\n",
    "import numpy as np\n"
   ]
  },
  {
   "cell_type": "code",
   "execution_count": null,
   "id": "02bb861b-d6c3-4af0-afdd-963b95e155dd",
   "metadata": {},
   "outputs": [],
   "source": [
    "#import GPR-Lidar CSV ( Lidar snow depths already added as column in GPR CSV)\n",
    "GPR = pd.read_csv('GPR1.csv')\n",
    "print(GPR)    "
   ]
  },
  {
   "cell_type": "code",
   "execution_count": null,
   "id": "9ed8c639-575b-4e70-ba5f-1044422d732d",
   "metadata": {},
   "outputs": [],
   "source": [
    "## for the time being this step will add Lidar snow depth column \n",
    "##LiDAR SD column = lidarSD\n",
    "lidarSD = np.ones((len(GPR),1))\n",
    "GPR['lidarSD'] = lidarSD"
   ]
  },
  {
   "cell_type": "code",
   "execution_count": null,
   "id": "09ff3c50-5105-47cf-b234-7dbe599aa55c",
   "metadata": {},
   "outputs": [],
   "source": [
    "#First calculation 1\n",
    "#V = wave speed\n",
    "GPR['v']= (GPR[\"lidarSD\"]*2)/GPR[\"twt\"]"
   ]
  },
  {
   "cell_type": "code",
   "execution_count": null,
   "id": "0a6ab6ee-57e4-4b3b-ba84-cdcfb8d782d7",
   "metadata": {},
   "outputs": [],
   "source": [
    "#second Calculation \n",
    "#e = dielectric permitivity\n",
    "GPR['e'] = 0.3**2/(GPR['v']**2)"
   ]
  },
  {
   "cell_type": "code",
   "execution_count": null,
   "id": "d1852d30-a74c-499a-b933-377700b30788",
   "metadata": {},
   "outputs": [],
   "source": [
    "#third calculation\n",
    "# density\n",
    "# d = (sqrt(e)-1)/0.845\n",
    "GPR['dens'] = (((GPR['e'])**(1/2))-1)/0.845\n",
    "#convert units to kg/m^3\n",
    "GPR['dens'] = GPR['dens']*1000"
   ]
  },
  {
   "cell_type": "code",
   "execution_count": null,
   "id": "3db9daa2-a402-4381-90ab-cb405c4f8df2",
   "metadata": {},
   "outputs": [],
   "source": [
    "GPR.head()"
   ]
  },
  {
   "cell_type": "markdown",
   "id": "b7a968de-5bfd-4b24-86b8-e0548f719ae3",
   "metadata": {},
   "source": [
    "Spatial Median Filter\n",
    "- remove random noise\n",
    "Remove outliers \n",
    "(50% quantiles - middle)\n",
    "\n",
    "\n",
    "median of entire data set"
   ]
  },
  {
   "cell_type": "code",
   "execution_count": null,
   "id": "c8c1cf9f-2c3e-4a6d-a54b-989b4b3fd455",
   "metadata": {},
   "outputs": [],
   "source": [
    "#basic statistics of GPR-Lidar Density\n"
   ]
  },
  {
   "cell_type": "code",
   "execution_count": null,
   "id": "1d0584aa-8d5d-4070-9fb9-5d1e0e97cee7",
   "metadata": {},
   "outputs": [],
   "source": [
    "#create map of Snow Density across grandmesa"
   ]
  }
 ],
 "metadata": {
  "kernelspec": {
   "display_name": "Python 3 (ipykernel)",
   "language": "python",
   "name": "python3"
  },
  "language_info": {
   "codemirror_mode": {
    "name": "ipython",
    "version": 3
   },
   "file_extension": ".py",
   "mimetype": "text/x-python",
   "name": "python",
   "nbconvert_exporter": "python",
   "pygments_lexer": "ipython3",
   "version": "3.10.5"
  }
 },
 "nbformat": 4,
 "nbformat_minor": 5
}
