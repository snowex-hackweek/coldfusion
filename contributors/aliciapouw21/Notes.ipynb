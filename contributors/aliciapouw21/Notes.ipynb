{
 "cells": [
  {
   "cell_type": "code",
   "execution_count": null,
   "id": "e0150f27-c954-4f44-a476-de4dcdb4159e",
   "metadata": {},
   "outputs": [],
   "source": [
    "#Notes\n",
    "\n",
    "#things to do\n",
    "#snotel data - precipitation that fell, \n",
    "\n",
    "#figure of GPR points w/ density\n",
    "\n",
    "#basic statistics table for GPR density \n",
    "\n",
    "#spatial medial filter\n",
    "\n"
   ]
  },
  {
   "cell_type": "markdown",
   "id": "7103fa7e-5707-430a-af07-8d371ba33fbf",
   "metadata": {},
   "source": [
    "## Might need"
   ]
  },
  {
   "cell_type": "code",
   "execution_count": null,
   "id": "67174439-17b6-4f20-a928-5831605e9d96",
   "metadata": {},
   "outputs": [],
   "source": [
    "#Grouping by - playing around \n",
    "## update columns when we know them with real data ( Ix column is refering to the Lidar cell ID)\n",
    "#GPRLiDAR = GPR1.groupby(['Ix']).median()\n",
    "\n",
    "#del GPRLiDAR['easting']\n",
    "#del GPRLiDAR['northing']\n",
    "#del GPRLiDAR['Unnamed: 0']\n",
    "\n",
    "#GPRLiDAR.drop('easting',inplace = True)\n",
    "#GPRLiDAR.head()\n",
    "#length = len(GPRtest)\n",
    "#print(length)\n",
    "#GPRtest = GPR1.groupby(['Ix']).agg({'twt': 'median'})\n",
    "#GPRtest = GPR1.groupby(['date','Ix','geom','easting','northing']).count().reset_index()\n",
    "#GPRtest = GPR1.groupby(['date'],as_index=False).agg({'date':'first','Ix':'median','geom':'first'}).count().reset_index()\n"
   ]
  }
 ],
 "metadata": {
  "kernelspec": {
   "display_name": "Python 3 (ipykernel)",
   "language": "python",
   "name": "python3"
  },
  "language_info": {
   "codemirror_mode": {
    "name": "ipython",
    "version": 3
   },
   "file_extension": ".py",
   "mimetype": "text/x-python",
   "name": "python",
   "nbconvert_exporter": "python",
   "pygments_lexer": "ipython3",
   "version": "3.10.5"
  }
 },
 "nbformat": 4,
 "nbformat_minor": 5
}
