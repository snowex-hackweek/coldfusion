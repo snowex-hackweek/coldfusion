{
 "cells": [
  {
   "cell_type": "code",
   "execution_count": null,
   "id": "e0150f27-c954-4f44-a476-de4dcdb4159e",
   "metadata": {},
   "outputs": [],
   "source": [
    "#Notes\n",
    "\n",
    "#things to do\n",
    "#snotel data - precipitation that fell, \n",
    "\n",
    "#figure of GPR points w/ density\n",
    "\n",
    "#basic statistics table for GPR density \n",
    "\n",
    "#spatial medial filter\n",
    "\n"
   ]
  },
  {
   "cell_type": "markdown",
   "id": "7103fa7e-5707-430a-af07-8d371ba33fbf",
   "metadata": {},
   "source": [
    "## Might need"
   ]
  },
  {
   "cell_type": "code",
   "execution_count": null,
   "id": "67174439-17b6-4f20-a928-5831605e9d96",
   "metadata": {},
   "outputs": [],
   "source": [
    "#Grouping by - playing around \n",
    "## update columns when we know them with real data ( Ix column is refering to the Lidar cell ID)\n",
    "#GPRLiDAR = GPR1.groupby(['Ix']).median()\n",
    "\n",
    "#del GPRLiDAR['easting']\n",
    "#del GPRLiDAR['northing']\n",
    "#del GPRLiDAR['Unnamed: 0']\n",
    "\n",
    "#GPRLiDAR.drop('easting',inplace = True)\n",
    "#GPRLiDAR.head()\n",
    "#length = len(GPRtest)\n",
    "#print(length)\n",
    "#GPRtest = GPR1.groupby(['Ix']).agg({'twt': 'median'})\n",
    "#GPRtest = GPR1.groupby(['date','Ix','geom','easting','northing']).count().reset_index()\n",
    "#GPRtest = GPR1.groupby(['date'],as_index=False).agg({'date':'first','Ix':'median','geom':'first'}).count().reset_index()\n",
    "\n",
    "\n",
    "\n",
    "##temp notes we were using as placeholder\n",
    "\n",
    "### THIS IS TEMPORARYYY!! Delete when we have real data\n",
    "##add fake columns for GPR to test out lidar \n",
    "#will delete when have real data\n",
    "\n",
    "lidarSD = np.ones((len(GPRLiDAR1),1))\n",
    "GPRLiDAR1['ASO_2020_02_02_SD'] = lidarSD\n",
    "GPRLiDAR1.head()\n",
    "\n",
    "test1 = range(500000)\n",
    "test1 = np.random.choice(test1, size=len(GPRLiDAR1))\n",
    "GPRLiDAR1['ASO_IDX'] = test1\n",
    "\n",
    "test2 = range(50000)\n",
    "test2 = np.random.choice(test2, size = len(GPRLiDAR2))\n",
    "GPRLiDAR2['ASO_IDX'] = test2\n",
    "\n",
    "lidarSD = np.ones((len(GPRLiDAR2),1))\n",
    "GPRLiDAR2['ASO_2020_02_13_SD'] = lidarSD\n",
    "\n",
    "GPRLiDAR1.rename(columns={'easting':'ASO_X'},inplace=True )\n",
    "GPRLiDAR1.rename(columns={'northing':'ASO_Y'},inplace=True )\n",
    "GPRLiDAR2.rename(columns={'easting':'ASO_X'},inplace=True )\n",
    "GPRLiDAR2.rename(columns={'northing':'ASO_Y'},inplace=True )\n",
    "\n",
    "\n",
    "lidarSWE = np.ones((len(GPRLiDAR1),1))\n",
    "GPRLiDAR1['ASO_2020_02_02_SWE'] = lidarSWE\n",
    "lidarSWE = np.ones((len(GPRLiDAR2),1))\n",
    "GPRLiDAR2['ASO_2020_02_13_SWE'] = lidarSWE\n",
    "######"
   ]
  }
 ],
 "metadata": {
  "kernelspec": {
   "display_name": "Python 3 (ipykernel)",
   "language": "python",
   "name": "python3"
  },
  "language_info": {
   "codemirror_mode": {
    "name": "ipython",
    "version": 3
   },
   "file_extension": ".py",
   "mimetype": "text/x-python",
   "name": "python",
   "nbconvert_exporter": "python",
   "pygments_lexer": "ipython3",
   "version": "3.10.5"
  }
 },
 "nbformat": 4,
 "nbformat_minor": 5
}
