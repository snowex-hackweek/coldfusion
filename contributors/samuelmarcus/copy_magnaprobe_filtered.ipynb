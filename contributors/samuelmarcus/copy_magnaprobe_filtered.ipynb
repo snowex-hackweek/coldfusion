{
 "cells": [
  {
   "cell_type": "markdown",
   "id": "70e8190a-d5b7-42aa-8b05-876a1ee5b6ab",
   "metadata": {},
   "source": [
    "# Download PointData for Magnaprobe data within bounding box "
   ]
  },
  {
   "cell_type": "markdown",
   "id": "296cae49-6243-4f86-a81f-fd685c7c3e63",
   "metadata": {},
   "source": [
    "### Get database session "
   ]
  },
  {
   "cell_type": "code",
   "execution_count": 1,
   "id": "ed1772c6-636a-4724-b935-f235fc3212ae",
   "metadata": {},
   "outputs": [],
   "source": [
    "# Import the function to get connect to the db\n",
    "from snowexsql.db import get_db\n",
    "from snowexsql.data import PointData, LayerData, ImageData, SiteData\n",
    "from snowexsql.conversions import query_to_geopandas, query_to_pandas\n",
    "from snowexsql.db import get_table_attributes\n",
    "\n",
    "# Import some other tools \n",
    "# from datetime import date\n",
    "import datetime\n",
    "from sqlalchemy import inspect\n",
    "import shapely.geometry\n",
    "from geoalchemy2.shape import from_shape\n",
    "import geoalchemy2.functions as gfunc\n",
    "\n",
    "# load the database\n",
    "db_name = 'snow:hackweek@db.snowexdata.org/snowex'\n",
    "# engine, session = get_db(db_name)\n",
    "\n",
    "# print('SnowEx Database successfully loaded!')"
   ]
  },
  {
   "cell_type": "markdown",
   "id": "5626678c-8a5e-4828-8d13-573474ae220d",
   "metadata": {},
   "source": [
    "### Query the DB to see what tables are available"
   ]
  },
  {
   "cell_type": "code",
   "execution_count": 2,
   "id": "e1e2cb09-e34a-43fc-bbd8-9f2347800ee9",
   "metadata": {},
   "outputs": [
    {
     "name": "stdout",
     "output_type": "stream",
     "text": [
      "['spatial_ref_sys', 'points', 'layers', 'sites', 'images']\n"
     ]
    }
   ],
   "source": [
    "# Using the function get_db, we receive 2 ways to interact with the database\n",
    "engine, session = get_db(db_name)\n",
    "\n",
    "# Output the list of tables in the database \n",
    "tables = inspect(engine).get_table_names()\n",
    "print(tables)\n",
    "\n",
    "session.close()"
   ]
  },
  {
   "cell_type": "markdown",
   "id": "8dbf81d8-dd00-4f1b-b034-c6f4f4df5064",
   "metadata": {},
   "source": [
    "### Query a table to see what columns to use "
   ]
  },
  {
   "cell_type": "code",
   "execution_count": 3,
   "id": "9029c845-61ea-4f8e-b9c4-180c3b9b88b4",
   "metadata": {},
   "outputs": [],
   "source": [
    "# # Import the function to investigate a table\n",
    "# from snowexsql.db import get_table_attributes \n",
    "\n",
    "# # Use the function to see what columns are available to use. \n",
    "# db_columns = get_table_attributes(LayerData) \n",
    "# print(\"These are the available columns in the table:\\n \\n* {}\\n\".format('\\n* '.join(db_columns)))\n"
   ]
  },
  {
   "cell_type": "markdown",
   "id": "a59e636d-0b89-4df7-aadd-61998832bcc6",
   "metadata": {},
   "source": [
    "### Add Bounding Box "
   ]
  },
  {
   "cell_type": "code",
   "execution_count": 4,
   "id": "dd7a7519-6654-4787-bc58-b1e9dc439f90",
   "metadata": {},
   "outputs": [],
   "source": [
    "# How to pull out ALL point data from the database that falls within our box\n",
    "bbox_WSEN = 742000, 4322000, 747000, 4325000 # EPSG 26912?\n",
    "x1, y1, x2, y2 = bbox_WSEN\n",
    "polygon = shapely.geometry.Polygon([[x1, y1], [x1, y2], [x2, y2], [x2, y1]]) # used box() before\n",
    "wkb_element = from_shape(polygon, srid=26912) # which srid is right?\n"
   ]
  },
  {
   "cell_type": "markdown",
   "id": "ac5fb285-6441-44ee-8b67-7954418af2e4",
   "metadata": {},
   "source": [
    "### Filter Data"
   ]
  },
  {
   "cell_type": "code",
   "execution_count": 5,
   "id": "c0c1e425-e131-4906-9336-4b3d1e67b010",
   "metadata": {},
   "outputs": [
    {
     "name": "stdout",
     "output_type": "stream",
     "text": [
      "                             geom        easting      northing        date  \\\n",
      "0  POINT (745158.923 4322394.234)  745158.922634  4.322394e+06  2020-01-29   \n",
      "1  POINT (745158.057 4322394.207)  745158.056693  4.322394e+06  2020-01-29   \n",
      "2  POINT (745156.359 4322393.043)  745156.359374  4.322393e+06  2020-01-29   \n",
      "3  POINT (745155.424 4322395.236)  745155.424308  4.322395e+06  2020-01-29   \n",
      "4  POINT (745155.355 4322397.456)  745155.355183  4.322397e+06  2020-01-29   \n",
      "\n",
      "   value   type  instrument  \n",
      "0   95.0  depth  magnaprobe  \n",
      "1  102.0  depth  magnaprobe  \n",
      "2  100.0  depth  magnaprobe  \n",
      "3   98.0  depth  magnaprobe  \n",
      "4   90.0  depth  magnaprobe  \n",
      "4071 records returned!\n"
     ]
    }
   ],
   "source": [
    "# Instrument name \n",
    "instrument = \"magnaprobe\" \n",
    "\n",
    "# Get a session\n",
    "engine, session = get_db(db_name)\n",
    "\n",
    "# The part inside the query function is what we want back, in this case all columns for the point data\n",
    "qry = session.query(PointData.geom, PointData.easting, PointData.northing, PointData.date, PointData.value, \n",
    "                    PointData.type, PointData.instrument)\n",
    "\n",
    "# Filter by bounding box \n",
    "qry = qry.filter(gfunc.ST_Within(PointData.geom, wkb_element))\n",
    "\n",
    "# Filter by an instrument \n",
    "qry = qry.filter(PointData.instrument == instrument) # .in_(['magnaprobe', 'pit_ruler']))\n",
    "\n",
    "# Slicing the dataset for specified dates \n",
    "date1 = datetime.date(2020,1,29)\n",
    "date2 = datetime.date(2020,2,6)\n",
    "qry = qry.filter(PointData.date.in_([date1, date2]))\n",
    "\n",
    "# Execute the query and convert to geopandas in one handy function\n",
    "df = query_to_geopandas(qry, engine) #directly pass to geopandas dataframe\n",
    "print(df.head())\n",
    "\n",
    "# how many did we retrieve?\n",
    "print(f'{len(df.index)} records returned!')\n",
    "\n"
   ]
  },
  {
   "cell_type": "markdown",
   "id": "8804fda2-d47c-4756-80b1-3375418b2c90",
   "metadata": {},
   "source": [
    "# Download LayerData for Snow Pits within Bounding Box"
   ]
  },
  {
   "cell_type": "markdown",
   "id": "39fe5eba-db21-448a-ac3a-8cc5181ae569",
   "metadata": {
    "tags": []
   },
   "source": [
    "We query all Layer Data, cast these values to a float, and then compute the average. Then the query is filtered to only the data type 'density'. The output rho_avg_all is the average density of all snow pits, we also filter the query again by site_id to extract the average density of pit 1S1. These density values are then printed to the screen for comparison."
   ]
  },
  {
   "cell_type": "code",
   "execution_count": 6,
   "id": "910c5473-e28b-4813-9944-01ccd67689ce",
   "metadata": {},
   "outputs": [],
   "source": [
    "# Import the connection function from the snowexsql library\n",
    "from snowexsql.db import get_db\n",
    "\n",
    "from sqlalchemy import inspect\n",
    "\n",
    "# This is what you will use for all of hackweek to access the db\n",
    "db_name = 'snow:hackweek@db.snowexdata.org/snowex'"
   ]
  },
  {
   "cell_type": "code",
   "execution_count": 7,
   "id": "468367ca-2661-48a6-b224-9af181aef7c8",
   "metadata": {},
   "outputs": [],
   "source": [
    "# Import the class reflecting the points table in the db\n",
    "from snowexsql.data import LayerData\n",
    "\n",
    "# Import the function to investigate a table\n",
    "from snowexsql.db import get_table_attributes\n",
    "\n",
    "# Use the function to see what columns are available to use. \n",
    "db_columns = get_table_attributes(LayerData)"
   ]
  },
  {
   "cell_type": "code",
   "execution_count": 8,
   "id": "bdc4726f-51a9-4a47-8a2c-c4e03bc3919f",
   "metadata": {},
   "outputs": [],
   "source": [
    "# Import the function to get connect to the db\n",
    "from snowexsql.db import get_db\n",
    "from snowexsql.data import PointData, LayerData, ImageData, SiteData\n",
    "from snowexsql.conversions import query_to_geopandas, query_to_pandas\n",
    "from snowexsql.db import get_table_attributes\n",
    "\n",
    "# Import some other tools \n",
    "# from datetime import date\n",
    "import datetime\n",
    "from sqlalchemy import inspect\n",
    "import shapely.geometry\n",
    "from geoalchemy2.shape import from_shape\n",
    "import geoalchemy2.functions as gfunc\n",
    "\n",
    "# load the database\n",
    "db_name = 'snow:hackweek@db.snowexdata.org/snowex'\n",
    "# engine, session = get_db(db_name)\n",
    "\n",
    "# print('SnowEx Database successfully loaded!')"
   ]
  },
  {
   "cell_type": "code",
   "execution_count": null,
   "id": "57827bce-a314-4c4c-aa36-758c269d5cc1",
   "metadata": {},
   "outputs": [],
   "source": [
    "# Data Type \n",
    "data = LayerData\n",
    "\n",
    "# Measurement type  \n",
    "meas_type = \"density\" \n",
    "\n",
    "# Get a session\n",
    "engine, session = get_db(db_name)\n",
    "\n",
    "# The part inside the query function is what we want back, in this case all columns for the point data\n",
    "qry = session.query(data.geom, data.easting, data.northing, data.date, data.value, \n",
    "                    data.type, data.instrument)\n",
    "\n",
    "# Filter by bounding box \n",
    "qry = qry.filter(gfunc.ST_Within(PointData.geom, wkb_element))\n",
    "\n",
    "# Filter by an data type \n",
    "qry = qry.filter(data.type == meas_type) # .in_(['magnaprobe', 'pit_ruler']))\n",
    "\n",
    "# Slicing the dataset for specified dates \n",
    "date1 = datetime.date(2020,1,29)\n",
    "date2 = datetime.date(2020,2,6)\n",
    "qry = qry.filter(data.date.in_([date1, date2]))\n",
    "\n",
    "# Execute the query and convert to geopandas in one handy function\n",
    "df = query_to_geopandas(qry, engine) #directly pass to geopandas dataframe\n",
    "print(df.head())\n",
    "\n",
    "# how many did we retrieve?\n",
    "print(f'{len(df.index)} records returned!')\n",
    "\n",
    "session.close()"
   ]
  },
  {
   "cell_type": "code",
   "execution_count": null,
   "id": "ec64978b-e068-4c1c-bacc-2b8e1999afff",
   "metadata": {},
   "outputs": [],
   "source": [
    "# Request the average (avg) of Layer data casted as a float. We have to cast to a float in the layer table because all main values are stored as a string to\n",
    "# ...accommodate the hand hardness.\n",
    "qry = session.query(func.avg(LayerData.value.cast(Float)))\n",
    "# Filter our query only to density\n",
    "qry = qry.filter(LayerData.type=='density')\n",
    "# Request the data\n",
    "rho_avg_all = qry.all()\n",
    "# Request the Average Density of Just 1S1\n",
    "rho_avg_1s1 = qry.filter(LayerData.site_id == site_id).limit(1)\n",
    "# This is a gotcha. The data in layer data only is stored as a string to accommodate the hand hardness values\n",
    "print(f\"Average density of all pits is {rho_avg_all[0][0]:0.0f} kg/m3\")\n",
    "print(f\"Average density of pit 1S1 is {rho_avg_1s1[0][0]:0.0f} kg/m3\")\n",
    "# Cast Densities to float\n",
    "rho_avg_all = float(rho_avg_all[0][0])\n",
    "rho_avg_1s1 = float(rho_avg_1s1[0][0])"
   ]
  },
  {
   "cell_type": "markdown",
   "id": "93713c07-25c8-412c-9bf1-994c02ec1772",
   "metadata": {},
   "source": [
    "# IGNORE EVERYTHING PAST THIS POINT"
   ]
  },
  {
   "cell_type": "markdown",
   "id": "8f1ddf24-b47b-4e6f-9e7d-dccd6490f157",
   "metadata": {
    "tags": []
   },
   "source": [
    "### Create a Query"
   ]
  },
  {
   "cell_type": "code",
   "execution_count": null,
   "id": "d55d388f-2368-4b95-8b24-f15e9fe61b2d",
   "metadata": {},
   "outputs": [],
   "source": [
    "# This is what you will use for all of hackweek to access the db\n",
    "engine, session = get_db(db_name)\n",
    "\n",
    "# Lets grab a single row from the points table\n",
    "qry = session.query(PointData)\n",
    "qry = qry.filter(PointData.site_name == 'Grand Mesa')\n",
    "count = qry.count() \n",
    "print(count) \n",
    "\n",
    "# Execute that query!\n",
    "# result = qry.all()\n",
    "\n",
    "session.close()"
   ]
  },
  {
   "cell_type": "code",
   "execution_count": null,
   "id": "e76416c2-7dde-4c26-88fa-b2bf967d0188",
   "metadata": {},
   "outputs": [],
   "source": [
    "# This is what you will use for all of hackweek to access the db\n",
    "engine, session = get_db(db_name) # try to bracket this with session.close() as closely as possible as not to be kicked from the database \n",
    "\n",
    "# Its convenient to store a query like the following \n",
    "qry = session.query(PointData.instrument, PointData.date, PointData.site_name) \n",
    "\n",
    "# Then filter on it to just density profiles\n",
    "qry = qry.filter(PointData.site_name == 'Grand Mesa') # pull data from location \n",
    "qry = qry.filter(PointData.instrument == 'magnaprobe') \n",
    "# qry = qry.filter(PointData.instrument == 'pit ruler') \n",
    "# qry = qry.filter(PointData.instrument == 'Mala 1600 MHz GPR') \n",
    "# qry = qry.filter(PointData.instrument == 'Mala 1600 MHz GPR') \n",
    "# qry = qry.filter(PointData.instrument == 'pulse EKKO Pro multi-polarization 1 GHz GPR') \n",
    "\n",
    "\n",
    "# protect ourselves from a lot of data\n",
    "# qry = qry.limit(500) # only pull 5 points \n",
    "\n",
    "result = qry.all()\n",
    "# print(result)\n",
    "\n",
    "check = qry.filter(PointData.instrument == 'pit ruler')\n",
    "print(check)\n",
    "\n",
    "# Let see what instruments are available \n",
    "result = session.query(PointData.instrument).filter(PointData.type == 'depth').distinct().all()\n",
    "print('\\nInstruments Used to Measure Depth: ', result)\n",
    "\n",
    "result = session.query(PointData.instrument).filter(PointData.type == 'two_way_travel').distinct().all()\n",
    "print('\\nInstruments Used to Measure Two Way Travel: ', result)\n",
    "\n",
    "result = session.query(PointData.instrument).filter(PointData.type == 'swe').distinct().all()\n",
    "print('\\nInstruments Used to Measure SWE: ', result)\n",
    "\n",
    "result = session.query(PointData.type).distinct().all()\n",
    "print('\\nInstrument Measurement Types: ', result)\n",
    "\n",
    "result = session.query(PointData.instrument).distinct().all()\n",
    "print('\\nInstrument Types: ', result)\n",
    "\n",
    "session.close()"
   ]
  },
  {
   "cell_type": "markdown",
   "id": "435803f0-c730-40e2-827c-aed68a306fbe",
   "metadata": {},
   "source": [
    "### List Available Dates for Each Point Data Type "
   ]
  },
  {
   "cell_type": "code",
   "execution_count": null,
   "id": "05979eb8-e95a-4c78-b939-9871d75b9957",
   "metadata": {},
   "outputs": [],
   "source": [
    "# df = pd.DataFrame(columns = len(session.query(PointData.instrument).filter(PointData.type == 'depth').distinct().all()))\n",
    "\n",
    "results = session.query(PointData.date).filter(PointData.instrument == 'magnaprobe').distinct().all()\n",
    "print('\\nAvailable Dates for Magnaprobe = {}'.format(', '.join([str(r[0]) for r in results])))\n",
    "\n",
    "results = session.query(PointData.date).filter(PointData.instrument == 'Mala 1600 MHz GPR').distinct().all()\n",
    "print('\\nAvailable Dates Mala 1600 MHz GPR = {}'.format(', '.join([str(r[0]) for r in results])))\n",
    "\n",
    "results = session.query(PointData.date).filter(PointData.instrument == 'Mala 800 MHz GPR').distinct().all()\n",
    "print('\\nAvailable Dates Mala 800 MHz GPR = {}'.format(', '.join([str(r[0]) for r in results])))\n",
    "\n",
    "results = session.query(PointData.date).filter(PointData.instrument == 'pulse EKKO Pro multi-polarization 1 GHz GPR').distinct().all()\n",
    "print('\\nAvailable Dates pulse EKKO Pro multi-polarization 1 GHz GPR = {}'.format(', '.join([str(r[0]) for r in results])))\n",
    "\n",
    "results = session.query(PointData.date).filter(PointData.instrument == 'pit ruler').distinct().all()\n",
    "print('\\nAvailable Dates pit ruler = {}'.format(', '.join([str(r[0]) for r in results])))\n"
   ]
  },
  {
   "cell_type": "code",
   "execution_count": null,
   "id": "809ede8d-5b34-4678-b1f9-d2ed86abdaf3",
   "metadata": {},
   "outputs": [],
   "source": [
    "results = session.query(SiteData.date).filter(SiteData.instrument == 'magnaprobe').distinct().all()\n",
    "print('\\nAvailable Dates for Magnaprobe = {}'.format(', '.join([str(r[0]) for r in results])))\n"
   ]
  }
 ],
 "metadata": {
  "kernelspec": {
   "display_name": "Python 3 (ipykernel)",
   "language": "python",
   "name": "python3"
  },
  "language_info": {
   "codemirror_mode": {
    "name": "ipython",
    "version": 3
   },
   "file_extension": ".py",
   "mimetype": "text/x-python",
   "name": "python",
   "nbconvert_exporter": "python",
   "pygments_lexer": "ipython3",
   "version": "3.10.5"
  }
 },
 "nbformat": 4,
 "nbformat_minor": 5
}
