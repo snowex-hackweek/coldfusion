{
 "cells": [
  {
   "cell_type": "markdown",
   "id": "7a7e2a0d-32fa-40b1-b672-ef6bc99d9cd4",
   "metadata": {},
   "source": [
    "## Load Database and check how many points & instruments fall within our Polygon"
   ]
  },
  {
   "cell_type": "code",
   "execution_count": 23,
   "id": "52c7e15e-a5c6-4162-97ba-9f6823590882",
   "metadata": {},
   "outputs": [],
   "source": [
    "# database imports\n",
    "from snowexsql.db import get_db\n",
    "from snowexsql.data import PointData, LayerData, ImageData, SiteData\n",
    "from snowexsql.conversions import query_to_geopandas, query_to_pandas\n",
    "from snowexsql.db import get_table_attributes\n",
    "\n",
    "from sqlalchemy.sql import func\n",
    "\n",
    "import shapely.geometry\n",
    "from geoalchemy2.shape import from_shape\n",
    "import geoalchemy2.functions as gfunc\n"
   ]
  },
  {
   "cell_type": "code",
   "execution_count": 23,
   "id": "043d40fd-5b5b-486a-9cdd-10e5966ce948",
   "metadata": {},
   "outputs": [],
   "source": [
    "# database imports\n",
    "from snowexsql.db import get_db\n",
    "from snowexsql.data import PointData, LayerData, ImageData, SiteData\n",
    "from snowexsql.conversions import query_to_geopandas, query_to_pandas\n",
    "from snowexsql.db import get_table_attributes\n",
    "\n",
    "from sqlalchemy.sql import func\n",
    "\n",
    "import shapely.geometry\n",
    "from geoalchemy2.shape import from_shape\n",
    "import geoalchemy2.functions as gfunc\n"
   ]
  },
  {
   "cell_type": "code",
   "execution_count": 24,
   "id": "12b22adf-59b5-4ec6-bb83-5f49972f03e8",
   "metadata": {},
   "outputs": [
    {
     "name": "stdout",
     "output_type": "stream",
     "text": [
      "SnowEx Database successfully loaded!\n"
     ]
    }
   ],
   "source": [
    "# load the database\n",
    "db_name = 'snow:hackweek@db.snowexdata.org/snowex'\n",
    "engine, session = get_db(db_name)\n",
    "\n",
    "print('SnowEx Database successfully loaded!')\n",
    "\n"
   ]
  },
  {
   "cell_type": "code",
   "execution_count": 31,
   "id": "124b5657-5a5c-4640-b0be-c413c961871b",
   "metadata": {},
   "outputs": [
    {
     "name": "stdout",
     "output_type": "stream",
     "text": [
      "\n",
      "Available Instruments = None, Mala 1600 MHz GPR, Mala 800 MHz GPR, pulse EKKO Pro multi-polarization 1 GHz GPR, pit ruler, mesa, magnaprobe, camera\n",
      "3245115\n"
     ]
    }
   ],
   "source": [
    "# How to pull out ALL point data from the database that falls within our box\n",
    "bbox_WSEN = 742000, 4322000, 747000, 4325000 # EPSG 26912?\n",
    "x1, y1, x2, y2 = bbox_WSEN\n",
    "polygon = shapely.geometry.Polygon([[x1, y1], [x1, y2], [x2, y2], [x2, y1]]) # used box() before\n",
    "wkb_element = from_shape(polygon, srid=26912) # which srid is right?\n",
    "\n",
    "query = session.query(PointData)\n",
    "# We need to filter\n",
    "\n",
    "# Filter the query by bounding box (the part that doesn't work)\n",
    "query = query.filter(gfunc.ST_Within(PointData.geom, wkb_element))\n",
    "\n",
    "query = query.filter(PointData.instrument == 'pulse EKKO Pro multi-polarization 1 GHz GPR')\n",
    "\n",
    "\n",
    "# Get the unique instrument in the table\n",
    "results = session.query(PointData.instrument).distinct().all()\n",
    "print('\\nAvailable Instruments = {}'.format(', '.join([str(r[0]) for r in results])))\n",
    "\n",
    "result = query.count()\n",
    "print(result)"
   ]
  }
 ],
 "metadata": {
  "kernelspec": {
   "display_name": "Python 3 (ipykernel)",
   "language": "python",
   "name": "python3"
  },
  "language_info": {
   "codemirror_mode": {
    "name": "ipython",
    "version": 3
   },
   "file_extension": ".py",
   "mimetype": "text/x-python",
   "name": "python",
   "nbconvert_exporter": "python",
   "pygments_lexer": "ipython3",
   "version": "3.10.5"
  }
 },
 "nbformat": 4,
 "nbformat_minor": 5
}
