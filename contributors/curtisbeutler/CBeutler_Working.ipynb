{
 "cells": [
  {
   "cell_type": "markdown",
   "id": "eec611f8-9240-4f8d-aa92-175a54d23fc0",
   "metadata": {},
   "source": [
    "## Cold Fusion Working Book"
   ]
  },
  {
   "cell_type": "code",
   "execution_count": null,
   "id": "f63c1e11-bb64-4b6e-8a3c-e4c81ca62d78",
   "metadata": {},
   "outputs": [],
   "source": []
  }
 ],
 "metadata": {
  "kernelspec": {
   "display_name": "Python 3 (ipykernel)",
   "language": "python",
   "name": "python3"
  },
  "language_info": {
   "codemirror_mode": {
    "name": "ipython",
    "version": 3
   },
   "file_extension": ".py",
   "mimetype": "text/x-python",
   "name": "python",
   "nbconvert_exporter": "python",
   "pygments_lexer": "ipython3",
   "version": "3.10.5"
  }
 },
 "nbformat": 4,
 "nbformat_minor": 5
}
