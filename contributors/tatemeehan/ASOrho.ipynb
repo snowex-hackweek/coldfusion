{
 "cells": [
  {
   "cell_type": "markdown",
   "id": "5e3466b0-4076-4b87-98d8-7075094e1a16",
   "metadata": {},
   "source": [
    "## Estimate Density from ASO \n",
    "$\\rho = \\frac{z}{SWE}$"
   ]
  },
  {
   "cell_type": "code",
   "execution_count": null,
   "id": "8ed926cb-aee4-4ab5-ac66-251bc375aef5",
   "metadata": {},
   "outputs": [],
   "source": [
    "import datetime\n",
    "import pandas as pd\n",
    "import numpy as np\n",
    "import geopandas as gpd\n",
    "import matplotlib.pyplot as plt"
   ]
  },
  {
   "cell_type": "code",
   "execution_count": null,
   "id": "a3bb5325-21b6-48db-8b25-d6e6e9114eba",
   "metadata": {},
   "outputs": [],
   "source": [
    "#df= pd.read_csv(\"GPR_AND_ASO_ALL_FIXED.csv\")\n",
    "df.head()"
   ]
  },
  {
   "cell_type": "code",
   "execution_count": null,
   "id": "580d9cad-5874-422a-b7d5-188dc238d25d",
   "metadata": {},
   "outputs": [],
   "source": [
    "# How to read the ~350 MB csv file of GPR points (2-way travel time) + ASO depths/SWE/pixel centers\n",
    "dataFusion= pd.read_csv(\"GPR_AND_ASO_ALL_FIXED.csv\")\n",
    "dataFusion = gpd.GeoDataFrame(dataFusion)\n",
    "dataFusion.geometry = gpd.points_from_xy(dataFusion[\"ASO_X\"], dataFusion[\"ASO_Y\"]) # set to GPR x,y right now\n",
    "print(dataFusion.dtypes) # check that floats are floats\n",
    "dataFusion.head(10000).plot() # should see spiral"
   ]
  },
  {
   "cell_type": "code",
   "execution_count": null,
   "id": "adb42dce-05a4-4f08-b6f2-55c5fb56611e",
   "metadata": {},
   "outputs": [],
   "source": [
    "ASO.head()"
   ]
  },
  {
   "cell_type": "code",
   "execution_count": null,
   "id": "55c49bcb-9091-4a5c-8f07-5e9d9987bd9a",
   "metadata": {},
   "outputs": [],
   "source": []
  }
 ],
 "metadata": {
  "kernelspec": {
   "display_name": "Python 3 (ipykernel)",
   "language": "python",
   "name": "python3"
  },
  "language_info": {
   "codemirror_mode": {
    "name": "ipython",
    "version": 3
   },
   "file_extension": ".py",
   "mimetype": "text/x-python",
   "name": "python",
   "nbconvert_exporter": "python",
   "pygments_lexer": "ipython3",
   "version": "3.10.5"
  }
 },
 "nbformat": 4,
 "nbformat_minor": 5
}
