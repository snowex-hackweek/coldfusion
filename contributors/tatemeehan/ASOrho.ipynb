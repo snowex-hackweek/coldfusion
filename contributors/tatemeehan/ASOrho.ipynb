{
 "cells": [
  {
   "cell_type": "markdown",
   "id": "5e3466b0-4076-4b87-98d8-7075094e1a16",
   "metadata": {},
   "source": [
    "## Estimate Density from ASO \n",
    "$\\rho = \\frac{z}{SWE}$"
   ]
  },
  {
   "cell_type": "code",
   "execution_count": null,
   "id": "8ed926cb-aee4-4ab5-ac66-251bc375aef5",
   "metadata": {},
   "outputs": [],
   "source": [
    "import datetime\n",
    "import pandas as pd\n",
    "import numpy as np\n",
    "import geopandas as gpd\n",
    "import matplotlib.pyplot as plt"
   ]
  },
  {
   "cell_type": "code",
   "execution_count": null,
   "id": "a3bb5325-21b6-48db-8b25-d6e6e9114eba",
   "metadata": {},
   "outputs": [],
   "source": [
    "#df= pd.read_csv(\"GPR_AND_ASO_ALL_FIXED.csv\")\n"
   ]
  },
  {
   "cell_type": "code",
   "execution_count": null,
   "id": "580d9cad-5874-422a-b7d5-188dc238d25d",
   "metadata": {},
   "outputs": [],
   "source": [
    "# How to read the ~350 MB csv file of GPR points (2-way travel time) + ASO depths/SWE/pixel centers\n",
    "dataFusion= pd.read_csv(\"GPR_AND_ASO_ALL_FIXED.csv\")\n",
    "dataFusion = gpd.GeoDataFrame(dataFusion)\n",
    "dataFusion.geometry = gpd.points_from_xy(dataFusion[\"ASO_X\"], dataFusion[\"ASO_Y\"]) # set to GPR x,y right now\n",
    "print(dataFusion.dtypes) # check that floats are floats\n",
    "dataFusion.head(10000).plot() # should see spiral"
   ]
  },
  {
   "cell_type": "code",
   "execution_count": null,
   "id": "adb42dce-05a4-4f08-b6f2-55c5fb56611e",
   "metadata": {},
   "outputs": [],
   "source": [
    "ASO.head()"
   ]
  },
  {
   "cell_type": "markdown",
   "id": "134e851c-fcd3-408f-8e91-169b76b85335",
   "metadata": {},
   "source": [
    "## GPR Density and SnowPit Density"
   ]
  },
  {
   "cell_type": "code",
   "execution_count": null,
   "id": "66db8cb0-3110-42aa-9fc3-253f9415f233",
   "metadata": {},
   "outputs": [],
   "source": [
    "## Load .csv\n",
    "GPRLiDAR1 = pd.read_csv(\"GPRLiDAR1.csv\")\n",
    "snowPit1 = pd.read_csv(\"snow_pit_gpr1_avg.csv\")\n",
    "mp1 = pd.read_csv(\"mp_lidar1.csv\")\n",
    "mp1.head()"
   ]
  },
  {
   "cell_type": "code",
   "execution_count": null,
   "id": "c9b0e27b-26c4-4ce1-aa8a-f9df065cc14c",
   "metadata": {},
   "outputs": [],
   "source": [
    "## Summary Statistics\n",
    "print('The GPR-LiDAR mean density is', round(GPRLiDAR1.dens.mean(),2))\n",
    "print('The ASO mean density is', round(GPRLiDAR1.ASO_2020_02_02_dens.mean(),2))\n",
    "print('The Snow Pit mean density is', round(snowPit1.value.mean(),2))\n",
    "\n",
    "print('The GPR-LiDAR std density is', round(GPRLiDAR1.dens.std(),2))\n",
    "print('The ASO mean std is', round(GPRLiDAR1.ASO_2020_02_02_dens.std(),2))\n",
    "print('The Snow Pit std density is', round(snowPit1.value.std(),2))\n",
    "\n",
    "print('The GPR-LiDAR min density is', round(GPRLiDAR1.dens.quantile(.01),2))\n",
    "print('The ASO mean min is', round(GPRLiDAR1.ASO_2020_02_02_dens.quantile(.01),2))\n",
    "print('The Snow Pit min density is', round(snowPit1.value.quantile(.01),2))\n",
    "\n",
    "print('The GPR-LiDAR max density is', round(GPRLiDAR1.dens.quantile(.99),2))\n",
    "print('The ASO mean max is', round(GPRLiDAR1.ASO_2020_02_02_dens.quantile(.99),2))\n",
    "print('The Snow Pit max density is', round(snowPit1.value.quantile(.99),2))\n",
    "\n",
    "print('The GPR-LiDAR count density is', round(GPRLiDAR1.dens.count(),2))\n",
    "print('The ASO mean count is', round(GPRLiDAR1.ASO_2020_02_02_dens.count(),2))\n",
    "print('The Snow Pit count density is', round(snowPit1.value.count(),2))\n"
   ]
  },
  {
   "cell_type": "code",
   "execution_count": null,
   "id": "5ebf9ed6-0f32-4ea6-a248-14b1d724875a",
   "metadata": {},
   "outputs": [],
   "source": [
    "len(snowPit1)"
   ]
  },
  {
   "cell_type": "code",
   "execution_count": null,
   "id": "d54d1834-036b-44b6-81f7-ca1b1e866b3f",
   "metadata": {},
   "outputs": [],
   "source": [
    "import scipy.spatial as spatial"
   ]
  },
  {
   "cell_type": "code",
   "execution_count": null,
   "id": "24450e06-078f-4970-bcd0-8f454c664fc7",
   "metadata": {},
   "outputs": [],
   "source": [
    "points = np.array((snowPit1[\"easting\"],snowPit1[\"northing\"]))\n",
    "points = points.transpose()\n",
    "GPRpoints = np.array((GPRLiDAR1[\"ASO_X\"],GPRLiDAR1[\"ASO_Y\"]))\n",
    "GPRpoints = GPRpoints.transpose()\n",
    "\n",
    "#print(points)\n",
    "#print(GPRpoints)\n",
    "point_tree = spatial.cKDTree(GPRpoints)\n",
    "buffer = 25 ## 25 meters\n",
    "out = point_tree.query_ball_point(points, buffer)"
   ]
  },
  {
   "cell_type": "code",
   "execution_count": null,
   "id": "9385c34d-536a-4940-ab15-7540276c6a80",
   "metadata": {},
   "outputs": [],
   "source": [
    "outtmp = list(filter(None,out))\n",
    "len(outtmp)\n",
    "len(GPRLiDAR1.dens)"
   ]
  },
  {
   "cell_type": "code",
   "execution_count": null,
   "id": "e297613d-ee96-44ef-8f7a-28f7009361fc",
   "metadata": {},
   "outputs": [],
   "source": [
    "denseout = []\n",
    "for x in out:\n",
    "    denseout.append(GPRLiDAR1.iloc[x]['dens'].median())\n",
    "print(len(denseout))\n",
    "\n",
    "snowPit1['GPRdens'] = denseout\n",
    "\n",
    "snowPit1.head(100)"
   ]
  },
  {
   "cell_type": "code",
   "execution_count": null,
   "id": "210648c0-6dbd-47e8-bcfc-fad5258139a4",
   "metadata": {},
   "outputs": [],
   "source": [
    "## Save Snow Pit Density Matches\n",
    "snowPit1.to_csv('SnowPitGPRASO1.csv')"
   ]
  },
  {
   "cell_type": "markdown",
   "id": "721c995d-5969-415c-b624-2bb56300c378",
   "metadata": {},
   "source": [
    "## Statistics and Plots"
   ]
  },
  {
   "cell_type": "code",
   "execution_count": null,
   "id": "9a17d03f-3c4e-43e4-9f6c-03e774d405ac",
   "metadata": {},
   "outputs": [],
   "source": [
    "# Calculate the Correlation ASO Density GPR LiDAR Density\n",
    "import numpy.ma as ma\n",
    "\n",
    "#A = [1, 2, 3, 4, 5, np.NaN]\n",
    "#B = [2, 3, 4, 5.25, np.NaN, 100]\n",
    "\n",
    "#print(ma.corrcoef(ma.masked_invalid(A), ma.masked_invalid(B)))\n",
    "rGPRASO1 = ma.corrcoef(ma.masked_invalid(GPRLiDAR1.dens),ma.masked_invalid(GPRLiDAR1.ASO_2020_02_02_dens))\n",
    "print('The correlation is', round(rGPRASO1[0,1],2))\n",
    "# Calculate the Root Mean Squared Error\n",
    "rmseASOgpr1 = np.sqrt(np.mean((ma.masked_invalid(GPRLiDAR1.dens)-ma.masked_invalid(GPRLiDAR1.ASO_2020_02_02_dens))**2))\n",
    "print(rmseASOgpr1)"
   ]
  },
  {
   "cell_type": "code",
   "execution_count": null,
   "id": "8298dee3-92ee-4896-885e-08d14ac1c214",
   "metadata": {},
   "outputs": [],
   "source": [
    "# Compute the Regression Line\n",
    "m, b = np. polyfit(GPRLiDAR1.dens,GPRLiDAR1.ASO_2020_02_02_dens, 1)\n",
    "# Plot the Correlation\n",
    "plt.figure(0)\n",
    "plt.plot(GPRLiDAR1.dens,GPRLiDAR1.ASO_2020_02_02_dens,'o')\n",
    "plt.plot(GPRLiDAR1.dens, m*GPRLiDAR1.dens + b,'k')\n",
    "plt.xlabel('GPR-LiDAR Density [kg/m^3]')\n",
    "plt.ylabel('ASO Density [kg/m^3]')\n",
    "\n",
    "plt.figure(1)\n",
    "plt.hexbin(GPRLiDAR1.dens,GPRLiDAR1.ASO_2020_02_02_dens)\n",
    "plt.plot(GPRLiDAR1.dens, m*GPRLiDAR1.dens + b,'k')\n",
    "plt.xlabel('GPR-LiDAR Density [kg/m^3]')\n",
    "plt.ylabel('ASO Density [kg/m^3]')\n",
    "plt.set_cmap('magma')\n",
    "plt.savefig('ASOgprCompareDensity.png',dpi=300,bbox_inches='tight')"
   ]
  },
  {
   "cell_type": "markdown",
   "id": "ecc32de5-f769-4729-ad27-4f43681e0bd8",
   "metadata": {},
   "source": [
    "## Snow Pit Density and GPR LiDAR Density"
   ]
  },
  {
   "cell_type": "code",
   "execution_count": null,
   "id": "80dbfea6-ebad-46ed-9bf9-6932e502a302",
   "metadata": {},
   "outputs": [],
   "source": [
    "rPitGPR1 = ma.corrcoef(ma.masked_invalid(snowPit1.GPRdens),ma.masked_invalid(snowPit1.value))\n",
    "print('The correlation is', round(rPitGPR1[0,1],2))\n",
    "rmsePitgpr1 = np.sqrt(np.mean((ma.masked_invalid(snowPit1.GPRdens)-ma.masked_invalid(snowPit1.value))**2))\n",
    "print(rmsePitgpr1)"
   ]
  },
  {
   "cell_type": "code",
   "execution_count": null,
   "id": "f9bbefd0-349b-442a-a61b-7b85330f4165",
   "metadata": {},
   "outputs": [],
   "source": [
    "# Compute the Regression Line\n",
    "#m, b = np. polyfit(snowPit1.GPRdens,snowPit1.value, 1)\n",
    "# Plot the Correlation\n",
    "plt.figure(0)\n",
    "plt.plot(snowPit1.GPRdens,snowPit1.value,'o')\n",
    "#plt.plot(snowPit1.GPRdens, m*snowPit1.GPRdens + b,'k')\n",
    "plt.xlabel('GPR-LiDAR Density [kg/m^3]')\n",
    "plt.ylabel('Snow Pit Density [kg/m]')\n",
    "plt.savefig('SnowPitGprCompareDensity.png',dpi=300,bbox_inches='tight')"
   ]
  },
  {
   "cell_type": "markdown",
   "id": "d8f28c97-9d8c-4070-8c10-952bc3d7934d",
   "metadata": {},
   "source": [
    "## Snow Pit to ASO Density"
   ]
  },
  {
   "cell_type": "code",
   "execution_count": null,
   "id": "6dd87b16-2e59-47f5-bcb5-20b8a09398bd",
   "metadata": {},
   "outputs": [],
   "source": [
    "## Query the KD Tree from Before (out)\n",
    "denseout = []\n",
    "for x in out:\n",
    "    denseout.append(GPRLiDAR1.iloc[x]['ASO_2020_02_02_dens'].median())\n",
    "print(len(denseout))\n",
    "\n",
    "snowPit1['ASOdens'] = denseout\n",
    "\n"
   ]
  },
  {
   "cell_type": "code",
   "execution_count": null,
   "id": "0babc8f9-6362-41f9-9a89-3ae41ab24ad2",
   "metadata": {},
   "outputs": [],
   "source": [
    "rASOsnowPit1 = ma.corrcoef(ma.masked_invalid(snowPit1.ASOdens),ma.masked_invalid(snowPit1.value))\n",
    "print('The correlation is', round(rASOsnowPit1[0,1],2))\n",
    "rmsePitASO1 = np.sqrt(np.mean((ma.masked_invalid(snowPit1.ASOdens)-ma.masked_invalid(snowPit1.value))**2))\n",
    "print(rmsePitASO1)"
   ]
  },
  {
   "cell_type": "code",
   "execution_count": null,
   "id": "702b53b6-3a0e-4892-8990-9e4871b21f81",
   "metadata": {},
   "outputs": [],
   "source": [
    "# Compute the Regression Line\n",
    "#m, b = np. polyfit(snowPit1.GPRdens,snowPit1.value, 1)\n",
    "# Plot the Correlation\n",
    "plt.figure(0)\n",
    "plt.plot(snowPit1.ASOdens,snowPit1.value,'o')\n",
    "#plt.plot(snowPit1.GPRdens, m*snowPit1.GPRdens + b,'k')\n",
    "plt.xlabel('ASO Density [kg/m^3]')\n",
    "plt.ylabel('Snow Pit Density [kg/m]')\n",
    "plt.savefig('SnowPitASOCompareDensity.png',dpi=300,bbox_inches='tight')"
   ]
  },
  {
   "cell_type": "markdown",
   "id": "42e07136-a00b-4b95-9575-67c5822d280b",
   "metadata": {},
   "source": [
    "## Magnaprobe Comparison"
   ]
  },
  {
   "cell_type": "code",
   "execution_count": null,
   "id": "44021eca-5b5a-4791-8506-cf3e686539c1",
   "metadata": {},
   "outputs": [],
   "source": [
    "points = np.array((mp1[\"easting\"],mp1[\"northing\"]))\n",
    "points = points.transpose()\n",
    "GPRpoints = np.array((GPRLiDAR1[\"ASO_X\"],GPRLiDAR1[\"ASO_Y\"]))\n",
    "GPRpoints = GPRpoints.transpose()\n",
    "\n",
    "print(points)\n",
    "print(GPRpoints)\n",
    "point_tree = spatial.cKDTree(GPRpoints)\n",
    "buffer = 3 ## 5 meters\n",
    "out = point_tree.query_ball_point(points, buffer)\n",
    "#out = list(filter(None,out))\n",
    "#len(out)"
   ]
  },
  {
   "cell_type": "code",
   "execution_count": null,
   "id": "debd0fbf-e554-4f02-8a85-1f2ba0328d78",
   "metadata": {},
   "outputs": [],
   "source": [
    "depthout = []\n",
    "for x in out:\n",
    "    depthout.append(GPRLiDAR1.iloc[x]['ASO_2020_02_02_SD'].median())\n",
    "print(len(depthout))\n",
    "\n",
    "mp1['ASOsd'] = (depthout)\n",
    "mp1['value'] = mp1.value/100\n",
    "\n",
    "mp1.head()"
   ]
  },
  {
   "cell_type": "code",
   "execution_count": null,
   "id": "bfb9f292-feb4-4f49-8f3f-cfe74346cd1d",
   "metadata": {},
   "outputs": [],
   "source": [
    "mp1.to_csv('ProbeASO1.csv')"
   ]
  },
  {
   "cell_type": "code",
   "execution_count": null,
   "id": "b5f8f02e-07cb-4783-86c0-46ed5f2a6f98",
   "metadata": {},
   "outputs": [],
   "source": [
    "## Calculate Statistics\n",
    "rASOmp1 = ma.corrcoef(ma.masked_invalid(mp1.ASOsd),ma.masked_invalid(mp1.value))\n",
    "print('The correlation is', round(rASOmp1[0,1],2))\n",
    "rmseMPASO1 = np.sqrt(np.mean((ma.masked_invalid(mp1.ASOsd)-ma.masked_invalid(mp1.value))**2))\n",
    "print(rmseMPASO1)"
   ]
  },
  {
   "cell_type": "code",
   "execution_count": null,
   "id": "bb1d1825-5cfe-4983-ae3c-1a68ea2f113b",
   "metadata": {},
   "outputs": [],
   "source": [
    "# Compute the Regression Line\n",
    "#m, b = np. polyfit(snowPit1.GPRdens,snowPit1.value, 1)\n",
    "# Plot the Correlation\n",
    "plt.figure(0)\n",
    "plt.plot(mp1.ASOsd,mp1.value,'o')\n",
    "plt.plot(mp1.ASOsd, m*mp1.ASOsd + b,'k')\n",
    "plt.xlabel('ASO Depth [m]')\n",
    "plt.ylabel('Probe Depth [m]')\n",
    "plt.savefig('ProbeASOCompareDepth.png',dpi=300,bbox_inches='tight')"
   ]
  },
  {
   "cell_type": "code",
   "execution_count": null,
   "id": "c322fb9d-1336-4a8b-a8c7-52ee1d5e0549",
   "metadata": {},
   "outputs": [],
   "source": [
    "# Calculate the Mean Error\n",
    "bias = np.mean(GPRLiDAR1.error)\n",
    "print('The bias is', round(bias,2), 'cm')\n",
    "# Calculate the Mean Absolute Error\n",
    "mae = np.mean(np.abs(GPRLiDAR1.error))\n",
    "# Calculate the Root Mean Squared Error\n",
    "rmse = np.sqrt(np.mean((GPRLiDAR1.error)**2))\n",
    "print('The rmse is', round(rmse,2), 'cm')\n",
    "# Compute the Regression Line\n",
    "m, b = np. polyfit(GPRLiDAR1.depth,GPRLiDAR1.depthGPR, 1)\n",
    "\n",
    "# Plot the Correlation\n",
    "plt.figure(0)\n",
    "plt.plot(GPRLiDAR1.depth,GPRLiDAR1.depthGPR,'o')\n",
    "plt.plot(GPRLiDAR1.depth, m*GPRLiDAR1.depth + b,'k')\n",
    "plt.xlabel('Probe Depth [cm]')\n",
    "plt.ylabel('GPR Depth [cm]')\n",
    "\n",
    "# Plot a Histogram of the Errors\n",
    "plt.figure(1)\n",
    "plt.hist(GPRLiDAR1.error, density=True, bins=10, edgecolor='black')  # density=False would make counts\n",
    "plt.ylabel('PDF')\n",
    "plt.xlabel('Error [cm]');\n",
    "# Get the Matplotlib Axes object from the dataframe object, color points by snow depth value\n",
    "ax = GPRLiDAR1.plot(column='error', legend=True, cmap='PuBu')\n",
    "\n",
    "\n",
    "# Use non-scientific notation for x and y ticks\n",
    "ax.ticklabel_format(style='plain', useOffset=False)\n",
    "\n",
    "# Set the various plots x/y labels and title.\n",
    "ax.set_title('Error [cm] (Probed Depth - GPR Depth)')\n",
    "ax.set_xlabel('Easting [m]')\n",
    "ax.set_ylabel('Northing [m]')"
   ]
  },
  {
   "cell_type": "code",
   "execution_count": null,
   "id": "fbaff06e-f33e-4f1b-9d17-8fe37d505ed3",
   "metadata": {},
   "outputs": [],
   "source": []
  }
 ],
 "metadata": {
  "kernelspec": {
   "display_name": "Python 3 (ipykernel)",
   "language": "python",
   "name": "python3"
  },
  "language_info": {
   "codemirror_mode": {
    "name": "ipython",
    "version": 3
   },
   "file_extension": ".py",
   "mimetype": "text/x-python",
   "name": "python",
   "nbconvert_exporter": "python",
   "pygments_lexer": "ipython3",
   "version": "3.10.5"
  }
 },
 "nbformat": 4,
 "nbformat_minor": 5
}
