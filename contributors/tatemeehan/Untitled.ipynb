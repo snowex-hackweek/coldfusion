{
 "cells": [
  {
   "cell_type": "markdown",
   "id": "79b93254-d7d6-47a2-83b5-ee0b5080e375",
   "metadata": {},
   "source": [
    "### kdtree testing"
   ]
  },
  {
   "cell_type": "code",
   "execution_count": null,
   "id": "1c1e60cf-c3f7-4617-9fdc-1cfbc6b22d49",
   "metadata": {},
   "outputs": [],
   "source": [
    "import numpy as np\n",
    "from sklearn.neighbors import KDTree\n",
    "\n",
    "metrics.kd_tree.valid_metrics"
   ]
  },
  {
   "cell_type": "code",
   "execution_count": null,
   "id": "7e8b6ca8-8270-4588-9eee-a1485c32dfa0",
   "metadata": {},
   "outputs": [],
   "source": []
  }
 ],
 "metadata": {
  "kernelspec": {
   "display_name": "Python 3 (ipykernel)",
   "language": "python",
   "name": "python3"
  },
  "language_info": {
   "codemirror_mode": {
    "name": "ipython",
    "version": 3
   },
   "file_extension": ".py",
   "mimetype": "text/x-python",
   "name": "python",
   "nbconvert_exporter": "python",
   "pygments_lexer": "ipython3",
   "version": "3.10.5"
  }
 },
 "nbformat": 4,
 "nbformat_minor": 5
}
