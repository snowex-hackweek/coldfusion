{
 "cells": [
  {
   "cell_type": "markdown",
   "id": "01b24a3a-a028-4dcc-ab6b-e0eda9b78926",
   "metadata": {},
   "source": [
    "## After GPR-Lidar Fusion"
   ]
  },
  {
   "cell_type": "code",
   "execution_count": null,
   "id": "6ea08efc-6239-4516-8ba0-a07ef2040725",
   "metadata": {},
   "outputs": [],
   "source": [
    "import datetime\n",
    "import pandas as pd\n",
    "import numpy as np\n",
    "import geopandas\n",
    "import matplotlib.pyplot as plt"
   ]
  },
  {
   "cell_type": "markdown",
   "id": "39e383cc-2eb8-4ad2-b380-e498b12beeea",
   "metadata": {},
   "source": [
    "## Identify the multiple GPR points within LiDAR cells and find median TWTs\n",
    " - be sure to update CSV name\n",
    " - remoce random IX and lidar SD column when proper data updated\n",
    " - update column names "
   ]
  },
  {
   "cell_type": "code",
   "execution_count": null,
   "id": "ad73e7a0-af29-4e37-bce3-266fa058a802",
   "metadata": {},
   "outputs": [],
   "source": [
    "#import data change name based on csv file\n",
    "dataFusion = pd.read_csv('GPR_ALL.csv')\n",
    "\n",
    "dataFusion = geopandas.GeoDataFrame(dataFusion, geometry = geopandas.points_from_xy(dataFusion.easting, dataFusion.northing))\n",
    "# Make lidar X,Y the geom column \n",
    "\n",
    "# %whos - this will tell you what variables you have \n",
    "\n",
    "#filter by date to seperate 2 data sets\n",
    "date1 = '2020-02-02'\n",
    "date2 = '2020-02-04'\n",
    "dataFusion['date'] = pd.to_datetime(dataFusion['date'])\n",
    "GPR1 = dataFusion[(dataFusion['date'] <= date1)] #less than and equal to\n",
    "GPR2 = dataFusion[(dataFusion['date'] >= date2)]  #greater than and equal to this date \n",
    "print(len(GPR1), ',', len(GPR2))\n",
    "\n",
    "### THIS IS TEMPORARYYY!! Delete when we have real data\n",
    "##add fake columns for GPR to test out lidar \n",
    "#will delete when have real data\n",
    "\n",
    "lidarSD = np.ones((len(GPR1),1))\n",
    "GPR1['lidarSD'] = lidarSD\n",
    "GPR1.head()\n",
    "\n",
    "test1 = range(500000)\n",
    "test1 = np.random.choice(test1, size=len(GPR1))\n",
    "GPR1['test'] = test1\n",
    "\n",
    "test2 = range(50000)\n",
    "test2 = np.random.choice(test2, size = len(GPR2))\n",
    "GPR2['test'] = test2\n",
    "\n",
    "lidarSD = np.ones((len(GPR2),1))\n",
    "GPR2['lidarSD'] = lidarSD\n",
    "\n",
    "GPR2.head()\n",
    "#len(GPRLiDAR)"
   ]
  },
  {
   "cell_type": "code",
   "execution_count": null,
   "id": "5ad11648-5d93-491d-8242-fa0ba9df232e",
   "metadata": {},
   "outputs": [],
   "source": [
    "dataFusion.head()"
   ]
  },
  {
   "cell_type": "markdown",
   "id": "bbc7fbdc-96f6-4f3b-b1ec-7be0bd2c1903",
   "metadata": {},
   "source": [
    "Data specific for date analysis only"
   ]
  },
  {
   "cell_type": "code",
   "execution_count": null,
   "id": "57902baa-16ce-4acf-9619-02e580180cd1",
   "metadata": {},
   "outputs": [],
   "source": [
    "##Filtering by date for analysis on dates -- \n",
    "GPRLiDARdate1 = GPR1.sort_values(by ='test', ascending = True)\n",
    "GPRLiDARdate1 = GPR1.groupby(['test', 'date']).agg({'twt': 'median', 'easting': 'first', 'northing': 'first', 'lidarSD': 'first'})\n",
    "\n",
    "GPRLiDARdate2 = GPR2.sort_values(by ='test', ascending = True)\n",
    "GPRLiDARdate2 = GPR2.groupby(['test', 'date']).agg({'twt': 'median', 'easting': 'first', 'northing': 'first', 'lidarSD': 'first'})\n",
    "length = len(GPRLiDARdate2)\n",
    "print(length)"
   ]
  },
  {
   "cell_type": "markdown",
   "id": "fdc34a26-2c31-459b-a64a-f1ebc3b4fff0",
   "metadata": {},
   "source": [
    "Data we have grouped fully based on lidar cell!"
   ]
  },
  {
   "cell_type": "code",
   "execution_count": null,
   "id": "34181f2c-d33e-4320-9e0f-7bac6dc2322a",
   "metadata": {},
   "outputs": [],
   "source": [
    "##Filtering ignoring different dates. \n",
    "GPRLiDAR1 = GPR1.sort_values(by ='test', ascending = True)\n",
    "GPRLiDAR1 = GPR1.groupby(['test']).agg({'twt': 'median', 'easting': 'first', 'northing': 'first', 'lidarSD': 'first', 'date': 'mean'})\n",
    "\n",
    "GPRLiDAR2 = GPR2.sort_values(by ='test', ascending = True)\n",
    "GPRLiDAR2 = GPR2.groupby(['test']).agg({'twt': 'median', 'easting': 'first', 'northing': 'first', 'lidarSD': 'first', 'date': 'mean'})\n",
    "length = len(GPRLiDAR2)\n",
    "print(length)"
   ]
  },
  {
   "cell_type": "code",
   "execution_count": null,
   "id": "8a269d42-2116-486a-b841-dcf1a64d2f53",
   "metadata": {},
   "outputs": [],
   "source": [
    "GPRLiDAR1.head()"
   ]
  },
  {
   "cell_type": "markdown",
   "id": "9c0f87fb-3a32-4a33-a8b5-d64d6fb1d10d",
   "metadata": {},
   "source": [
    "## Calculate snow density \n",
    "- eq 1. hs = TWT(v)/2  hs = Lidar snow depth, TWT = gpr two way travel time, V = wave speed\n",
    "- eq 2. V = C/ sqrt(e),  V = wave speed, C = speed of light (0.3m/ns), e = dielectric permittivity\n",
    "- eq 3. e = (1+0.845d)^2  Kovacs et al. 1995 d = density (kg/m3 /1000)\n",
    "\n",
    "re-arrange eq 1.\n",
    "- V = hs(2)/TWT\n",
    "\n",
    "re-arrange eq 2.\n",
    "- e = C^2/V^2\n",
    "\n",
    "re-arrange eq 3.\n",
    "- d = (sqrt(e)-1)/0.845\n",
    "\n",
    "- update lidarSD column name "
   ]
  },
  {
   "cell_type": "code",
   "execution_count": null,
   "id": "8ac5efc1-0d14-431d-8403-4b832a160b91",
   "metadata": {},
   "outputs": [],
   "source": [
    "#First calculation 1\n",
    "#V = wave speed\n",
    "GPRLiDAR1['v']= (GPRLiDAR1[\"lidarSD\"]*2)/GPRLiDAR1[\"twt\"]\n",
    "GPRLiDAR2['v']= (GPRLiDAR2[\"lidarSD\"]*2)/GPRLiDAR2[\"twt\"]\n",
    "\n",
    "## date specific data set\n",
    "GPRLiDARdate2['v']= (GPRLiDARdate2[\"lidarSD\"]*2)/GPRLiDARdate2[\"twt\"]\n",
    "GPRLiDARdate1['v']= (GPRLiDARdate1[\"lidarSD\"]*2)/GPRLiDARdate1[\"twt\"]"
   ]
  },
  {
   "cell_type": "code",
   "execution_count": null,
   "id": "c451a511-4e29-44d1-b30e-27c441cf9627",
   "metadata": {},
   "outputs": [],
   "source": [
    "#second Calculation \n",
    "#e = dielectric permitivity\n",
    "GPRLiDAR1['e'] = 0.3**2/(GPRLiDAR1['v']**2)\n",
    "GPRLiDAR2['e'] = 0.3**2/(GPRLiDAR2['v']**2)\n",
    "\n",
    "## date specific data set\n",
    "GPRLiDARdate2['e'] = 0.3**2/(GPRLiDARdate2['v']**2)\n",
    "GPRLiDARdate1['e'] = 0.3**2/(GPRLiDARdate1['v']**2)"
   ]
  },
  {
   "cell_type": "code",
   "execution_count": null,
   "id": "e5cb486e-a48c-4fca-8bfa-9f6f56aeafa4",
   "metadata": {},
   "outputs": [],
   "source": [
    "#third calculation\n",
    "# density\n",
    "# d = (sqrt(e)-1)/0.845\n",
    "GPRLiDAR1['dens'] = (((GPRLiDAR1['e'])**(1/2))-1)/0.845\n",
    "#convert units to kg/m^3\n",
    "GPRLiDAR1['dens'] = GPRLiDAR1['dens']*1000\n",
    "\n",
    "GPRLiDAR2['dens'] = (((GPRLiDAR2['e'])**(1/2))-1)/0.845\n",
    "#convert units to kg/m^3\n",
    "GPRLiDAR2['dens'] = GPRLiDAR2['dens']*1000\n",
    "\n",
    "##date specific dataset\n",
    "GPRLiDARdate1['dens'] = (((GPRLiDARdate1['e'])**(1/2))-1)/0.845\n",
    "#convert units to kg/m^3\n",
    "GPRLiDARdate1['dens'] = GPRLiDARdate1['dens']*1000\n",
    "\n",
    "GPRLiDARdate2['dens'] = (((GPRLiDARdate2['e'])**(1/2))-1)/0.845\n",
    "#convert units to kg/m^3\n",
    "GPRLiDARdate2['dens'] = GPRLiDARdate2['dens']*1000"
   ]
  },
  {
   "cell_type": "code",
   "execution_count": null,
   "id": "a547fba9-e59d-44e7-8eb8-795182abdd06",
   "metadata": {},
   "outputs": [],
   "source": [
    "GPRLiDAR1.head()"
   ]
  },
  {
   "cell_type": "markdown",
   "id": "8fc8f3f5-44ff-4f55-b0d6-c91b5ab0f1f3",
   "metadata": {},
   "source": [
    "## Simple Median Filter to remove \n",
    "- running median filter using a buffer\n"
   ]
  },
  {
   "cell_type": "code",
   "execution_count": null,
   "id": "e6036f61-6dfb-4062-bf15-ccc7881d5527",
   "metadata": {},
   "outputs": [],
   "source": [
    "import scipy.spatial as spatial\n",
    "tmp = GPRLiDAR1[0:1000000:100]\n"
   ]
  },
  {
   "cell_type": "code",
   "execution_count": null,
   "id": "a85e01b4-b4ba-4d20-a6fd-9fdc9e62c936",
   "metadata": {},
   "outputs": [],
   "source": [
    "#points = np.array((GPRLiDAR1[\"easting\"],GPRLiDAR1[\"northing\"]))\n",
    "points = np.array((tmp[\"easting\"],tmp[\"northing\"]))\n",
    "points = points.transpose()\n",
    "print(points)\n",
    "point_tree = spatial.cKDTree(points)\n",
    "buffer = 25\n",
    "out = point_tree.query_ball_point(points, 25)"
   ]
  },
  {
   "cell_type": "code",
   "execution_count": null,
   "id": "5ecb7655-171f-48b6-88b1-145f25457607",
   "metadata": {},
   "outputs": [],
   "source": [
    "denseout = []\n",
    "for x in out:\n",
    "    denseout.append(tmp.iloc[x]['dens'].median())\n",
    "len(denseout)"
   ]
  },
  {
   "cell_type": "markdown",
   "id": "3a5aa430-116b-439b-9cc2-e320cfd272f5",
   "metadata": {},
   "source": [
    "## Calculate SWE\n",
    "- GPR density (kg/m3)\n",
    "- LiDAR Snow Depth (cm)\n",
    "\n",
    "- SWE (cm) = LiDAR SD (cm) * GPR Density (g/cm3)"
   ]
  },
  {
   "cell_type": "code",
   "execution_count": null,
   "id": "2aded251-71cf-47f0-96f7-ccc2cfa63a44",
   "metadata": {},
   "outputs": [],
   "source": [
    "## all dates of same location between two time frames data \n",
    "GPRLiDAR1['SWE'] = GPRLiDAR1['lidarSD'] * (GPRLiDAR1['dens']/1000)\n",
    "GPRLiDAR2['SWE'] = GPRLiDAR2['lidarSD'] * (GPRLiDAR2['dens']/1000)\n",
    "\n",
    "##dates only filtered by\n",
    "GPRLiDARdate1['SWE'] = GPRLiDARdate1['lidarSD'] * (GPRLiDARdate1['dens']/1000)\n",
    "GPRLiDARdate2['SWE'] = GPRLiDARdate2['lidarSD'] * (GPRLiDARdate2['dens']/1000)\n",
    "\n",
    "GPRLiDARdate1.head()"
   ]
  },
  {
   "cell_type": "markdown",
   "id": "d2a61c60-2796-4178-bcd8-95b5044b2891",
   "metadata": {},
   "source": [
    "## Export CSV with new values\n",
    "Table should include:\n",
    "- ASO X \n",
    "- ASO Y\n",
    "- ASO snow depth\n",
    "- ASO SWE\n",
    "- GPR TWT\n",
    "- GPR Density\n",
    "- GPR/LiDAR SWE\n",
    "\n"
   ]
  },
  {
   "cell_type": "code",
   "execution_count": null,
   "id": "ab504320-104b-4b98-814a-b10733495f3b",
   "metadata": {},
   "outputs": [],
   "source": [
    "## GPRLiDAR1 = January 28th - February 2nd ( Flight February 2nd 2020)\n",
    "GPRLiDAR1.to_csv('GPRLiDAR1.csv')\n",
    "## GPRLiDAR2 = Febraury 4 - February 9 (Flight February 13th 2020\n",
    "GPRLiDAR2.to_csv('GPRLiDAR2.csv')\n",
    "\n",
    "##filtered by dates and lidar cell location\n",
    "GPRLiDARdate1.to_csv('GPRLiDARdate1.csv')\n",
    "GPRLiDARdate2.to_csv('GPRLiDARdate2.csv')\n"
   ]
  },
  {
   "cell_type": "code",
   "execution_count": null,
   "id": "879c3710-00a2-491f-b9f0-f3ff2a5d2b38",
   "metadata": {},
   "outputs": [],
   "source": []
  }
 ],
 "metadata": {
  "kernelspec": {
   "display_name": "Python 3 (ipykernel)",
   "language": "python",
   "name": "python3"
  },
  "language_info": {
   "codemirror_mode": {
    "name": "ipython",
    "version": 3
   },
   "file_extension": ".py",
   "mimetype": "text/x-python",
   "name": "python",
   "nbconvert_exporter": "python",
   "pygments_lexer": "ipython3",
   "version": "3.10.5"
  }
 },
 "nbformat": 4,
 "nbformat_minor": 5
}
