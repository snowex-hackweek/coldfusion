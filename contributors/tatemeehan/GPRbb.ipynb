{
 "cells": [
  {
   "cell_type": "markdown",
   "id": "d4883448-158a-4e6f-9cf4-5b4db4580697",
   "metadata": {},
   "source": [
    "## GPR Query within Bounding Box"
   ]
  },
  {
   "cell_type": "code",
   "execution_count": null,
   "id": "4586dd32-9a33-4b37-bbce-fcbd33bc5a20",
   "metadata": {},
   "outputs": [],
   "source": [
    "## Import our DB access function\n",
    "from snowexsql.db import get_db\n",
    "\n",
    "# Import the two tables we need GPR ---> PointData, Density (Pits) --> LayerData \n",
    "from snowexsql.data import PointData, LayerData\n",
    "from snowexsql.conversions import query_to_geopandas\n",
    "\n",
    "# Import to make use of the postgis functions on the db that are not necessarily in python \n",
    "from sqlalchemy import func, Float\n",
    "# Import datetime module to filter by a date\n",
    "import datetime \n",
    "\n",
    "\n",
    "# use numpy to calculate the average of the density results \n",
    "import numpy as np \n",
    "\n",
    "# Import matplotlib\n",
    "import matplotlib.pyplot as plt\n",
    "%config InlineBackend.figure_format='retina'\n",
    "\n",
    "# This is what you will use for all of hackweek to access the db\n",
    "db_name = 'snow:hackweek@db.snowexdata.org/snowex'\n",
    "\n",
    "# Get a session\n",
    "engine, session = get_db(db_name)\n",
    "\n"
   ]
  }
 ],
 "metadata": {
  "kernelspec": {
   "display_name": "Python 3 (ipykernel)",
   "language": "python",
   "name": "python3"
  },
  "language_info": {
   "codemirror_mode": {
    "name": "ipython",
    "version": 3
   },
   "file_extension": ".py",
   "mimetype": "text/x-python",
   "name": "python",
   "nbconvert_exporter": "python",
   "pygments_lexer": "ipython3",
   "version": "3.10.5"
  }
 },
 "nbformat": 4,
 "nbformat_minor": 5
}
