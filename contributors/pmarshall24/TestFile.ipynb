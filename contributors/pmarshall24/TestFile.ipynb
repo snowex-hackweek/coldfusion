{
 "cells": [
  {
   "cell_type": "code",
   "execution_count": 1,
   "id": "ca1ab473-6f8e-44c6-88f6-b2c97eb4f8ff",
   "metadata": {},
   "outputs": [
    {
     "data": {
      "text/plain": [
       "'test file'"
      ]
     },
     "execution_count": 1,
     "metadata": {},
     "output_type": "execute_result"
    }
   ],
   "source": [
    "\"test file\""
   ]
  },
  {
   "cell_type": "code",
   "execution_count": null,
   "id": "ddeb8693-c444-4ebe-b918-28ee8c5036da",
   "metadata": {},
   "outputs": [],
   "source": []
  }
 ],
 "metadata": {
  "kernelspec": {
   "display_name": "Python 3 (ipykernel)",
   "language": "python",
   "name": "python3"
  },
  "language_info": {
   "codemirror_mode": {
    "name": "ipython",
    "version": 3
   },
   "file_extension": ".py",
   "mimetype": "text/x-python",
   "name": "python",
   "nbconvert_exporter": "python",
   "pygments_lexer": "ipython3",
   "version": "3.10.5"
  }
 },
 "nbformat": 4,
 "nbformat_minor": 5
}
