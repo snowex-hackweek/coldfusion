{
 "cells": [
  {
   "cell_type": "markdown",
   "id": "9a3fa049-3538-4f99-8d55-d35923352844",
   "metadata": {},
   "source": [
    "Attempting to contribute to the data validation component"
   ]
  },
  {
   "cell_type": "code",
   "execution_count": 1,
   "id": "ee74335d-fa30-4ff2-90bd-6ac500e20e89",
   "metadata": {},
   "outputs": [],
   "source": [
    "# Import the function to get connect to the db\n",
    "from snowexsql.db import get_db\n",
    "\n",
    "# This is what you will use for all of hackweek to access the db\n",
    "db_name = 'snow:hackweek@db.snowexdata.org/snowex'"
   ]
  },
  {
   "cell_type": "code",
   "execution_count": null,
   "id": "6d5c3d55-8510-42c8-bf4d-0071d5c3a2ba",
   "metadata": {},
   "outputs": [],
   "source": []
  }
 ],
 "metadata": {
  "kernelspec": {
   "display_name": "Python 3 (ipykernel)",
   "language": "python",
   "name": "python3"
  },
  "language_info": {
   "codemirror_mode": {
    "name": "ipython",
    "version": 3
   },
   "file_extension": ".py",
   "mimetype": "text/x-python",
   "name": "python",
   "nbconvert_exporter": "python",
   "pygments_lexer": "ipython3",
   "version": "3.10.5"
  }
 },
 "nbformat": 4,
 "nbformat_minor": 5
}
